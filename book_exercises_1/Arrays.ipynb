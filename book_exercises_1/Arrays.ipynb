{
  "nbformat": 4,
  "nbformat_minor": 0,
  "metadata": {
    "colab": {
      "name": "Arrays.ipynb",
      "provenance": [],
      "collapsed_sections": []
    },
    "kernelspec": {
      "name": "python3",
      "display_name": "Python 3"
    }
  },
  "cells": [
    {
      "cell_type": "markdown",
      "metadata": {
        "id": "1ShwvEfnfxdB",
        "colab_type": "text"
      },
      "source": [
        "Importing Array using Array module\n",
        "\n",
        "arrayname=array(type_code,[elements])\n",
        "\n",
        "type_code  ctype\n",
        "\n",
        "'i'        signed integer\n",
        "\n",
        "other examples\n"
      ]
    },
    {
      "cell_type": "code",
      "metadata": {
        "colab_type": "code",
        "id": "NVmxSQabg1Yy",
        "colab": {}
      },
      "source": [
        "arr_name_1=array.array()"
      ],
      "execution_count": null,
      "outputs": []
    },
    {
      "cell_type": "code",
      "metadata": {
        "id": "7ZkoTc6wgkag",
        "colab_type": "code",
        "colab": {}
      },
      "source": [
        "import array"
      ],
      "execution_count": 2,
      "outputs": []
    },
    {
      "cell_type": "code",
      "metadata": {
        "id": "ZdTBkt3igohq",
        "colab_type": "code",
        "colab": {}
      },
      "source": [
        "arr_name_1=array.array('i',[10,20,30,40])"
      ],
      "execution_count": 3,
      "outputs": []
    },
    {
      "cell_type": "code",
      "metadata": {
        "id": "OJzpZ514hCIH",
        "colab_type": "code",
        "colab": {
          "base_uri": "https://localhost:8080/",
          "height": 34
        },
        "outputId": "1fe14bdd-a64e-47e5-cf29-96ddffc12b7b"
      },
      "source": [
        "arr_name_1"
      ],
      "execution_count": 4,
      "outputs": [
        {
          "output_type": "execute_result",
          "data": {
            "text/plain": [
              "array('i', [10, 20, 30, 40])"
            ]
          },
          "metadata": {
            "tags": []
          },
          "execution_count": 4
        }
      ]
    },
    {
      "cell_type": "code",
      "metadata": {
        "id": "SsCWZGIphDaw",
        "colab_type": "code",
        "colab": {
          "base_uri": "https://localhost:8080/",
          "height": 103
        },
        "outputId": "f614a700-527f-47f8-9e75-1edb5ac1277a"
      },
      "source": [
        "#WAP to create interger array\n",
        "import array\n",
        "arr_name_2=array.array('i',[10,20,30,40,50])\n",
        "for i in arr_name_2:\n",
        "  print(i)"
      ],
      "execution_count": 5,
      "outputs": [
        {
          "output_type": "stream",
          "text": [
            "10\n",
            "20\n",
            "30\n",
            "40\n",
            "50\n"
          ],
          "name": "stdout"
        }
      ]
    },
    {
      "cell_type": "code",
      "metadata": {
        "id": "nXpiS08whRPY",
        "colab_type": "code",
        "colab": {
          "base_uri": "https://localhost:8080/",
          "height": 68
        },
        "outputId": "c2c1d141-8491-4bfc-9bde-fd73f73792b2"
      },
      "source": [
        "#wap to create group of charectors\n",
        "import array\n",
        "arr_name_3=array.array('u',['a','b','c'])\n",
        "for ch in arr_name_3:\n",
        "  print(ch)"
      ],
      "execution_count": 6,
      "outputs": [
        {
          "output_type": "stream",
          "text": [
            "a\n",
            "b\n",
            "c\n"
          ],
          "name": "stdout"
        }
      ]
    },
    {
      "cell_type": "code",
      "metadata": {
        "id": "PvNj1ljniKX2",
        "colab_type": "code",
        "colab": {}
      },
      "source": [
        "#wap to create array from other array\n",
        "arr_name_4=array.array('i',[10,20,30,40,50,60,70])\n",
        "\n",
        "arr_name_5=array.array(arr_name_4.typecode,(a*3 for a in arr_name_4))\n",
        "\n",
        "\n"
      ],
      "execution_count": 7,
      "outputs": []
    },
    {
      "cell_type": "code",
      "metadata": {
        "id": "D5MShOkFsygF",
        "colab_type": "code",
        "colab": {
          "base_uri": "https://localhost:8080/",
          "height": 34
        },
        "outputId": "ffbdcb7b-5385-4d65-fd7c-79b9577b88cc"
      },
      "source": [
        "arr_name_5"
      ],
      "execution_count": 8,
      "outputs": [
        {
          "output_type": "execute_result",
          "data": {
            "text/plain": [
              "array('i', [30, 60, 90, 120, 150, 180, 210])"
            ]
          },
          "metadata": {
            "tags": []
          },
          "execution_count": 8
        }
      ]
    },
    {
      "cell_type": "markdown",
      "metadata": {
        "id": "4Oo3g6EYs8iY",
        "colab_type": "text"
      },
      "source": [
        "## Indexing and Sliceing"
      ]
    },
    {
      "cell_type": "code",
      "metadata": {
        "id": "Dj6fpa7Us_YZ",
        "colab_type": "code",
        "colab": {
          "base_uri": "https://localhost:8080/",
          "height": 120
        },
        "outputId": "4f317a0f-0d49-4587-b1db-706c895a7e20"
      },
      "source": [
        "#wap to retrive elemts of an array using index\n",
        "\n",
        "a1=array.array('i',[10,20,300,40,50,600])\n",
        "for i in range(len(a1)):\n",
        "  #print(a1[i],end='\\t')\n",
        "  #print('element={}'.format(a1[i]))\n",
        "  #print('\\n')\n",
        "  print('element=',i,'value is ',a1[i],end='\\n')"
      ],
      "execution_count": 9,
      "outputs": [
        {
          "output_type": "stream",
          "text": [
            "element= 0 value is  10\n",
            "element= 1 value is  20\n",
            "element= 2 value is  300\n",
            "element= 3 value is  40\n",
            "element= 4 value is  50\n",
            "element= 5 value is  600\n"
          ],
          "name": "stdout"
        }
      ]
    },
    {
      "cell_type": "code",
      "metadata": {
        "id": "pPWAxZCetUaJ",
        "colab_type": "code",
        "colab": {
          "base_uri": "https://localhost:8080/",
          "height": 34
        },
        "outputId": "ac149ae0-ae03-4a8d-bc3f-b003c46e3828"
      },
      "source": [
        "#wap to fetch elements using for loop\n",
        "a=array.array('i',[1,2,3,4,5,6])\n",
        "i=0\n",
        "while i<len(a):\n",
        "  print(a[i],end=' ')\n",
        "  i+=1"
      ],
      "execution_count": 10,
      "outputs": [
        {
          "output_type": "stream",
          "text": [
            "1 2 3 4 5 6 "
          ],
          "name": "stdout"
        }
      ]
    },
    {
      "cell_type": "markdown",
      "metadata": {
        "id": "pCYss_DFxSWD",
        "colab_type": "text"
      },
      "source": [
        "## Sliceing\n",
        "\n",
        "array_name[start:stop:stride]\n",
        "\n",
        "start starts from 0\n",
        "\n",
        "stop ends to n-1 elemnts\n",
        "\n",
        "stride is stride\n",
        "\n",
        "start,stop,stride can be posive and negative\n",
        "\n",
        "\n",
        "![image.png](data:image/png;base64,iVBORw0KGgoAAAANSUhEUgAAAtYAAAG4CAYAAABhBqBxAAAgAElEQVR4Aey9T+hux3nneaSbjokdBfVohIOitDXmdl/7+t63pfHCbWISRU6aG+n+8SwG0jstxoshDKhXjSFmNDCkCUwQBBoashBZdi9GswhDyMY0eLLoBC5NCB1HaV8sqVdZuLdeeficW8+r+tWvqk5VnTp/3vf9vvByzqlTf576PvXnW895Tp1h0E8ICAEhIASEgBAQAkJACAgBISAEhIAQEAJCQAgIASEgBISAEBACQkAICAEhIASEgBAQAkJACAgBISAEhIAQEAJCQAgIASEgBISAEOiBwKvDMHyrISPSkFY/ISAEhIAQEAJCQAgIgQtB4L1hGL43DMPbF1Lfmmq+8swzz/yU/zAM71QkfNtLJ3JdAZyiCgEhIASEgBAQAkKgJwKve6SsZ76pvL7niOO7qQgrho+yWP2dXE8c8YfYPr+iLBT1qskSIdYsRlILkne8dCLWKytNxQkBISAEhIAQEAJCwBAQsXZWYiOndhyG4fEG5BqXjmuk3pMptSAhjZ4CWKvWUQgIASEgBISAEBACGyBQQ6yxhr5eISMW3zB+qcWaspa2vqZkQeYfQ2aHYXg/U99XXP1KLdsWn2PVr4BYl+Rn5ZfKa3nWpgO/UO+Wl45CQAgIASEgBISAEDhbBFLE+l1HLM394ImROxeOr3SKoEGqHgfxyQeinCKzAAyBe99P58qC3PplcW7EFzn83+gWMQwDLh1+Gj+Onedksfr/2CJ7R6zGIR5Yt1MvHYJHGB/5rsW3unvE9Kgfu2dHT55jHC/MP62R188LfcX0GFsYgPV7Jpsd3cJkSg++rDoXAkJACAgBISAEhMDJIuATKb8SR2IJSYLIOh/fkdC6sA/8BO78+CKdiwPhHMmZy2MkmMMwhC4NkDg/79Gn2CNolO8TtG9598w6yn0j3BYWEfEYNEmsXR2OCYZh+MArd/THtmsXN3zp0MfX/LePJNsj0GMZlpcXflyMuPwtD/Cxn1+GhdlxjryGJWX5MiODrwvKGrF0Moa682U1uXQUAkJACAgBISAEhMDZIZAiZSOxdkQpdIc4WpUDdw2f2EKofcsmRNcnziGxNpIb+jWThxHzkKCNpNFZp1HMKBfkt1BLVmYoC8ktb79MHxOfQFNvHxOf1JtM1Mt+xLc6XZE1QqzHNF54TNYSHZbK6+cV6uK4aApervR3M/Gt8H58Fgj6CQEhIASEgBAQAkLgrBHwiZRfUZ9EhtZJ4sUsz+aGEVqXLV+/LJ8g+rth+GQ8ls6/z7lZVY0Ip8q2vPyjEWvIM/LY/+j+ELhrxOocy88ny0asQysvskPArxBOj0D75Hzwwn3crGwfVwvj2CKvn5dPki1fq4+/4PCJtU/gSUM9+MfakOWpoxAQAkJACAgBISAEzgIBn0j5FTJXEJ9A+feNlPpEz8JSaUgfI3s+iTdye+XoEcsrhBPLqd3jGBBhX97Y+Sivn97OnRXcJ5Y++Q9lsLwNM8i9/Xx8Cccn3M/X4o1Hr/wrZXjhPt6W1i/DwnrIa3n5R6tjqOMjls5lCILtL4L8PHQuBISAEBACQkAICIGzRCBGyqhoikAZCEaifaIXC7P4dozFORJrI5Cpo+d7bPlxNLKOVbjmZ7Lg6gKRtf8VK7LLMIWTX14qDvmOZVm9sLRH/Mx9y/RcYp2SZUreqXSpdoFFmrZwdPehro5kx/D05dC5EBACQkAICAEhIATOAoEUkUoRKKu0kVKfWJs7RmjNtDQcjQT76XwXEiO3qWPoUnB8idERudAVwS87PI/VIYxj160WYEvPEQsu8vmuJld2NfGI91xi3Spvqj1YPabaBfGwyLNYMTcdFhGyXhuCOgoBISAEhIAQEAJni0CKSE0RqBgpPbplJIiUX5ZPrH0SGCNghBnR9hUByTbyZr6/NSQuVgc///DcyvJl9+PYosF/2ZOPthD/ClE2FxZnuT7m0ZFYk2eLvL6OjnJ5J7F2gX6oY4gL+jFMahY8XnE6FQJCQAgIASEgBITA6SCQIlIxAuXXKkZKfaI7Z1cQn1zjRmDkLLSEm4Xc9tS2eP7Lg77M4XmsDmEc/3rExFnG/a8cUu+R2Lt7vuuDEf7w5UXDl4XA8Zci1mbldj7ax/juJKvDSnlTeVmZJrevi9TLi357ELE2BHUUAkJACAgBISAEzhaBFJGKESgfhBQpDV0zINhGeCGRdh5aNyHTo4XVEUGI21iGuyYtRM1+YznO4mvhfl2SLwhaBpZ/xNLqRbl2OpJ5JxNk+ShjhMCSGJJtlmPqQL18V5ArOJCHyye0cB+JuxfHhPPrbWF2rJU3lxd5ptrFUT7q5+rp19t0ZHLpKASEgBAQAkJACAiBs0MgRaRSBMoASBFr7kMKQ8KJFRmSmUsH+Tr65noEkjCfmHFupM23HFO2WYhDIm5y+8ecLH688BwyPC4QPBkhzCEZtnTHenvxke8KqSaydz/M6xo2ljnleum84ONpjbyTeVGWI87HAtwJ5RwXR14834IfptG1EBACQkAICAEhIASEQCECIUEsTDaS8L0TMshubf2I77u6lOLRI16LvC3lUr9aXFrKURohIASEgBAQAkJACAgBISAEhIAQEAJCQAgIASEgBISAEBACQkAICAEhIASEgBAQAkJACAgBISAEhIAQEAJCQAgIASFwqgj8wjAMvPBmf671EwJCQAgIASEgBISAEBACQqASARHrSsAUXQgIASEgBISAEBACQkAIxBAQsY6hojAhIASEgBAQAkJACAgBIVCJgIh1JWCKLgSEgBAQAkJACAgBISAEYgiIWMdQUZgQOC8E2Hd+y33azwtN1UYICAEhIASEQAIBEesEMAoWAjtHgC+b8kXN1N8Xv/VLpn4e53BuH2JikcG5fkJACAgBISAEuiIgYt0VTmUmBFZDYCTLfJ4+9g+kELF+CsjrhpW+QBq0EF0KASEgBIRAFwRErLvAqEyEwOoIGFn+XsJq7QtkcbFuX/JPxPqSta+6CwEhIARWQEDEegWQVYQQWACBGrI8FRfXCEg3JP39YRjeybhKmOvJK8Mw4Lv9nkvH8VtBPbkmP/LlPuXkfuRJ/h+4P+eExX4pOSgPN5nwR9nvexZr4pFHLG6YVtdCQAgIASEgBIoQELEugkmRhMDuEJgiy77Aqbj4GY/3jHDacRiGH0eI8uDdP5JUC+PoiDRlf+CH27kj2L5sdv6exQmPjgBbvPFocXyybGEcHZn307zr37fzSDw/jc6FgBAQAkJACFQhIGJdBZciC4HdIJAiyzEBU3EtHBKNlRqrLlZmPxyr9PFnhNSRVyzLxOd/JNLDMDxx97EKkydW4TFPFx5aro+k17NshxbmK5blQjmwSNsPy/c7ls6r75X6WWQdhYAQEAJCQAi0ICBi3YKa0giB7REw8hvzsQ7dJyyuTzR9f+MYubQ0kOfjzyOmlBv+fHLtl2XxjHD7eWI1/7Ej3JD78DeSbmdBP94rkQOCf0zw9MSvc0jug6i6FAJCQAgIASFQj4CIdT1mSiEE9oDA0QJsJNOOEV9mI8k+2R1dOTKuEN/y8jvW1wu7YkF2EXziGiPrRpJ9Uv62l+exHO/kee/+kQx7YVNyeFkNvnzHvPwIOhcCQkAICAEhMAcBEes56CmtENgOASPLrRbrJDE30mpHv4peWIyY+sTVT2bnvsvHtTDLO3X0FwwWxw+zDAnz7nvBV8Jj8vtxdS4EhIAQEAJCoBoBEetqyJRACOwCASPWvhU6JVgsroXhLgE5z/2P+XqENUZMU4TW0ieJtXP1yMnAvaMVvFEOX76Y/CanjkJACAgBISAEmhAQsW6CTYmEwOYIGDFuJdbjLhwZV5BoBRsJreUVI9ZRlxNLkDo2yiFinQJU4UJACAgBIdAFARHrLjAqEyGwOgJzibVPMo+WYK8WvGCIlfgKcW8ktJZtjFhPvrzo5PBfePS3/YtZnv26WdkcX52Q34+rcyEgBISAEBAC1QiIWFdDpgRCYBcIGLG2Le0gmP7fF9LiXiHJtkWec8PgHunZOu8xBNSFXyHdE8Q0RWhNlhix5p6/DZ5fH3+XkSsvKbbK4aWDqFPnK/maoDoKASEgBISAEGhBQMS6BTWlEQJ9ETBCjPW29DeSZSOK4THIJEWsKe9IXv08HKmGZF/5WZzKlwYtjxSx5v7xnpVhx9BqTmTvHtiFvxzBv/IhmkpXGNNTuJ1hWL6uhYAQEAJC4EIRELG+UMWr2rtBwLa9e5z5jHhMWCytWFxTfz+NxY2RUOJhlSYfXD+wGJd+0twvg3MIp8kT3uOa8nP3x4+4QPbdn7gpEmv5xO5PyWH1JY8ai7Xpig/qXLHkxyqrMCEgBISAELg8BESsL0/nqvF+ELAXCNmZo8ZavZ8aXJ4kRq6ls8vTvWosBISAEJhEQMR6EiJFEAKLIOC7K6QsyYsUrExnIcACyL4giXVfPyEgBISAEBACRwRErI9Q6EQIrIqAvSB4ieTMfJX3ZKXHfQS58CufWuj4i6KYK8qqDUmFCQEhIASEwH4QELHejy4kyeUgsCQxw/cXYljjA0z8Wn/jZm1NvHjYnG9jQsj9lRcakQ+r9ATBthdCL3Fh1Ai1kgkBISAEzh8BEevz17FquD8EzE/3yt7MncQ0wseLiKW/cUeOyh0ySvO+Fm9nxPq4K4p7cfM9z9WDlxRTFum3HQEnjn5CQAgIASEgBEYERKzVEITA+gj82JGymh0pSqUUsS5FKv/BmCk/6ud3tkAor7ViCgEhIASEwGIIiFgvBq0yFgJRBF7xCFnKGmoJcVOAfONuYF9BtDSx7eYIM0KIK0MsjuXtH1MWa3+bPsplGz7kwNKe25KPvH3Z7WMso+xe/VO+zOaaktv+z98yL/TVtvTImPuNH6bhgziRSClM/Ki2iAFn/YSAEBACQkAIDCLWagRCYF0ERv9q9wGWXMkQx5EkGxG1I2TbOz+SUwsLjxO+wsiQIpFGHCHGo5Xdz9v5IRvR9+tSLbtLDEEey/TL4TzywRri2iLCd6kh3J4IXPvAjS+kc/MAv5g/egoTPwvbLtEv37+vcyEgBISAELgwBESsL0zhqu7mCJQQNp8c4sOL3y8EEAvyFbIdkGbi2G4jWGG55k9+uV9KpiPJdVZdyie/48t+Eb/sVtmRz4g8dcbaTFmQYz/cJ8H+S6BGoo3s1viYx7CxMnMvJ6Zwi+WnMCEgBISAELgABESsL0DJquKuECghYxYHgukTSSoCcR3Js7PkQj79nxHCGmJp5YVpLC/kCMn56EbhZPCt1pZXrew+SQ7rTP1MltA6bC+Cjrt4eNZtXyYfn5JzX5YQXz+9vcAY4ubH0bkQEAJCQAhcEAIi1hekbFV1FwgY8cyRMXNxwFId+30LArkisY5abRMytMpuBDmFi19nH5MrFnKHyZRvtZ8+PCc/q0NI4sO45taTkjmMr2shIASEgBA4cwRErM9cware7hCYJNYeYcX1Ivrz4oQWVbPs1pC9lEyWV/TlvJgMXlit7GNZlj53jADik+6aeodZHZ8GONeX0Eofxk/hFsbTtRAQAkJACFwIAiLWF6JoVXM3CJj7QGwnilFII5XOpzoquBfnrIi1eyEScpz7h5j4rhtJXMNEwXUtqSa5iHUAoi6FgBAQApeOgIj1pbcA1X9tBHwSmCrbXkCMumDwQt9eibX5f7stAmP1S8ne+tKh77phu4FELewxYVwYPt2GOb7aU5Zqy2r8uIx7udTCdBQCQkAICIELRkDE+oKVr6pvg0CGFJtAoyWUeA0vLxrZq3GJSFleq11BzIrbILu/4Ii9vIi/M3UKSbMRchYhPm6lLy9SlhFyrN2lpBpdWbqk24spVEchIASEgBC4DARErC9Dz6rlvhAw62jq5cQrVlhvuz1eysttt0ctjSSzKwcklP8UybQ0IRlvIdZzZLdFgcmOmwvb6Ble4U4j9vIg4UaILW5Yl1gLOFrP3UIAfRhm/jGG36veAil2P1aewoSAEBACQuDMERCxPnMFq3q7RMC++AchTP2wpF4h0R6Ri34gxmUEyRstqV780A87LLMnsSbvVtkhxyO5NtntSJ0cyTbZfQLv7wLiE14/3NL5x6OF28qJHd1+2n46zqd2MQnj61oICAEhIAQuAAER6wtQsqq4OwQghaVuBLgZ4OaABRaiaNZRs6jatV9J8iddLo4fH+JN3NClwfJIEfOp/EmPFRg3jlLZkQtiTt7UmbqTljr5P4tDvPBnck8Ra7CjblP/sGz/s/QhZqEsuhYCQkAICIELQkDE+oKUraruCgGzEvtuDLsSUMIkETBrNS866icEhIAQEAJC4IiAiPURCp0IgVURwApq/sBTHyJZVTAVlkXg6JedcBHJJtZNISAEhIAQOG8ERKzPW7+q3b4RwJ3BXEKm3Bb2XZPLkM7Xl1xALkPnqqUQEAJCoAoBEesquBRZCHRHwPfz7Z75Bhn+E/ei4Q8ye1lvIFaXIs9NV11AUSZCQAgIASHwKQIi1p9ioTMhIATmI/C1YRjYf5v/n8zPTjkIASEgBISAEDgdBESsT0dXklQInAIC7DttxDr15chTqIdkFAJCQAgIASGQRIC3122yaznq7fcktLohBISAhwC+xzbGpD6A40XXqRAQAkJACAiB00Pg33iTnU16NUfS6ycEhIAQmEKAlzBtbPnOVGTdFwJCQAgIASFwigj4j2dt0qs5kl4/ISAEhEAWgWefffb3PWL97Wxk3RQCQkAICAEhcKII4Ev9E2/CKybVfOJ3GAbS6ycEhIAQmEIAv2obX7Qgn0JL94WAEBACQuA0EXhmGL7vTXg28U0eXbrTrLSkFgJCYG0E+NiNjSupT6GvLZPKEwJCQAgIASHQHYF3vQnPJr6SI+n0EwJCQAhMIhAs4NnTWj8hIASEgBAQAmeJgL+/bAmhtjik008ICAEhUIIAH4axsePFkgSKIwSEgBAQAkLgFBG44b6IZpNeyfHHwzCQTj8hIASEQAkCfw+xdu9maOwoQUxxhIAQEAJC4GQR+HeeNamEWOMvqZ8QEAJCoASBG45QM7ZAsPUTAkJACAgBIXDWCLD9VQmhtjjaLuusm4MqJwS6IoDrh40duIToJwSEgBAQAkLgrBF4xZv4bALMHYmvnxAQAkKgBAFeVhzHE+0mVAKX4ggBISAEhMA5IOC/XJQj1bI4nYO2VQchsB4CbK9nY4rcyNbDXSUJASEgBITAhgiUft5cnzHfUEkqWgicIAL+F17/6ATll8hCQAgIASEgBOoQuDEMv+VZlcy6FDvqq2l10Cq2ELh0BI7vcLhPm186Hqq/EBACQkAIXAACJZ835/Pn+oz5BTQGVVEIdETgO96i/Z2O+SorISAEhIAQEAK7RuB73gQYs1ZzXz8hIASEQA0C73njyts1CRVXCAgBISAEhMApI+BblmLEmvv6CQEhIARqEHjfiLVzOatJq7hCQAgIASEgBE4WganPm+sz5ierWgkuBDZD4M+MWA/DoDFkMzWoYCEgBISAEFgbAT41PH562JsIzXJNuD5FvLZGVJ4QOH0E/sIbT9jTWj8hIASEgBAQAheDQOrz5oTrJwSEgBCoReCJR6z18nMteoovBISAEBACJ40ALxeZldo/6qWjk1arhBcCmyHAbkKMJRz1EwJCQAgIASFwUQi8lCDWhOsnBISAEChG4Otf//rP2XjyM8PwSXFCRRQCQkAICAEhcC4IPDsMf2WTIUd3fS7VUz2EgBBYD4HjQl3jyHqgqyQhIASEgBDYFwL+vrM8wuVaPyEgBIRALQKveot07YNfi57iCwEhIASEwOkjEH7eXHvPnr5OVQMhsBECr3vEWi9Ab6QEFSsEhIAQEAIbInA4HD7nXjQaXzhy1xtKpKKFgBA4RQRuDMNve8T635xiHSSzEBACQkAICIEeCNhHHTjqJwSEgBBoQeB3PGL9bksGSiMEhIAQEAJC4BwQsM+b6zPm56BN1UEIbIMAZNq27XxnGxFUqhAQAkJACAiB7RGwl4446icEhIAQaEEA94+RWDu3kJY8lEYICAEhIASEwGkj8O4wPDsMw2N3PO3KSHohIAS2QuD4JVe9BL2VClSuEBACQkAI7AIBTYS7UIOEEAKnjIC9q4HVWk+/TlmTkl0ICAEhIASEgBAQAkJgUwQemyvIMAz6euumqlDhQkAICAEhIASEgBAQAieLgPuM+ehj7T5vfrJ1keBCQAgIASEgBISAEBACQmBLBH7iLNYc9RMCQkAICAEhcHEI8KW02P/igFCFhcBOEcBXmT7KVnb+n7A9+TH/gucG8mSnWG4t1ivDMHwr0GOo0+e3FlLlCwEhIASEQDkCDOzvsQPIM88889PcfxgGJkfiMoHrt38E/Am65Pzt/VfpYiWkz70/DMOPc32Ue8RxcSFsW/4YW0Y3kGEY/mJLQXZWto25T6Z0afcZn4dhYB9wkeydKVPinBwCGB++t9IfvqTfBSHA4P49G7hrj65RimDvuME06nTHNbpI0cZJoFaXFt8thrfqp1/ziLW+4PqUFL9vumk5ukWTPrRzekPB5Fx7elU6WYlfb+l7LWkcTzpZoCR4HQJvtzSSWBpnwa4rXbFXQSCmr1yYBoFV1FJTyDs5fdXc26Kfuu06zWKNtf2Sfzw9mHzaUKrTYRg+kPX6ZJpTUT8+mdqcvqAi1qevw93V4L3Swbs0nnvsvLuKXrpApfqzeCLWu2oxsyybplP/uEE/xbXIiPUlPxLtZsgI9Il7iFxDdtVtrwnzqq+z3Pm1lApYCgER66WQvdB8FxngGSy2sIhdqA6Lq50bxGP3RKyLoV06YpGFK6bDqTD3ktzS8lv+uCwYsf6OBV7YsZhYTekudl/j7u5b0+S7S6bX3dfkfAQUsT4fXW5ek0UHeAYHvdS4uY6vCGADdulRxPoKfFtdvFKiL/cyG1Zg/6XUokl8rZ1Dnn322d/3iPW3twJ043InX1B0fvC4yvi65HzSL1fj7sbazRdf9XQ4n5XudkRAxLojmJee1eQg7e0kwIuN9uNR47gjwdSE7yYIS6fj9gjE3nxOki8R6+0VNkWmnI5yW+rRdz/I9dUV9fxHHrHeeoeSLZSbffLgXkSc2omnRJ/4W+u3LwSqydu+xD9raZK6cRwoXODOuZ7q32cN9LlXLtmQnMWDbfRyk7XhwyCfJGYuLzUkQ2ufx2RbWJFw7ROZ7aXKWqsrfaSzPtrDMPiL56VqDuEzV5CtdiZZqm4l+Sat1e6JQ41/9B70WVJnxXnq957UfWrRK+BWQyA3B17iOLUa8OdWUNKC5azMNQM8cZPkWlbr3Ted3KCChVu/7RBIPjp2RKxWsuTkvoav9TPD8H2PWP+TWuFPPH7W9a7QkBFCkNOnDBohWttd5+bb5JPj7cS9uJJzc6CI9cU1h7YKT1nBWhoS1q7k1lGNk0Zb7ZSqFoHcoCJiXYtm3/i5BWuLK0XyZeWVnk78wCPWL/aFave5Jd1AKp88+BXN5cnjav22R+BbGYv0+E5E5v720l+GBLk5sIUPXQZqquUVBHKD8RwilXw0qTfVr+C/t4vcoDKnPeytnqcmz/OZCbf1c+BTi+qlMfp7I9a3b9/+2aUL21n+uacPLYskqpfruyLW2zcAnuZGDU7ek+F3M/18+xpchgS5fiRifRltYHYtc4+lWgd4hEpO2o2PrWdXVBkUIZAbVESsiyBcJFJOL80fV0lN4oQvUotPM73hyqAcCPal/XDNSL30VON6dwW3lD7XcO25IoguYgjk3DyMsIlYx5BbNyw31pqe1pVIpZ0cAqkV9I871CT36Lp58uggl7JII5AbVESs07gtfSf3CHmONTI32S9ZJ1w/7MVFXEL0m49A7qnGnDYyXzLlkHsy7OtGxHr7tpKbA0Wst9fP7iXIWZV7kKjc40410H02j9yg0qNN7LPW+5cKCyf4x/4lO/akargVseZlxZFYu5cYU/IpvByBXN+d8/SxXALFjCFA/0wZsPg6pv8TsfbR2OY814/EW7bRyUmVmmtA/iq6tVK5VTpfXdNvfwjk2oSI9f70NVei6IS/givIN4xYs6/23Eoo/YhA7r0WPSHcrpHkntyGi2IR6+30ZCXn5sAUsWbDBu7Bm+zPdSq+laXjGSKQ68Q9tmfKNdAexP0MVbJ5lXI6E7HeXD1dBci5DrS+EFkqIBZUcwVp9hEvLewC4iW375uxy8gFwLZ4FXNzbGwOzMVfXFgVMCKQmwN9osxiFR0mt7m0dx6c8QBOpQXuBTSyXCf2G1ArFEu7mrTKpXRpBHKDioh1GrdTvJPz215a13zCfCTW7tPmp4jfXmRmkZJ78hBaRfci97nLkRtLQxcQwyI3J1scHZdFIKc340UQ6mSfM0IdHkkzDEMPo+WyCCj3WQjkdgSxBjSrgLBh2fVK++TOkv1CE+cGlaXJ1oVCvlm1c64DS7tqfceI9TAMS5e1GcALFozla/S7tzE1dtTWpgtqIJ81+klaMjPfchCxzuO6xt3cHMgiNvleSqwPxsKcBVvW6zW0uUEZyQbS65FFrFERJmK9gbbLiswNKiLWZRieQqzk0yTXP5f+pDkfwzBXEFlw0i0GbLCO8cdlhj6YJGz+eCsXkDSoK9zJvbiPLlM/EesUMuuF5+bAaiu13yf9c7ftsMj1enpdraQcse4ihN+QwvMuBSiT3gjkBhUR695ob5dfzlq9hp4hiUastWNFuh0kx+hwPPWvRarTgK5wJ+dilXIBMbFErA2J7Y7JOdDvYz3O9eL2dkpesuTkoN2r0Fzj61WG8umKQHJQ0VOGrjhvmVnyRTf660o+gH/iEeuvbQnGzstOjtGxsdX10S5ufDvHZa/iYYFMWjUzLiBWHxFrQ2K7Y3IOTPQ5XvRmZyN7ssSR69InS3pit52uFyk5OWj3Ki3WEC2sVxnKpysCyUFFxLorzltmltv+a8qi1kvuv/CINXta6xdHIDlG2zhqRyZytyjS4+U4luMwJboAACAASURBVGuE5t5byrmAmGwi1obEdsfkHGh9jaPrb1NP21jkZvuwy0d9djt9dy85qfBeJfkNMTzvVYby6YpAclARse6K81aZJX0/3WSxlrUTEmiuIJpU0q0hOUaH46lda+eBNJgL38l9t6F0wSpivbCSCrJPzoFeH8OVrWbcmhp3ZbUuUMypREkO2r0qYA0xduxVhvLpikByUBGx7orzFpm9HeuHFrayXy7bTkGsf7IFECdUZnKMNr2ljk6fNZP/CcGyO1F52XeOC4hVSMTakNjumJwD6Wsz5sHcey2lC6/tUFHJxQgkB+3iHCYipgZ910AnUuv2BggkB5UZA8oG1VCRAQLJzyq7vogFeRUSdvv27Z/1rNV/H8ipy6sIoDeeIvh/XAqwmE36cK68WLoq+WVd5dyrSlxADC0Ra0Niu2NuDsQg0LpjEuNrbvG1yvi7HayXU/JmxNr5FV0O0qdT09ygssZuEaeD1OlImiXVjliv5QICai8ZsX52GP7qdGDcpaToNunX63RbQ+x2WcmdC5Ujw7WWyFxeO4fhbMTLzYEsaOf8clbrKX/tOeUq7YoI5Ih1l4mWgT32l/VzRS3XFZUbVESs67DcQ+wSUr22fx8ymX+12lSfVpJ083E+17KG9cE5zGVqhx3aes1PxLoGrdOLm9uKUQvg09NnVOKkQ7179BhNVBMYI9XOiqIJtQbI9eKKWK+H9dIllZDquRaYljqwaDdi/e9aMlCaKAK5l+f0dcsoZLMCWaz0cgExQaqI9bvD8Cz/fz8MN/5yGP7Bn7/88s/9za1bz/3nL33phb++ffsXPzwcXv7bu3e/+F9e/fI//pvD4daHr33lNv+/Oxzu8P/hnTuHv3319qv8Obdw4hCfP+l/+OUvf4G8yJO8KYOyKJOyTQ6rhI5JBJ7PcKItxuKkoLrRjkCuE/ewWOdImhpRu96WTJnTmRZDSyLfN++9kurhxjD8tkes/03fal98blG/a/eVt4sHpzMAOcNUrQuIiZabky3O8WiEVsT6CMnuTzLEWvPr7rVXJmDu8WGPxxI5ktYj/7JaKlYNAjmdqePXILld3BJSzQcMlv5hJcXNBN9BPgLDftW/MAzD73jEWuNAXy3kyJ7cQfphnRwn3RNZ2j7Gqdp/zgc3ltfXzEL94Ws3X/ybW7dewrqMldks1L5l+u/u3v1qzR9LNunNgo3lm7yxXlMWZYYW7H4Qn2dOItbnqVe/VsnBodPb5LnVtxz1fU3s5zzXJkSs96OnlCRMvsk3z92kjzVtcZLlXkw0l4/U8QdurHlvGIbvDMPwbY+Ip+qo8DQCuf5L29CvDwLZPpYiT93Dh+H7EOkYiTYXjxoinYtr+fluIxBuyDYy4Cby+NVXnv/w5s3PYEHvA/P55ZJqA3rv7Ix0nVFy66MsH53k2+oFn3b189H5egjkJmYR6/X00FJS8gmU9XNHYhcn1U54/KdThDob/swwfL8FAKUZcv1XxLpTA7H+tPXxl5955i+xKI+W5UprdI5E19yj7JBgY8X+T4fD5yDZuKt0gv0cssn5WGNc0O9MEMi9fNG6X6NBE13Vu7fULY6O+0IgNzGLWO9LV740yadDNvl3egrllzl1jgU6S6Az93EXOddfro/NdY3J5a0XGDu1KOtTWx9HYr0RoQ7J90jundsIVmzcRSDYvOQoC/ax4eX659y+fyxEJ9sjkPPJmzMQ57aVWcO/c3tkT1OCXMcXsd6nTpN+mTbxb0CqeRb8WxninCTcyDwMw4v7hLqLVLk+Nvel7ty4u/a2il3A2mMm1q+2Pu6JWPtE26zY+GObi4jtIrJHfXoyvZLSKfvFe/FaT3N8S+6xrajuMF1ukJ/zNbbcHtka4HfYEJxIufYgYr0vveHSkexnNkEMw7CVJYQnXkkCnbn3Z/uCub80ppvw2OFpXm7ilitIJ1WGetvqeq/EGpLtW7Ah2LzsiA82W/R1UsNS2UR31kHHM766aLLm8l7LRc9k0XFhBHLKbpmUk/upusapBrSwQmdkL2I9A7wVk0Jak25cNtG7XTlWFOtaUXwCuJZcX8LCO6m7YRjmPCnMjeVzXfuuKfeCAzAyLPGPuk/SnyHR4f/XPvvZP/YtxVPnkN3S/1ReNfcpc3zB0nMP2THBTj4BnGm1TvIibYd5niNJ1j+zcnLOvkC1xSPp81TZYrUSsV4M2m4Zl2ynB6HdnKC6lxBriPVP1tixpJsm2jPKTbLoDh3X/pLj+DAMPH3Ub8cIQDTpL7YoDo81RNaPC6nl4y+8YOhvm4cftG2fh0XZriHA/i4jpPfzaz0nH3vJcefW6+QciE4aF77ZMXsPY/WOu8bJioYFOblSdo0J/6KcxYN7yceQNkhM5HGyAJ6R4MlBRdsB7ULLkOWpvtpKzJaoIB+AqSHWPfwYl6hH7zyTuwO48bZWh1MGDe040FuDnfJj1wz8j3nRD4u0zZXhsYTQQl5HIuy+rGhEFuJsX0+E1I5fZXzt5ovsQ+3/Cec+/9hXG+fsiW3yG8Emf9ueb4c7h2Rd7OA6FQaA7Baozv1LT/E79ae9ZZO0dvgd3D2yoFHhIsKf82wjtPQu7t7qLXmuIiBifRWPPV1lyZPXzyCn1j/nHnOL6RJs/I/BTBJs91XGknzPIc7kmOue8OV0wL3ko2uvTeTyOAcsT7IOEEq2pYPQQn5bibWRaSzN5ANpNfIMYYfA8iEZyuIPkc/9iUN80vEnDyPdEPRx14/XvnJ7LLdhVxIj16Osr918EVl2Rq6T86DXp3gKxPiaerrEy4glfXPzJ4sn2XlOSOik3581ptajexSpVdn+G0NyQJHFelPlJV0HWvtkSTr35bg5Ff9GhcX6J7/yK7/y3JzCTiwt42HSJ9rXjxs/8enFkDEaMyrSMvnrtzMEjFSPFuLD4RbuGjXEGnLqE+rxQzG3br0ECYYY41rCNneUk/qHkKTiEU5+EODRyvzazRdDgt1CsknzlKQ/Jdc725ZvcuEb9FG+/UEfLerTpNWcGrbA87wuHuj9BjV17h51pFZ154nk6dZKxHqfuqsa5Kf6ZOn9DsSaT5hPWqpdHD4oc2m/rO9lqZ5S8fRS1D6bEyQVi7CRaiOlpcSa+GadHt02Xrv5IoTXCDVEeIma+wTbPqWOJXsk9YfDLVxFzOWj9MiCAnJNPUz+JWRvzHPS4pzqe1Phrm/K2NiomFNLxkDfzXItUn1q6s9+uY3VuH7bIHCqxBq0eGRaQq4vdR/XRci1Ju5tOupUqVhlIaW4a+ADbaQaIlpErA+HO0ZEIdNYkUPr9JQMc++bZZu62CLB3FnCOpUQbFsojAuNW7eeI8+5MnZM351cq2921M4JZcUqanZjco855Nt3QorHQplaaeux1aaKPGVi/ScFxPrHX//6139uU4S3LZwxt+hdlVT/9MPdtmCyhm2r02ulGwl9amW+SqonibUj1BBy393jWiEbBECwIfjIRd2e+k5fr1+OZPvkGsv1ztxCWPQXu3j4fTE8d37ZG2hJRe4FAd5mrSbYjoDpYwR70WKdHCLWdXitFftkifWzzz77+wXEeu4XB9fSw9LlMIE3E2yNvUurpz1/rLxmqR7dOCLb2OUs1rhb+IR6KXeP1hr6biKjH/bh8HKqnimCbeQa6/cOyTULVfaYbyLYcCntitbaus4zHQ2KN1d5CcbfFN+c9e2lGuLISnLabUDEep/6Y6E6d4ePlvSznzi5nT6yriDu8+f7RH4bqXAPGcfb0OIVXrsxmRcaSaPfDhEwi+7o6sDOHRFSPWWxHsnqzZuf2WH1rolklvkW9xCfXO9wtxCrK30Nks0OTNcWws79zXgRi2XxIkNORyEgBISAEJiNAJNQjlj//TAMN2aXct4ZMDGzuPL/mqxPQOdYciGIkEx8o1Ok+poV93C4Y9vR2Ut9e7NS5+C3xYRZr2t8r41cj3ts37z5mVOqdw4T3RMCQkAICAEhMBuB27dv/+wwDHxRMUWu+YiMfkLg7BAw9whcOCDV7IBxjUAH+0BDKiGh5vqxY6ttkb6wXkOup6z1IS7gwMIC7Hb2MmNRvRVJCAgBISAEhMBiCDw7DH+VIdbsda2fEDg7BIxUQpJLtqI7Wmr3/VXCaj2BA1b3Fqs92EHMd/YyYzUGSiAEhIAQEAJCoCcC7FEds1g/0WPenjArr70gQLv296oOLbLhtVmq7VPf52alBQ9zial5qRHrPdbuU7fc76VdSg4hIASEgBA4DwS+EyPWbseQ86ihaiEEPAQ+vHnzM1hoS0jkmqQagmt/T9zjqd3jeAzsdEKeEGR8p0v9zY9W/H1++rwTMsqmCoFPHj36qf7CQG1AbeCS28D7X/tazFr90//3135N46PmCLUBtQG1gRNtA1WEuFfkS55MVXeRSbUBtQHawJ//5m9eI9a//NnPajI90clU/Vr9Wm1AbYA20IsrV+WjxqfGpzagNqA2MA7AV3YG+Ze3bolYi1irDagNqA2ccBuoIsS9ImtCFalSG1AbUBt49NN/9sILV6zWWLGFi/qG2oDagNrA6baBXly5Kp+wwXz86OGffvzgwb/S//QwCHXJtfR4enpEZ9Ll+no7/PzP/wd7gfFnhuGTbn3n0aMPQn1qnF1fv730GerylMbZH96//7sfP3z47kf37v3Bj+7d+8Pcnzgfvfnm73301lvf7YWdn89Rljff/D2Tw8oc76V4SCC/pWmS89HDPw31GfZN8h1xKMCMepg82Tqk6qbwedwzos8qQtwr8rVG9eDBv+qVt/JZF4FQl1yvK4FK64WAdNkLyap8vm3EehgGdgnp8vvo4cP/NdQnBKNL5spkdQRCXZ7KOMs+y+y3XLJnNR+K4eMnxF9iWz12JOHDKqEsbF3HjhypMtm1Y/yYy+Fwy7YDZFcOdvAgXe2Wd/TDUJ9h3wQ39rhmSz3ks3JTR+ShXqRZYueS1Rv8CRUY0+cm4k81qk2EUqFNCIS6PJUBv6myZ55IutxEwV+DWD/zzDMsSF/pJYGIdS8k95HPqfbNmu312ILPPtfdG3VIM6Qa4h5+lKaUWEOkfWLbSq5jRCwk1tTfFiXITFl+2bFz5KOOYC5y3bsFpfOL6TMde8E74SARa1QLFq+sOyIQ6pLrjtkrqxURkC5XBPvTon4BUv3MMHz/06D5ZyLW8zHcUw6n2Dchd1hQsaROfbac+0tZXFOWaiOnNcQ6JLhGrtmbu9RyHSNiKQ5EnqWfPR/rcTi8zAd49EXG9XpvTJ/rle6VFA4SqUblJdHpThEIdcn1TkWVWBMISJcTAC13+8kwDO/0zF7Euiea2+d1in3TrMShpdcIrR0h1eZWkXLHaNWAyRCzVFv5c4g1eUCusbaXkusYEUtxIOTHDYUvTyKnyRw7GslfyurfqoNzTxfT5yZ1DgeJVKPaRDgVWoVAqEuuqzJQ5N0gIF1upooPhmF4qWfpItY90dw+r1Prm1irsbZCNqcIIfdHq2xHSyvlm6U6R6ohqHOJtZFrFgcl5DpGxFIcyK8H5D1GqK+EHQ53IOFgv32rvQwJYvrcpObhIJFqVJsIp0KrEAh1yXVVBoq8GwSky81U8XrvkkWseyO6bX6n1jfN0hq+KHiFBN69+1WuIaT2wiJEsgfSpaSa8nsQa/IptVzHiFiOA4GJudRQRgxDC+M+CwncQXph2UMf55xHTJ+b1DccJHKNahMBVWgxAqEuuS5OrIi7QkC63JU6ZgkjYj0Lvt0lPrW+WeobDBE03+oeoPsWXgjmlG93T2Jt5HrKch0jYlMcyPBkETBFrrFs8xIjixuR6x6tKp9HTJ/5FAvdDQeJqUa1kBjKtgMCoS657pCtstgAAelyA9AXKlLEeiFgN8r21PqmWVjDHTjMsmok1HyTIYE9oK2xVJssvSzWlh/E1+oFDuGLhDEiNsWBwCe1q4mVa0fqg2tNrOweGCuPqwjE9Hk1xkpX4SAx1ahWEkvFNCAQ6pLrhmyUZAcISJc7UEInEUSsOwG5k2xOqW9iJcW1A8tt1rp6ONzBqmxuIHOgbrFU+0S0ZB/ryfo41xbyzZHrGBGb4kD+vtaTvtaHwx2eAvTAdY5OLiVtTJ+b1D0cJKYa1SZCqtAiBEJdcl2UUJF2h4B0uTuVNAskYt0M3S4TnlLfhARiXZ0igNw3y+pclwVcJSDHUy8qGpn2j70t1pa3kWuro1muY0RsigOBj/mtQ/CtjNiRcokDHnqJcfnuHNPn8qVGSggHialGFclCQTtBINQl1zsRTWJUIiBdVgK24+gi1jtWToNop9I3zXI8tRuIkb+5vsBWnrlJlPhUh2R0KWJNOUauwcNcM2JErJQDmYsN+Yb1sGvumTuIiHVDZ6tMEtNnZRZ9ooeDRGmj6lO6cumJQKhLrnvmr7zWQ0C6XA/rpUsSsV4a4XXzP5W+6bssTPlX464wd/cK31LdQqoho0sSa59cm+X6h/fv/26oz1IONNb3cHh5qq7c7/lS6Lqt/bRKE7E+LX2dhLThAMH1SQguIa8hIF1eg+RkA0SsT1Z1UcFPpW+auwKkbopYz9lv2bdU1/g+m1XXPy5NrENy/dFbb3031GcpsQZfexqQs1pTJriwcIk2KAV2Q0DEuhuUysgQCAcIru2ejqeFgHR5WvrKSStinUPn9O6dSt/EolrklnE43MGCC1Gs1Qakuoel2sj1GsTaJ9cfvfnm74X6rCHW4FuymMCHnRcYwasWY8UvR0DEuhwrxSxEIBwguC5Mqmg7Q6CDLtG9/sthUNxiRKyLoTqJiB365ir1hPBiUc0RP/M7zu3EkRLWJ9W5Mow0lxzXItZGrj+6d+8PQn3WEGvI8tQTAcqCWEPC7aXJFKYKn4eAiPU8/JQ6gkA4QHAdiaagE0Cggy5Fqpcj1VX9SsT6BDpchYgd+mZFae1RebkOSzSkLuWqQDikGNJXY7H2STW7f6TyLyHTfpw1iTXl/ujevT8M9VlKrCHJuHeAMXL79QjP/XrJat3epqdSilhPIaT71QiEAwTX1ZkowS4Q6KBLEWsR61205XMTokPfXBwSyBukD9/pLOnz9lkutab6pLrUUg3xtn9IOv1rn4DGQKJsrMRT5VpZU4Q/Rqx5oTFWdhiGLCxeeCrA4sWvR3hOvYjHUwTShXnpug8CItZ9cFQuHgKnMOB74uo0g0AHXYpYi1hnWphutSLQoW+2Fl2cDvIGsZ5yUxiJ7OHwMnFLiDX5+j7VU8QVgkkcyoF8csylGeV57eaLKes55U8R65ryYsT644cP302V7yvAx2KK6I/11xcYffgWORexXgTWy870FAb8y9ZQee076DIk1uWFK2YMgWY85QoSg/N0wzr0zcUrbwQUN43UdnAQUMju6C5y69ZzpMkJVkMkzWJrJBfLOeVMuY30ItYQXcpkYTFakw+HOyaTf4wRa15oZKExRa7Bgzj2gmhuwcCuLA6DyXxzOtC9PAIi1nl8dLcBgVMY8BuqdZFJOuiymQheJODTlW7GU8R6GtxTitGhby5eXZ9YpwifT6xxacgR67mkGiuzveiXkgfC24tYQ+B5IRPSC6GHaMcWGFFife/eH9hiA+Kcw4X71GtqwSBivXiTHwsQsV4H54sq5RQG/ItSyIzKdtBlMxGcIfY5J23GU8T6vJpFh765OCBGrHMuCkasp3x/jVTbDiMxgupbge18JMnOzQQCCnnHarsWsYZU47YylvvazRexXIdlx4g1YaHsKYXVEGus55Bw0qTyU/g8BESs5+Gn1BEETmHAj4itoAgCHXTZTAQj4ijour92MSYi1sVQnUTEDn1z8XqWEmuId45Y+6Q6RkyNRIdHiKkRSXy3yQeCS1hIbv20vSzW1Mt2OrGyRyt0QK5TxBqZjFznyLCI9eJNuaoAEesquBS5BIFTGPBL6qE4w9BBlyLWfRtSM56XQKyf3Lv3ysf3778e/p+8+earfdWwfW4d+ubilagh1rhMpHar+PDmzc9wP2f59onxj37jjW/zNUP2h/7ozTf/7cePHn3P/1s48Wgrftojme3w8qJPrAEbcg+xD8l1jlizAIBckyaFD/nij13iCmILDVmsl2v+ItYzsU0N5OHAPnVNPjNF2U3yUxjwe4Bluv/owYO3eYP7yt9N7j3K2TKPDrpsJoJb1nvHZTfjeW7EGrI89rlHjz745NGjJ7G2GoZ9/OjRfxsJ1sOH73705puPdqznSdHCunE9mSgRwcayqXlq6n44j/Ui1hBKiCUEMyTBdu3aAgT6v8WwyYY9fPgDR7Yf9SbWtmAw6GOW6xyxRh7INYQY8kx6y8uOrcQafR3nL2/x4frTY28x8gH40mdCHZsMezoyNli9Pnn06H2vHk8XWDZf37//+pPXX3++t+wi1jMRpbFlO+yjRz8tuU8+M0XZTfJYfXcj3AxB6IBjZ3306IPKwfsxnfsUJ/IOumwmgjNUNSupDcjjRG0DcOa48kTTjOc5EGuwdmNuEZGOtV8/zPXj90/Rou3Xw85bG/5S81gNsc65gmBdTe16MVqkHz78r4bB3OPHjO/3778OIU5ZdWvqZcTaJ8TkC0m2xUKOWJdYrMmv9OVF5iHmo9LFaALPJx89fPjeymNftnlbvSrnZuNnT+vT6cmWiHVWVdM3lxqQpkveb4xYR9yvtNOSMci6gcg6YfORTr+3ASmHQAddNhPBnFxL3XO6rtIvaZaSJ5JvM56nTKxZ1Pbqg7E2TRhWrVMi2LF6RNpLUdBS85gR0JyLAsQRv2mINW4SPgE14QnDag25NneQ0Y2jI6EO8WS7u6WINfWiTpBrXqSMfdIcsm3YjK4jma33Soj1SPYePvxBWM+51yxEtiTYPRfaDovHc41gItbWcxuPSw1IjeLsIlmso+5CsEohlpzMIdi0nUqRVo/eQZfNRHDtyqLvFmuHiPWymnJPieof7xc+LQzb+Cn0SxAP5ea6VRNLzWM1xBrymCLW1MvINQQ8ZuGN4dEh7DHjQoir1ctIvrmj+EdIMfdjFmvLzwgxJD6UlTrai4sQ8BzJ517Kov/kjTf+xcf37//HMP/e17ShGFZW195HZwTp8uQqhsW40G500RWxnqntpQakmWJtmjzWSDcVqKFwVqwtJCtW94mwx3u2ksVkr4TzZIg1lpdYfafCRKwrW0RF9KWt1BndRglVheiLR43J3lroUvOYWWWxWOe2x/MJJP7CqXqQ3wZt4klIGHsRa+pJfWP4Y8UuedEQWUJrvhF88l1pHrOnfKv0G576xtp/7zCwY2Gfao+pcBHrFDKF4bEO0aJc8ikscvfRYvXfvdCegHSkWB2WCqPz7pVcx+rsQVVyehLE2vnn2eRQdRSxLmkG9XE2IFCh3lchCfXIPE3RoW8ei15qHjNiDUHk4yRG+MIjxNpIZI5Yb9gmrrSFnsQaJfzw/v3fDfWJFRsrNDuiHBUVOTFijSXf34oQ3/Mwz5Wur2AVEXlW0BZtoJZci1jPUvEwLDUgzRRr0+SxzrupQBWFr02qDau9kmuTzz9WwEnU3RPr8YW4lp0EnKuBiHVliyiIvsXk6bdx73xRklAARTKKJ+NxQZCMPHFjyXkM9w78iCHPuEeEpJprrNlYtSGSKWK91dhsOOMaYDD2JtYxIgaxhlRTlpUbO4KXv4UfePbSp9W94bhIv9lyXKgh1zF9xnS3eFioOARbvNAOBfRqwOTTQZxdZBHqkutdCDYhxByrZazOtWEjuY74802IvejtWB0qC9w9sWbCjNWzNEzEurJFTETfuh+Geuex84TIm9wO5eS6VZAl5zGf9KWItb2kB7GO+RLzRC9W34Iwtowbt4qjjvzxXW72OX7w4B0wXoVYv/XWd6dINbJArNkRBIs/i5dPHjx4pwCX42Jsqbjg3toeY+l6tdE59S19sixiHdNgRVgvZZNPRbG7jhpruLsWeBiGuVbLWJ1bwnyryB4wi9WhUq5dE+sek5CIdWWLyERvfYH0k0ePHqPLlC6YEJ3Fk23GqklFKt9MVRa/FatHa6FLzmP4/+KmkHvRDysrpJB4MWJdufh9QlsI/aLBBqLKi4CQUMg8BKiGZJvxYw1iXWpc9F9cHK3VjU/fqBs4j/+nvtlsK4vRofkFQRbJrW3ST0f/i7X3wrAnx3pZ/RoxAotYu/Jl5VzEOkSk8prBOqK041eeShuliHUl8J2jt7y4Rhr0H9tqaLSwPLUcsId11URe88ipMwzXsovJfi1SPmC3xHqGFeyKPlcmXc14nsJ2e7UEbxx7K7c7HMl75fcHKCffzNe/26FvHoVech7DncF2rMi9wIgP9rivc+BTjGyxusbCpubRkFhDRPnHtruL5U8YZeyNWLPzCP7Vta4SkGnSTFli6TNOD7Uk+8mxkc04GRfOdfPo08VVZlePcbH98OF7DoMrY3pK96b/qaqIWE8hNPN+6UQxNSDMFGPV5LFGuaoAlYXVroaZZGNkOlWsy79mQOoyGKXkqQnvoMtmIlgjZ0vchsE6OviKWLegH09TM8nNHTOZWGvKmyIf8RotF9qhbxYLN2cew6Jq+zXnXmDEgowlOdxyr9Q4VWKQSBHr0dJbuNiizUA0cb/IWeGpz9R2e6aAGBErtVizcGFBUutCVTuPmay1T/nmjo81C6tS4mt14TgutCt2hDL9+3mE5zF9hnFWuQ4HidJGtYpwMwqZMyDNKHbTpKEuud5UoInCGWBiMifC3p/ILnqbzltD5Ho9QosKUxEYw6AiOVF3Sax7btc0d+JYC8+9W6xriMFcUm2YV5Lrpr5vZfU+duibxSLNmccgs+YOgruHWYnDI0SUFxghrOYOUkqqSkg1lc0R69FyXbiTBuXtgVgbtixIKncBmdWWS/Xi2uisskoXVpRV2g5iDb/G2j9Vjoh1DOGOYXMGpI5irJrVmgP+3IpheY7JmwibNUC4lXHRhy56v/jRilMMh8q8dkes3ROEqPXZr29x3610RajEL4zejOfeiXXFxPY4BGXOtDMj4gAAIABJREFUdYUFbjdPkqiv31btfA4OubTFfSHyrhDkz/yAcVcICbV/bV9ghIiTrsToUTNWThFrZPm44GuOlLkHYg2uyMGCpERu2gmY5nRdeq+0TUCMS/MM47HwtbY9eXQvloZ51FxXGL+yY5CIdQ3qDXFLGx/xGrLfZZJYB9iloExO5W9QF720MFXPmpX+VF5r3O+gy2YiuET93JODErecceCM1T8Mk8W6j6ZKJ7Ul8C61itW4gPVBJZ1L2A65Tseed2fuPAahhQBOEWss2lhfiVti9Ch5LO/XvIRYF1p+n2xNrKkLCxD8q0uNBbQRSLiPyZzzUleq1n5T+mSx22Kh4iVJ5pIUdiLWKWQ6hc8dkDqJsWo2aw74cytWYhGhPlOPfmrkKJ3ElyAQNXISt4Mud0WsS62i5k8bq38YtrKemvE8AYv15FOEOdavXNsvnsDXfTqRE7lH38zm79/sMY/hZw2pw+XDt1L759yDfEMWS4wetVshFhLrR2Efj12zANjSx9q22WOP8I/eeuu7MRkjYe+n9gn39V16vnS/2WKx3aNMEevSFtQYr8eA1Fj0ZskinXkxS8rcSsZkjYQ1P8qKyVc6GDGxxNKvGRbBolaXzUSwdz1LfXjps1Z2rP5hmIi1oTXvGOKauJ7ljpWSsNTi13OBnZKlNDyGT2na2ng95jGsq+OuH5kPxYwk2+0OUmL0qLWElhBrZODjLPypd+rP4ntLYo0bCAsQZCi0sv+UMRAMavWfil/ab1rGSPd0sWSxnXXLSMmeCu/R1kWsU+h2Cu+hpE6irJbNmgP+nEqVDgq1VpEpmUoJXu9yp+SK3e+gy10Q6wr/9iuDdKz+YVjLpBHDujCsGc89W6xLfSkZTwtxqopWOokvVX6VsC5y2A65bsmnJE2PeYzdKyCCWK1z2+7ZS4yx+gVhV/pqST1KiTUuKchqL1GGeZPP1q4goxvI4fAyO62ULELArqe1GkxK3HVGnTUYiUrn5959srRcnn6G7cKuRawNiYWOPQakhURbLNtg8BtXnIsVNiPjUn9niPCMYq4lLSYRnV4yuSZARUAHXTYTwQoxJ6OWTjzmAmIZxuofholYG1rtx+I+sRCxRvJQr7Hr3pN4O2Jxeefkl0vbYx6DpNq2e7ndQbAYP3njjX8Rw/9KWANZOxdibS8tYq02vH70G298O/UHz97zmLWXKzpJ7DXdMkaWuAJRdkveJnvsWLpYYE6JpSdMxDqFTKfwHgNSJ1FWyybW0VYrvKKgUt3kXlKoKO5K1BhGYViu417JbMGLUCauK4vbnFgXD9AR0harfxjWe2CfwLcZzz1brKlziGvsekliGysvDFuKnEzoPHo7lI3raMQOgaVjZU4/kFqzWk+9xFji2hAugkuqeQ7EmjrYZ+KnFijmsx778E4JXiVxYu0wDGsZI0vbXImMtXFC+WPXuflZxLoW8cr4pY0jNyBVFrl59Fgj3FyoiACluokknR0UwygMy3Xc2QIUZhDKxHVhUovWTAQtgzlHJt/CN9ejj5Vj9Q/DWiaNGXVqxlPEOo16sZVKLy9mfV6n5jEjtlMvMTL2hf3Mv6ZPp7WZvmPl8+Jh7iXKPbuC2OJkCkPzV7ddVlJuLWm0pu8w9vl6SZ3X+sJT8inPzyLW021nVozSxjE1IM0SYuXEsc61sghFxbEXaUxWP6x1AJ8SwC8jdS5iPYXi9P3SN7xT1q+UbvxwEetpPZTEmCJTYF6zZ3FJmRan1C3M4u/h6LdBO19Krp7zmPkGQ15T5PaThw9/YHWKHVvHxlMn1r78ua9YjqT67t2vhvuC924fJU8DW+dQ3jFCzxP/D3rXifxibS4My7VBEesltOLl2XNA8rLd9WnYALnetcAbCBfDKAzLddy1RA5latBls4V1bh179L1Y/cMwEeu5mnqavkRfTNJLuGYVLrIXmcRb0QvbYUPfLC66RDeUT7ypTLGc/ucvfekFLK4pchirmx/W+mK3T0xTpB5SukeLNbKbtRrCnJOfOnAfjPFr56VF0k/ppvZ+oeEi+ZJfbXlrxC9+kVk+1muoI15GzwEpXsL+Qv0B0M73J+V2EpU+PmudPHrWzPTnHyvz34RYF78Mlxkcqadf79S5iHVli0hEL3bHKCBviSKiwaXl7mmrPSoSa4/RCnYI7DmPQfLwEf7r27d/MeZrXTI+lhB4qj2OAw8evHPN+nn//n/82P3x5yY//OfN0rtHYm0vLOLakVqQmPzj0W1byBOCDk3gWhbgFWuDYdie3ku4VolIQEn7o465NiiLdQTYnkE9B6Seci2ZV9ixuF6yvFPLu/Sxc67jrlXnDrpcnVg7i8Pk1xVH6+e9e6/ksIzVPwwTsc4hWHePpzQhvuF1id5qSi0tsybPNeKGuHC9VLk95zEsp5BrtquL+Qmzs0Wsbn5Yrs+5RfX7tBM/Tck5nwUfifb9+6/vabs939IO6b9CoO/e/eq168PhDtjyZGAJ32owLsS36zcglmrffr4l7i1jW8rsSiNi7SO6wHnPAWkB8RbJMjaALVLQiWZa8tgZDHOTx1pV76DL1Yk11qmY3NfCMgOj4XstTWQ7qZX11Izn3l9eBHOwLMGcR9A9XEJKv8S5N2s1WMVwsnbb+7jEPOZ/MMYnhq3EmrZTskiK4RYLY5yGXMewhOiutY81ZYEVFv4iUu35VvNkgPSxOrSGYYEuJNW7mMNq61nahlhcpPIWsU4h0yl8iQGpk2iLZRMbpBYr7AQzLh2U9lC1DrpsJoIt9S99PMngWZJ/rP5hmIh1CZLlcUrJ7kiuM5NbrkRIeekCl3JyeW11L2yHXC8lyxLzmFmtQ9eGkrL8XSbQZfFiOrIwjuFoYYzVsUXVmsR6fNnTfWFxyq+aBQpxwBTfaqzVvYi1I9STT5Q87Hb1TkJJ33BPO7M731A/2kUuPxHrHDod7pUMEqOiOvsNdhC9OQvrWP6xObMzS1jsBvLo0S4GJV+Hdl6pktWItSNLk49/GRT9iTlXH6tz7ihinUOw/p6b3B7nMPfvMcaW6nMkYQ8evF26uK1pK/U1nZfCx8DO5+WYTr3EPGaWWNwV/E+Dl+xhDdkkvXP7KG4rhlPD8coLeGsRa3vRE3xyX6s0iz+kGr/1nBtLWsuf3hnHUp4ePXjwDgvd0v7i4drlidKnEq1zVtrOc19dRFIR64X1Vaoo4i0symrZe53ruPJbrfCdF/TJo0eTvr/gF7OSbFG1DrpcjVgXWyALXEAM61j9wzARa0Or37GFMPEUgnF0dAnALcD7txCEkVQ3WsT7IZHOKWyHXKdjz7uz1Dxm5Hr8gInzHS4h1rhFQCYbCN9xTorhNxF2JNdrEOuP3nrru7Z7SgmpBg9cRcCy1AUkeKlz0igxgc+I7Z4Xo7leUGqYAYOpFzJFrHNId7i31IDUQbTFsoh1vsUKO6GMK6zVi2wp1gJVB12uQqxLXzgpdQExrGL1D8NErA2tvsday3WolznXeyfVIB2rX18NfJrbkvOYWWVt+70SYg2JLDVSxHCaETaS6zWINZgbJmaRzh0h374LyKfaS5+V+hNX4HWSlmoQKm3jtLs0ok/viFhPITTzfqmyiDezqN0kj3XC3Qi3oSAVE8HRMrKhuGPRHXS5OLHGDaDEctViSYnVPwwTsV6ulY6uG6Uvo1b6z4Z6tGvIBuUuV6s+OZu8/rFPztdzWXIeM6s17gu4PJQQ6wUIYbElG2vlGsT6ozff/L2ibfXu3v0qpBrsancB6YnjKXOYGmt1ST1FrK+PIV1DlhyQugraMTN/oLfzjtmfZFal7QC8Sv1F1wDC9OcfK8tdnFgXTw4VLiBWR7/eqXMRa0NruePo1lGwFV9KR4XhT/biglWCZKxOJela4pSOXyWkI1a+kWvcGH50794fxurWGIb/9fvIZX8I67iHdcN2fMhgC/SldwUBh5yF2u6ZXzXuMaUuIKaD4rEzsWgFC9xJ9jRnWd1qjqVuhKPuCxbdItY16DfEXXpAahBp8SSxAXDxQndcgPMXLbWI7MZaDaQddLkosS7uX4W7gITNKFb/MEzEOkSt7/XoEvL0Jaqi9xNC/ZRenxpJiNWrL/Kf5lbcz2Y8eYVcs5PFR/fu/UGsbhVhj1kgxZ46WBm4TEBIn7zxxr8oJVVB+e/3JNY/vH//d4P8f1pCrKmD71ddu2d1D2JN2zhlYl26kxT6oa6f9or0mYh1Gpsud9YYkLoI2jGTcIDgumP2J5XVSAoePSp+a31vA1QHXS5GrEsXLGZhamk4sfqHYSLWLciWpQHbCheq0sVrNh7tBZ/9Mgm3ixW2Q66XkmateQxiiEU5VrepsHFh9ODB27ZjSAyLkFib1ReC/cnDhz+YKsO/z/jj72ZiedkR0st9XFxSMiEPdY7hW0KsIdUsEiD5bF8Yq3MubC6x9vHgycDe5q9c3bmHvGN/T1jk/fqN80iBtZp8RaynkJ95P9ZhfGXZOfFmFrWb5FYn/7gb4VYWhMHGxyF3vsc2EJO3EsJFiHXVgmUGSYrVPwwTsa5sEYXRa/pOqJNO17t+EStWx0Joq6OtOY+VlnWl/g8f/gBCy8t+uERANCGzMbKJu4RZrI0Ec6Qf11iv8QUvIdb4PX948+ZnfNCNUCML92OLiUlifTjcoR6x/P2ycuedifXoJnNi7lTFRq+pnUB8nEWsfTQWOC8dJPZIqlrhuDLguZVga16nnK50FxCH1+Sbxltg0UGXixDr0g9CMHHMwS1W/zBMxHoOwtfTsmjqPeGHOqu4foJl8rqU24fE6rCUVGvOY6VlHev/8OEP6IOQY17iw4prBBvi6rtHQGhTxNpIdqnlGgtmC7FGBkj/SIgPh5fZdxoSfayPmzOzxNp9spwFBPUjzxbdL9jPduXSGMOmZuFeO4+IWMcQ7xhWOkiIWHcEfQdZMdCHA2XuemVyVoxQTObixE8jdifWpdiOj+7u3XulUt4r0WP1D8NW1l0znqfwSXPAb53sSTfuy/vw4btYl9DL+LcX19jnuuGFtbEd7ZBch+2Q6yuNt+PFmvNYaVnUF92gayPFdrRdMngZ0qzXWI0hofhxxyzWlrbG55a4uHxYWv9IOAQfVxDIPOVDqCkfq/rTe1+5TZpSYm0+1aSdY6m2psGi8dhPXH/BDQodeHtct+5vvVtyXbo9q7WxWhcXEWtrYQsdSwcJ4i0kwurZrjngr165ggLHwapiAt+z7jvospkIxqB21syygX6GC4iVHat/GCZibWjNP5Y+iTAdjGQ68aJaSpqRdD969IHlUXjcnVtITO5UneeGrzmPlZZF/XHH8Mmsf24kdPRzPhxehuBCsiGkENMUISaPUpcQCHEqH8IpG3JPmfw5p2ys1P5WeqXE2vephqi3Wqpr2wNzmiOjVS8Q79EtpPJJ8uTHYGJYiljHUOkYVjpI7Jlc1cKx5oBfK9vS8atJ9UxXhaXr00GXXYl16YRX++guhWOs/mGYiHUKvbpwcAyxTV2bpbKuhKuxXXnlPpYPH753NYdtr2LYLCXRmvNYlTXRuYD4hDp6fjjcgeRiqeYPsU0R4pFYF7ZFtu2Lloe/t/u8OER6tJCP1uuv3I6VO0WsSWOkGoLuu7cspfNUvhDT0ic/49Oewhf+UuX1DK95GkH/YqHfUr6IdQtqFWnWHJAqxFo06poD/qIVqcy86oU62w91R4NOrLoddNmNWJdaGsbBfKYLiGERq38YJmJtaM07flK+e04363GtP3ftI+F5iORTh+2Q63yK9rtrzmOlCywW2SlSGws3cgpB9a3FsbjEKWmPjDWx9IRRnvl8j6T4zp1DjFQTN0esScNCwNxatiTV1oIq57pduITUGr3Qv9W39ihiXYtYZfw1B6RK0RaLvuaAv1glKjOuHGiefmRgh36bYbU76LILsa7ZFgmLV1iP1utY/cMwEetWdD9NV2FJekJf+zTl/LPKvrsLkkCtw3bI9Xw04jmsOY+VEuuP3nrruymimiK7peEQ4ZIvQIJ5aZ65eClibb7i9vGX2C4ncY0tH+r6TZFrSO8+W1u7BlI9a5wRsa7VUGX8NQekStEWi77mgL9YJSoyrpyYxz109+h7FqtyB112IdalL7T1cgExLGL1D8NErA2t9mOxi8/9+6+3l5JOycIt1GvqemuSYLWIyWf3eh/XnMdKdcHe0xDgJcj1SKzfeuu7MYzDMOTIkeaSezFizYdycCHB9SO1dWBvPdfmV7oI6mnsqJWxllSPTzxnGr1ErGu1VBl/zQGpUrTFoocDD9eLFbZxxnTakkeGPianQqqB1pfbzishn02sS30ue7qAWB2tzrmjiLWh1X7M4Wv3ei+aQmlLt9/aS/81XPxjWKde12vPY36dUue8iIh7BG4SWHZ7EmxnsX6UKtsP/9FvvPHtEvKcixMl1m+++Xtzt9Prpf9cPiVGj6X7bko++irzgq+v3HkPUo0sItYpjXQKX3tA6iT2rGxiDXdWhjtNXLsSBpe9TMqlkHbQ5Sxi7RYu2S/lmYwMigzgPf+W98Txca5M6lCKd0G8Zjz3ut1eqdULd5ECfJqjVLS1XbiDxNpkc+UnEq49j5V8bdO2zmO3D3shEYKdI7Cl93ZBrN9667t78KeeaBoDc1qsLYZhU/n0vl8qly9nr7FaxLq3NoP81h6QguI3ufQbqp1vIsiChdIBa1bCDoddTMg1sJj+/GNN+mEYmokg5ZS6CPjy7e28s0W7Gc/dEuuHD98t0dkaLhiFfbr5pabKvpONHsMsm2DGzbXnMRaqsfr5YVSH7eaMYNve0LyYONd6vSaxRlbcPvy6cQ45m6Gy1ZKWuu50Hgez9Wsh1T2NXiLWWfXMv7n2gDRf4vk5hAME1/Nz3U8Obh/c4sdLDo+TI9Ug3kGXzUSQ8ksm2JiMewrrPKE047lXYl24d/UqXyYtbW97GI1ibXwpudaex0raBITO6ut/zTDcK7qFZC9NrEeZDoc747Z/d+9+MfZJ81Mh1ugg1hbDsKWfOFlbKGk712R78OBtS9/jKGLdA8VMHmsPSBlRVrsVNlquVyt84YJaVsJbvrgxF44OumwmgsheSnRicu4lTMQ63wpLdEycfC597pbIspfxLNa++6BwPZe157GScTbsV2a95kU/fJOxYJuLSC25Hol1oYsDhLHUxYR4uKuMfuFf/vIXcGPhS4zscBLq88SI9eTuILSh6y2rb0jpexKGdS+f6rAWItYhIp2v1x6QOovflJ01Wv/YlNHOEpXq0q93z8dLW8Dh18XOK+UQse67k0Uznnu1WJeQWRHr673O+qN/vB6rT0jp2NeLPBW5F2S21WRbupBgj19BPBxuQZqn3EVGYh1xz/CxtvMcqTbLNPlBpu0jNbYnNTKyIIgRsVJizQID3Kf+fVpCPJeiPrwgscZNrEQG0xnHpUg1CMX0GUdu4VC/wmOlT8S/aAqWtQekKXnWuB/qkus1yl2yjNqVMHU+dVINnh102UwEKb92sIzJu3VYaFmb2U6b8RSxnka+tL1N57R8jFi7XqrULeaxKX933r/I1de3YP+nw+FzWLGdhfj4WXEIb8yaTfjHjx7+aQxjP+zjhw//a4xYk6eR6dFqfuvWS/ZJdWSBUOMbjozUIUbEion1Dt5RmNIVmNGGcvpqvdey3e2SpDqlz9b6zUrnN9ZRCSLWs/DcMnGoS663lGdO2S0rYep7DqQa3DrospkIUn4p0YnJuZcwEet8Dyz1iczn0udu6daZfUqbl0usfc/LMZ16C2JdYsyoeaEVEvvhzZufwfWCvaFxFfnwcHiZT46bNRurMoQYd40YvmEY5Jv4RqLNKk2e5E0ZlEWZlG1EOkR6DrEu3o6075OzK1UIcYldL0GsWzYRWJpUA0xMn1cAW+siVETpam0t+VrL2WJAapW1V7pQl1z3ynvNfNzjyMex+qTC6LSdidSaVb5WVqye1yLlA0Ss+05ozXju1mJdanHru23htVbrLF8lWztqV5BHj6I49SRPRX7WlVZQs2JjLcZqjPUY0os1mz8kGMty7GXC2Fj4w/v3f3ck6K/dfJG0lg95+pZpXFNSpJqGGCNipRyI+SYmWxjGAvZao+8QULxNZcZ1p0WMxk0EHtcsxlrkIk1Mn615zUoXNoLSRjWr0BUSi1g/HYBXgLprEXtdCXetZEFmYb/kuiCZH6WZCJIJkwFW6y3+JXvpOny0j7Wv8cpzJshYOwvDliIGJm6x5W/CBcHyW/oY4sP1UmVuMY+5p4XZ3ZdG66O3O8ic+hvphliTbwzfMAxLt7l1TJHnnGwxIlbDgUK5YtcjVq+//nxOjpZ7pU+cehqcShZdEQxWIdVgGNNnC7az04Qg1DSq2YUvmMEWA9KC1SnKOtQl10UJdxKJTls6sHp1fexv/7STqswWw6vf0UJVmeksYl1ZVtfoxX23r0V6qg7NeO7VYl1qKV6KGAC4k2FyZ4OxP3S2vE0pPHW/Q99MZX0tvLgvVFqQrxUUBJS4g+C+EySbdVlYJuPhE8h4zhJdKkiMiNVwoFIXJvRYKlNpvFIDRC9LcYV+jnMWaUrr0yNeTJ898q3OIxwkahpVdWErJthqQFqxiteKCnXJ9bVIOw0otVoFdVxtJbw2bEE9x4GqUoZmIlhZTvfoxX1XxHo29sXEYCFrcanVjf7A06zZFe6QQYe+WSxFcV/oTNyK3Qw6EafSeo7Yd1xgxYhYDQeqmbd6tt8KvGYvftwTjA9i7X4ibFVSTaeK6bO4s/WMGAJT06h6ytE7r9KGR7zeZW+VX6hLrreSpabclpUwb6b3WonXyLpW3A66FLHuq6xmPPdqsQaeqke7HQlNddmdraNzmkaHvllc/JbzWMULzM1PDd0Ti/djmMbCej89iRGxGg5UtD2h84sfZe+wOCz17Qa/uW5cTj9V7zuNeus8VpR2mJg+S9N2jRc23ppG1VWQzpltOSB1rkpxdqEuuS5OvEHEU1oJrw1PB102E8G16xqWV9x3ZbEOoau+dn2wyK+VNjl3ojYBayx9Y7mdv9BmcrQcO/TN4mKL+8ICBqIaAucweb/GLc8t6srcgIycdq5njIjVcqAawxDkeo7Pc627ZI0+wkbpnlpU6WfrvhrTZ1ivVa7DQaK2Ua0iZEMhWw5IDeJ2SRLqkusuGS+QSetKGL0uIM7usuygSxHrvlptxnPPFmsgKh0rvTb5uJUcMNFXWELNV3OVz6qXNhcPB5NvsXG2VDdLjYs1rjoeLo/HdA8evEM7ufLngyqPHn0AwfTiH3GcCJvt1hDqOEbEajlQjdXaq9/7Na4hroxiyz7lTO03HmLhX486a9AR7fCKvkP9d7yOLRpi+vTrtdq5p+ixcdc2qtUErSxo6wGpUtwu0UNdct0l486ZMKA0DqylA3CXeEtNViVwdtBlMxEskW/JOMV9VxbrLmpoXeSO/tkPHrwTm+B8wcjfWdpa/DR/ykTt57f1eYe+WVyF4r6wkMHBtY1qq2UMozlhvdwoQuBjRKyFA5XqKYLBuAgZt7CLkc6nW2LWu2LMeCehdLegSF26zLul+cbm55g+Q52vch1WoqVRrSJoZSGlDT2mnMqidhM91CXXuxHOE6RUN7H6rBm2ZduI1dODsORUxLoEpfI4zXju3WINBO6xb/PEOD7ijm/P2GKZPMqxZR9MNY0OfTOV9bXw0rFySZz2YAhhYXYNnA4BMSLWyoFKXwSOtZ/eYXPaQ2mb6y1zbX6xOsb02aGZ1GcRVqa1UdWXvGyK0sYRU86yki2Xe6hLrpcrrT3nUt3E6rNm2JZtI1bPSsSbiWBlOd2jl7aPlS2ZzXieArFGic7n9UhqY21w5bDVdxUoacwxDErStcQp7gsLWaxN5i3J9VKkmrrFiFgrB5rx5Kdrn8PVyvTWcixtc7F+sGZYbH6O6bMFg9lpQiBaG9VsQTpnUNo4YsrpLMpq2YW65Hq1wisKKtVNrD5rhm3ZNmL1rICYqM1EsLKc7tFL24eIdXfo90Su34eo9K/h/Bw79M1iIYr7wsLEGoHdU43V3EJ4CrIkqaZOMSI2hwM5X+gm141Yu2oIm70FbWmba5Ct7wIi0uZj+izubD0jhuDMaVQ95ZqbV2njIN7csvaSPtQl13uRzZejVDex+qwZtmXbiNXTx7DgXMS6AKSKKM14norF2rBo/GRxt0mz184jVp/exw59s1ik0rFyrbGKxQ4vxcUw6Bz2GCJfDFRjxBgRm8uBHEbf64zHZP/qtQVtaZtbu35hebE2H9NnY9OYl+yasA8e/Kt5Oe4jdWnjiClnHzWolyLUJdf1uSyfolQ3sfqsGbZl24jVs1IzzUSwspzu0UvbhyzW3aE/ZojlrWH3jsnJP9auLWy0UL755qOjEDs9MXn941KiFveFlQ1E9L2FfIqfsBXjUniG+caI2FxibWVQD9q0306WOB/fb+io/9I2t0RdavKMzc8xfZo+Vj2GFenVqFatRKSw0sYRU04ku5MICnXJ9R4FL9VNrD5rhm3ZNmL1rNSliHUlYBPRm/E8NYu1j4Pzu1788T9W6r26fvh4cN6hb4ZZJq9Lx8qtxipHsN+fSyCxti7t9hEDOUbEenIg2jT7XM/FJ9bmXFjV3uExDMKw0jaXkWnWArs031ibj+kzrN8q12ElejaqVSqQKKS0ccSUk8hy98GhLrneo9CluonVZ82wLdtGrJ6VumwmgpXldI9e2j5kse4OfTJDR7B7+44+QddT2/UlhSq88e4wPPvvh+HGXw7DP+DIdWHSaLQOfTOabyywuC90tFjG5CgJG32wHzx4xxFJXCFSC7LHPA2hbrgdLbmgmtJ9jIiVciDL229bnFsb89vZSLCfYtOjDz0ZF6L37r1SopfaOKVtLtYP1gxDzrBuMX2GcVa5DoEobVSrCKdCqhAIdcl1VQYrRR4fM8f27NxZ2NITfg7uDro8WWKdw2XDe814nrLFOsSbPuEecTd/5ANSsNaiCHLz4c0EvnYrAAAgAElEQVSbn/mbW7eee/zqK89z/POXX/45n/SEdZy67tA3p4rQ/Q4IoGN0ndN9jIiVcCAWaeT9nw6Hz1n+1r4I454t5MKq0IdYqEIMnbtVagHCR17+m4vzPv1uDb/zUN5Tuo7pcxP5w0GipFFtIqgKnUQg1CXXk4kUYZcIdNBlMxHcJSDbC9WM5zkR61ANtkgeyTZEIfa/f//1tQkBpApiA8n5z1/60gt/c+vWSz/88pe/wPHD126+SDj3Wwh2h74ZwqjrjgjkdE9b8HUfI2IxDkSeZpkmPSSadjS2p8Ph5Q+9P2F/ffv2L7p29xwLO7Nid6ymsoogENNnJNryQeEgEWtUy0uhEnogEOqS6x75Ko/1Eeigy2YiuH5tT6LEZjzPmVjvVXOQ5pH8HA4v/5dXv/yPP3ztK7ftP14fDi9zn3i1dejQN2uLVPwKBKZ0D/E13ceIWMiBjKhjmYYws0D727t3v/g3h8Mt/tau7GjhtDPi+gu5imooagMCMX02ZDM/SThIhI1qfgnKYS0EQl1yvVbZKqcvAh102UwE+9bkbHJrxlPEev02gFVxtCK+9pXbf/vq7Vf/7u7dr9p/vD4c7nCfR/a10nXom7VFKn4hApBg0/3fHQ53YrqHAEOu0X2MiPkcyEi1LdIgzeQZ5mttyz9aO4NcY71uWcQVVlvRHAIxfW4CTjhI+I1qE4FUaDMCoS65bs5MCTdFoIMum4ngphXfb+HNeIpYDwMEhb+93BU7cr+H+skHIoTF0Cc64flodbx16zlkKSyXeDdifbOX7KEcLt+xXMq2/1LlheXPuUZG/uALqfR1btcWZ045lpa8yBcSm9P9SIyxON+69VyMiBkHsvxoS08tz9cXaWGbCq+trD0Sa+pn7Sk8unsGbdVxKt85eU8JEtPnVJpF7oeDhDWqRQpTposiEOqS60ULVOaLIdBBl81EcLFKnXbGzXheErFm0vT/Rqr8F70gNOEfKyN/e+nLz6N2IqbM0b/1cLgVEh3/GvJlLgFTTfP27ds/ezgcPvcrv/Irz8X65te//nUs36UEfao47t8gTyuTcv3/AuWVyFQVBz2gz1DXdm36rtVvSgjyobzR97lA98gRI2LGgSDpPqn2207x+eFwB+s4dQWPlOxrhoMT7TnVvmhz3CNOg26S7XZmvkUQxfRZlLB3pHCQsEbVuxzltzwCoS65Xr5UlbAEAh102UwEl6jPGeTZjOclEWuICH+ILX9IDn6pkAv/Ba/YOXH424tfIzl2u3hAckoneSPWPPLPESCINWWQd659QjC+8Y1v/MM33njjl371V3/1l2N985vf/ObnIQ6lMubKIw/yIk8rk3L9f8/ycrLMuWfWY3Q9Wny9F/zsugT/UhnADWI9trcJYo1LB+00RsQIIy/I8NhOJ9qRtbHROh24HdEGkYcXGHu0jVIscvFozyzSvvnNb74Qa1+EcY84xM3lFdwbSfVEvp9vyDcoJn0Z02c69oJ3wkGigFh/jU6/oEjKuhGBUJdcN2alZBsj0EGXzURw46rvtfhmPC+JWONewd9e5BrJ7eFwB3/X0r+lhfxAwCDbkCBIUwk5IQ7xSW+kJ3ZETuJNEWusd45s3P71X//1fxrrm6+//vpNyK6zJM9qw5AZ8vr1X//1W7/xG79xN/Z35b3Q2Uo+S+4wMfpCf+j9h3fuHHz92zXElXhh2pZr9A6BhaznXEFoC9zPWaxtUWA+1bH2Y2HmS027JT7HMezu3a9y3XPx0IJLmIY2Cvn957/6z/+Hb37zm7fD9kWYu/dCTXu2BShpwzztumc/CevF9SkT6/eGYfharFIK2xaB2IC/rUQqvRWBDrpsJoKtMp95umY8L4lYQ5hG0uS9LGgEpOnIo3RHsLH8lRJsn9RFy3UvL2KVzJF17mFhgyy88cYb/yP/WN+EcBMHy3allS/sNjcwXGGdJk8rMzxCVCDfM8sKy+56DbYsXqL4u/bB/V7EGuEhxBBmCPtI5GPt0HtxNUbECEMmFnTJPO7e/SrtfCTeLCQPh5ftiQvn1Is/YVNtrCvoBZk5Yj0u3MJ2Zdcs6moXim5B+ALk2fIJj5B2Fqk1hL2gSscoMX0eb655Eg4SCJYqn0HmZ4bhk2EYvp2Ko/DtEAh1yfV20qjkOQh00GUzEZwj9xmnbcbzkoh17HF4jliV3PMtgqMLwWs3X5wiY2ZxfBo/cAlht4i7d7+IJbHgEf0NyPIUsYZAzCUNzK8lpIeyINZGUHILgy374xbEGixM9+g4JMZYk2kTZkWOEbEf3r//u5Bz4pnlOWynkGqs3qPbiXNXok3an7qTB9fIs6UewrJL2piIdYha5XU4geeItbNUM8H8UWUxir4CAqEuRaxXAH2hIjrospkILlSlU8+2GU8R60+3ugsJSvW1R4ohLClSSTikZiTPbi9rrIuQIZ+cp9JbY7XH274VLtY3IbtYmIkHEZ/K1/IPjkcS74jzaCEPrX4+sXZumbt4KS6oy1BCrNEFegrTzrk23ePfT/6j24fTPdZk2gRlEi9GrD96663vEme0Ogc+07RXyDZtaY/W6BLcjFjTVmNPRawdt1isaft+Xwnb7tzF51T9YvqcSrPI/XCQyBHrZ5999veHYWCC+YtFhFGmsxAIdcn1rAyVeDMEOugyJIK6fjp29cKhuG2IWHck1jzax2f3y1/+Am4hOYszxAnybdZD4vPnmnQluzQ4EnLl8XasbxqBgDjUEhJrSO5R+ucd+UiSaiPWuIvgprJXP+utiDV4olt0jAymdyzIXPsLshgRg1jbC5AxizXWanvisTdrtLWl3FHEOodOp3vhIJEj1sMwPHHE+id79u3qBM3JZRPqkuuTq4QEHhHooMteBFL5xAl5cUsVsf6UWENURrKSeJnxeD/mG+uFjS84PvVrfa7ROjypP/I1EsKjcSPPsb5p97D2tRBeyirxrfbL6eTTPYlDa4QtiXWpzCliPfpLu4/BhE9VxpcU3QdmSsuZE4+20bONW5uWxXqOVibShoNEhli/6ki1TbRc67cjBEJdcr0j8SRKBQIddGn9VMc4MZ6LS7E2Raw/JdZm7fNf9oLEcI0VGkvg+EJY5BG8T3Ag4MTjkX2J5blYWVcjji8S4stcSqwhvrX+qR6Bf8Evx0h07AiBh1izu8NejVznTKxtC72rzaXvFe0Ci7j/p63PJdlnQKxv0ObDP09uYgulvlopzC2cwDPE+t2AWL9dWISirYRAqEsR65WAX6CYDrqcSxyVPk/Ii7UuYv0pscbaBymBdOHnytH+PKqHKEO08YvF5WO0bnuWap9cc5+4scfxkA9IiE9KYucTJOUGrha21Z4R3FjftHsc8Y+G9JJ2In9rQ6NvNZbuEjcQyvD8YK9tiebKjJIPIyO17iMteW5FrJE1pms/zAhqjIjhCpKzWNPuWAjiYkIbxuUk9afMwjYwfp3U2qz1DcqgT/A3lxbrO1af0vytsZ0IsR6/Mmrt1Y7ITr/Clzv258XTsH9avVc9hkJkiPUPAmLNtnv67QiBUJdc70g8iVKBgHRZAdbOo4pYf0qsfSszhMD+RijMLxYigQUbEnOFTHskG9INwbEX0fxmAOmAiLhdG659nAbixH3i+emC8yZi7Ygv25UV7TMNacAvG1INYfZJeurcI9bX9s6GfEA6yJNFQfgnvPalR0fGxg+KhPm5hcf4QRGfsG9FrE336Jj2Ef5pE6b7FmJtT0t4uhLmHV7TjmnTQbu6dkk/IJ61WfKxJziUw0KTI3/CuU89yJ/2T/+5lmkiYM/EGhzoD7RP+k/Yhll8smjFjSX8E/6XDx78X+HcSX3JNwHHMsGhEAliHbqB/PSZYfj+MhIp11YEQl1y3ZqX0m2LgHS5Lf49SxexvkqsIQ8pfI1oQ44gDaPl2iPTPsmG4EAysHSHxAKy4Vsdiev/xz2IIV550jMS69CSHOubIQF2BLlov14mfsooJdWOuP/TlMsJpASyy33yDP/2giUEJqUHPxydYCWEuIR5cU1+3AvdUrYk1uh+dDsK9G6kmPu0kRZiTRv021L2/O7dL4KDj2d4Dr7IYotJc4XK5suikg/R3L37Rbd4fI4+Q15h/uH1nok1bZK2BqGGONO2eALkt7uwr/nX/9+DB38Y9k/aZe1CMsSs+joUIkGsQzcQCNuP/dVpdcFK0B2BUJdcdy9EGa6CgHS5CsyrFCJiXU6sfYVASCDOECSfUNv5SDwSX0+EqGDVy1m8yZt4fpnBeXT7u1jf9Cd3O4cYYDnOEVjuEYe4lq70COmAQDvScBTdiFPKXxuSApEvJRvICDnJ5Qexph4+J9iKWLNYQrfWTq4dvY8DtRLra3kmFn+QZBZ+R+UEJywIwQmiD0mGLJfmPcZzH1CirZv1eopcW/ugzdEWwvZGmCO1156GBOJfuSxpy9ZmkeFKYnfhZBu/Cjm15WQoN9cxYu361i9N9cWYPM1h4SARI9bPDsNfBW4gEDb+/6S5YCXsjkCoS667F6IMV0FAulwF5lUKEbFuI9ZT5LiEWOeICuQrZ7E2QhkSkFjfjE3ykAgIbMbXenw5EuucIxxXttiLkR6/HIiH5e83ZCM4ZmH203DuEaeSFx+zMrr8xq/0QdR9UrdXYk2bgIjSvpYm1uMe2gli7ZPq0fo88cJuinDTD8b03keP/PYQnu+VWNN2aEP0h9QiLmzL4XWMWNPe6V+2+KN/hJh0vw4HiQixhjwbkb5yvDEMv91dIGXYjECoS66bM1PCTRGQLjeFv2vhItbbEGusgCnCMpIR/G8zriCOWI+TvE9yY33THlf7E71PYH1LrjUuI+4xAkzaWJ5+/twnLcTd8uQIQTHyRBw/jZ2b5TC0dvv5cG4kHQKfysuT4Yqf75bEGuKMjmNklDYx1xUklm8sLEWsfVKNVTuWtjrM7e8ec43y9WptI1wwWtvw2u2qFmsj1ubGZPLUHGPE2tJbf1nFch0OEhFi/Z0UsXYfjPF1pvMNEQh1yfWG4qjoGQhIlzPA21lSEes2Yg1B4PF4iiARzn17Ec1XO9bINYk1FrYY8YTAYoGLWckgOO7FP1w6rlirSeeIz+gnHd7n2ohCSKzBAZIy5b5B/pAM4vrY+ee2uMiRMEg3dfHTcS5iffertE9w8LEB76n2WU2qnSsKJB2fa/JP6fVSibX1GXvKAz4pjHx9NZ2HE3iEWD9OEethGP6sqVAlWgSBUJci1ovAvEqm0uUqMK9SiIj1VWKd8zllouMlLIgBn6S2F7liRANijTtHzEI3RVxIi1Wz1GLtE9tY32SydlbgKwQZ6x/3QjcJGh6EOGatpiyILKQ7dd9IgmctvtaWyT9FiEnvSH925xJIWKpuXh7RhcO5EutxoYefNpZvfKhz/+BDMta+7cXcMa+If7aVMbZ/txsIJJ3r1DsH9JHxhc0Jl5C9E+ucKwj9iXbLQpa2Tfvn79r5rdiuILRT/+/a/dhmYwveax2pJSAcJAJi/UqGVGMN/fuWMpVmGQRCXXK9TEnKdWkEpMulEV4vfxHrq8Q6tSsIpANCbFuOQSRyJMLIccw6tzaxxjrsyPCVSZwJnXDu+1ZdZwmOvhAIeYBUY02GZMQs4eRLPEgF8WKtGTKfI8Xkm7KmW35Gzn1iYueUb3WLubqcM7HGxYOFGdZhFoDh38LDpyksGlkIjou6xIuKY7t+7Su3WTRCwMGRP+nIl36ReykXwk/+pDE9+sdTJta0Wdemx+0daeP8aaf0sb9+8OD/DOdOa692pN2SB/0m1Xd8vJrOQyE+fvTwTyHX/H/ts5/94wli/dP/5xvf+NcWX8enuG2FQ6hLrreSReXOawvS5Tz8dtX+Hj36INSnP87uSlY39rfK9KN79/4w9//o3r0/+OjNN3+Pj3CE/48fPnx3vMd94t279wclecVkHfN2+aTyoCw+KBFLTxj3mKixguG7af9Ql1wTN4xn8QknH7+sVN6k8ePHyrd8/bixOuTKsDxCucJ8cuX7cobpuDYdpPAn3NpCLH1rGPUm31S5fhukH4b6JGyUK9H+LP3YXt9667uUF/6pu4X59TDZcm3b8icPPy3npB/LTchmdSYP4oXpLY+cXv12NZZXOCYQd26+U3nk2twoa0SfRqj9o1sQ8tLw55uI81SisFH51//shReweGb/73/taz/10+j8kfB4JAzUD9QG1AbUBtQG1AbUBrZtAz6htnPcQbBa85/iyE33U0r/89/8zSyhNsL9L2/dEpEUkVQbUBtQG1AbUBtQG1AbUBvYVRswMu0fzY0Jy3UTcZ5KlCLW//udO5PE+plnnvkpVu1UHgrfdqUm/IW/2oDagNqA2oDagNrApbYBn1D75+4lxttTHLnpfgrsEjcQrNa//NnPilhrhao2oDagNqA2oDagNqA2oDawqzbgk2n/nBch+TcR58ZEL2GNNnePguOLjeUomRAQAkJACJwJAuxoMG4VFtlCLLZlXkmY7ZLgPrbxEjst5LbJA8oeu4LYVnP+ZOyfs+UXLz/Zbh/samJb6Pnx7JxJ3KVhu7Brn5L2twGz5mD5kdby8Y8uDVvmJX+2CwRlx8p1ef+Sv/UYOy2w40gsvj1GZ0cF6pwq+BR2BQllpz5uB46Xxq3uIh+ZsQ/MEC9X/zBvdgRhlw/yzbV760NTx1weORnRLe0WN4icfv22HdYldk37oU2Qr99G/XPaKzveWJ/x8wFLk4226qezcz/9FPbIksqH/Kg7f1+Gpc9/p4BMH4n3jWH4raUFUv5CQAgIASGwbwSMDOQmfbtHXDvnaGn9o+0VPH5+/LWbL0JmIChTKKxBrP1J3uSBXEAcUkTYJnMjCv7Rke4rJLmUWOdIhhEeXtSKyYVM3IPUWD0oN0WQHFn5JeLnyhWxNjSffrCHxWAJsfb7RPP54XCHDyTFyL+RVxHr9Yn192qI9TAM3/m0CelMCAgBISAELhEBI8UpQjCSae/jGuOeu+y76z62gVWafXr5sxcv5AAygpU6tl91CuO5xNqsZ1htffLrn8eINfs5257WEFY/fu4cwgu5hdD6dZoi1qTDsuhbm/30nFMX7iNXyoIHybK9tp2F+wVXvyv7clMni5srk3JFrD/VBDqgTdpHj1L9o1c4/cz1n+fCxc+lEGv6Tqq90xdtkfuplpY9e7HSDQTL9b9bViTlLgSEgBAQAntHYIpY25fhIMz2NwLNNcTDJ9JYp/n/+2G4ERKEHBYlxHq0gt+8+ZlEPjdaHmsjIxM6VusYMY2Ra4+sHt1KTKYSYp16tG55cDS5UgsFZIXYQ66pd0p+ZDXr9pQ+RKw/1QBY1Visp/qR3U8d57qCuKcn19rjpzW6fmZPRlJPOmj7icXomBkYGelPEWI//VT725sryLcrrdUQ6x9ch1khQkAICAEhcEkI2ESfsrzZhM9X5CBeHO3P9WjVu3nzMxDpObjNJdZzSEJJWp9gG1mFRIdW4BJiXUp0sUQTN+UOApnhPqQaAh6LB7GZspCb3kSsDYmnR/Ox5qlMqn/Qf+gj46LvcHiZRSfntX++0GjvIoQE1HzuU64gPgGG6F6tRfrK8k2RYvJ19xb3sabOeyPWf1ZLrJ2F+xfSkOuOEBACQkAInDsCU8SaF7ewSJsFmqP9mQztPxenHsTaXDp8Euyf+9azUF4IiSOpV1wp/PR2bmQVYhLmM0WsfVIe+6y4nx+kHVIMuSGdlW9HwrjnCNe1ONw3N5CQrPnl2LmItSHx9Eg7h+yOnyRPvNxrT3TM9QkrN3/ac+pvcexIPM4h8jE9uXbwQurlVNoDuuY+5DSWx9WajVc3aKu0edcvrrV7r/1ELeGUU2Kxtpcqc3JZW0/JQh1dv1tmu70AIHb3+EktsXbxXw/y0qUQEAJCQAhcEAIlxBrSsDQkWxNrm9hjVl8jskZgILMQmBgxNmINKfHT2TnhkBnixdIHOI/kJ+XmYfJAOJA7LJNwr6wg6+uXpcQaEng9dXvISDAPh5dpizHLsD01oY2EpUDWkHt0UzocbsXysPTEy5G7WN48nckRa8rDOk28mrzDsiaujyQ41LG1K46OeGb9960ca+85KzhtCrLOgpX4ltaO1LeGWFu68Eg+RvJz/c8tMG+F6Ze4fruRVOMO8s4SAilPISAEhIAQOA0ERKyPejq+xJib3I2sph65G7FO5VFJrAcIDSQeAuSTqKlzyjFrdcyyfqy1d1JKrGME18um+nSvxJqKjNZk3Dvu3DnESD9hPNXBlaM3LgakEVgWWKl2RXtA5xBh2mCMCFt+LOhKiCxtnTKJG1sEmlz2VCXWJo3s59qg75KSWjhQb+rG36vHYqd/MoNYv7+YVOtnjEUFC/y77v/BMAzslEIdCWMB8ur6YqlEISAEhMB+EZhJrBlTGVtt3PWPGG6Kn4pCSp6+DPmV2zGro1kGU9ZSZ4F7IUVAmbCxeKX8jY0kTFmHjaymiIsRFkdKrj1ehyBgRXbEvMgvnbikSZGOGKFxBGzcYi9GiiIt8vUbw/Dbh5/5mfd+7bOf/WP+/9PnPvev3/nv/7v/5Y+/8IXfMlKJv/G4U4bna28+96VHdI3bg8nAOb7JMb1TrlmcY8QVvS1lsUY+ZIM0I0NKPsIh17Rf3yWEtOGf9ks9kJl/iIVhEh5d+/58ql1ZG6CN04ZZjEFYSef/CaONEsfFvdZG/bxybhzWZ3LE2tp7Th5z4XJtNiqP1Qu5Q2yWuGZQ+86zzz77+8Mw/NEwDCOh/Jlh+GSKcD87DH+1hEAr5/kt6ozPeMl/GIYnbhJY/NHmyjicanFMzCyA1vi/d6ogSW4hsBQCkIIUYTBrXOAKAlnGYPHjkjHXvc/DvMRclfxBMJYk1kzaucfaCAYBgQAQz8iFfzSSkLLgkYf/aDxGhAmrJdZGqiAXsTx9Ge3cWQrZYztH3tFJ0fwJp4Bs/x+/+Iv/MyQSgt36R8+QSmsMeyfWtH/cPf7ucLhjC4zwSB8ayffdu1982o5vvki68O8WJS+RHy4mIRaGSeR43PUm1gb+0T/6R99+7rnn/q39h2F4D14Y+3OPeCx8rb3Ejiwi6Q+pNlRCrJGVtuj6HguDcRcb8uUcokw5E6R6tMQTn38Em9WCsBzYB2GwHEAkX3FW23FlOjXQrSZpW0EjISsd2MN4TAqOYLeVrlS9EHg91M1S146895Jb+fRHgDEqS9akw/6gVxDrWWMu/doZNqJW7F7EOmWFY3KH0OaIAujaY2niM9n7/ylrtZ+euDECRBhy5Mh5RMvHR/fIFSNBYRjluzIi2Q0YpJ60jrW//Mwzf+lbsUOSOXUNMfcXa3sm1pBH2iaEmIVEbhFKvX2CHdsZZCTTzhecuOQJFpQTU5QfxqINIhprAxDlWn1CxsN2Y9e2iKQ/+DL45yXE2s+PvgnBpv3zd31kcrHoSPf49MU96fHFWPUc65wR66ylYFWp+hRGfbITcGkDcxO1rNd99NKSi4h1C2rnmWbSciZi3V/xJcQa94DSMbUkXsyoMYdYl0zwpcQa6xyElMfbkBj/j7UMopEjQY6Yjy4pKWINuYDgY4ku1aizWiddXYzAmIUQuSOkiLnu/RIdTcVhDsZVZIpEx+5j2T0lYs3uIFjYcVfJWa2trvSp0SfbfViJ+vIn7biLiPeS5tN7N19kcZFrV66dHBdYYdvqSazJu2QRWdLvrF1yJF9Isi1awzr4ce2cOBBy+h59oKbPlPatmng8qjNizer0XH5vT3X42vvDMDx2Fv1zweiU6iFifUraWk7Wd0r6rYh1fwVMEesv3bjxf5fopjaOcyc5Vmi0CrIPMAQktbXZl7/8hYSP9Ug4UtY8JmmzwE1ZrBGIyRtSinXM/zuimnOtOFq8UxZrZHGkJbqF2RGQyAnlY+nLERLuJYg7pPpxrZ6m4reQ6xaLNaSWNhLCArmD9OJSQb7RtpP5XHiYX+oa4stiAIszbZR+Ey0r0XZTccnL3EEKiPXYNiGZoVtQL2JN+7H2SdvPyVRLrI0s1xzdEyh7VyClntXC8WkzYh199LaaJP0KenWqk7feDwf5fiIrpwkERKwnALqA27ioFT2BErHu3xpyxBrS1DqmlqQbhtElYazUXGINYYZ0usfG116AIjxBOKOgOkIBifb/0bh+IOQ39zIXpMJZ4KqJtVmtQ1LlExVX/9FaHZCiySdCJTqLxeEFxxRxjIXHiPXow5wgpaNVd2NijY5Z1LGnOySfOvQg11iwqTukHfLut6XUubUxf/HWg1h71uHPO5eL7CJyaWLtXF7GXUm2tlSbLvyPxuAbdw6/rE+YszzjW85Cwv/jOjL5+KvmDfZzAHMndRCx3okiNhSj2IomYt1fS+PEHtlKDB/aGIkKw9y4i+uhvyMI15N6ZUFlTwvNFSRFWCAxEJqcxRpiHfM/hXhWuILMAjlGenzi61sEiVtTGESGBQQLhNQCwpH28KXFoie99C9/VxBeVuSlxVDn4TVxanyuza/Y6p7zsR717qy6OYs1O3ek2o5ZhUkfLDZMhKIjaZHV7X7yEvXAvSO3OI0tLAizNLZoqCHWLPYgvizgINe0hTnE2hHq0eWCpz6l/v9LEWvksf5aKkuRAjtE+gvPYo1F6NR/74ad2a7d4Fzi7gIOycHevVhz6jidmvxJYu2eIviT9dzzc3vX4NR0HZM32a+tf/tHEesYhPPCICP8xwne+YJyfvj5n/8PPvbhuSPUU09DuZ8cc8nTvqcwWqxfu/mivdwVyoOMkKeEVe/oFw3pdOSST3mPf64Jh4gsPVFjWTPreSgH8hDmFgCjv3at9pA/tYCAkFBPV0fLuuSlYFxHn7fFTYg9Fml2EQvbgH8NIQ/Tpa6x0Ia7ghgxDtOMZHl0v7j5YopYE44lmXxjbfmp+8bT9HOItQFKG0R+ysSNw2+zPtE28mxH3+/6WK/D4WXyoQ74clsZBccbbhE37qzh+hG8L/wnnwby8iJtEnJubbLEUm2ylRBrI9V12kcAACAASURBVMm0e+sPLAQ8Mg+hP/pee7KMfXUvlmqrM9vKmSvIqX+6PDkwOFJdY5HP+pnJam3NZ7VjjlhPTdqrCamCFkGg2rVLxLq/Hkbf1Fu3XhqtwTzivnXrpf/t+edf80lTeF7pOjc15jJXjfsFYwm07ciQw2QaH727PYJj5IMJHpIBoY29dOh8rz/PfeL1IFcpTUAEnDWRrcGuvQDpZHkB8ttAGsYt12IWa0dUxn26A0t41lrt7w4GYTSyaJhb+4AI5sg1VutjXPydI3/TpxFJw9A+HR7T+Rj22tOt62KLKnRJOG3Hl93K4jiS9lu3niNeL91buRBirM2UAbGHZGPJBi//Txj3iGMyIS8E3eRqlO0KwbaFpZFXiHbYf+0aVyzao/UL2mONDMQ1yzmk2X8yY+fIAVmmHP4QeJPRyDb3CbO+QZ61slhbWvr49xBrAFy6oBXyTw4MjUQ4R+ZYueu3HgI5XYhYr6eHtUuCbEVdu9xiOWrlFLHuryYmdv7+xz2wftnkGx7dkz30V/N7JczHv2YrWCZp3DxCWXy5uJ+Z+EeCwaQMaQ3/hDvCWWMVrKnjGBf5IAWUFZPF5HCkukaW8fG/Ix9Yvq98Mh0Cwz1nrfbzjfYl8Gc/Y7+CEFyIoo+5fz614LoxDL/lx0+dU4ZPkqd0T5tA97FFFfITTn4p2f30mfbjQ1F1bmVDsCHL/Fkghn/CiQMuhkEveWhP6N5fXEJinxmG7/t9zT9HX6RxbbGqzkRGdtozC8gcsUYO5LI+ycuX7s++1se9rbm/9MK3upJ+Atdp6Dj4sJ36LzowVFpNQgxSebJDiH7rISBivR7WeyopuX2be6Hte/4EYOci1v1VCCkJ/7mPhvgWzkppki/PYSBhkrZ/KI9dT5EQSx+8cAjJvOHdqxS7LbqTdSw7lCesB9eQG/u7+MeCjTQZgQlJNdZB95h93JLsmHAYnre+Ezuaf7vFN4wM79gx974SXCuWJgyzcqxcjoSF8eza4nP009i5f9/S+Ef/vqXpfaQMyoRkT/2JZzJ1lmNsb9aO3EIyOpbSHpxh0l+EVYlDHaaINa4mLPiI5/cDk9GO3r0qGdaMjOsHoPEfH7OtWXjnspKWjpmfKMffNvW1v85VUHYZBESsM+Cc6a2cztnNiF90MhCxdugsf4gaHtxkXGutNmmT/vSNTx4t35M/Qi4gHs7aOFrzOLc/1j3ICY/ME6Ta/5qjj8e3YoTa6bH16WzuCTJzqn77QiA6lnrEulnaUmLNgtCR/Oay9pDwJY9Yn7oFNtqJ3Ysze8BaMsxDIEey5AoyD9s9poaURV+mcU/XjLRFJwMR69VUmnpRmK/4tv7U1xPIQTogzzwyd5bn40uXdm0+s+a7akeINoQb8gJBD4rILWZaX+bO6VHEOlDADi6jY6mIdb1meJnPLNan3tCj2+S5rZ3qkVGKvSGQG6RFrPemrfnyZN0BvOyjk4GItYfQ6Z3mrKcX3dexVmORTvmpGomOHSOP2v2WkXO5asY8YwU/db7hY3cu59GxdE1iTdvete90oaa/4RFre7RamHR30aKN4tIfHe5OS+0CiVi3Y3dqKaNPn9wAf+UlKrmCnJpqi+TNWU/tSUVRRucUicfpvLQV2+kjRqT9MKzVpCN96JftMKJfQXZj/2YYRaybodsiYZRDiVjXq4I9nc1i3epHVV/qAikyHfhiB+IFYN4yyxZizX7kWFv8x9VcN1tgtgTgQspOfl0xsctEdDKQxfqkW0tqF5hTd1ecpRSINb7Ubkuya1+M9Im0f45rCKQaF5KIC8gsmSYSJ7fJVP+cQG6b29GxtCexxiLtnpxca7+2Ww1PZWjr20DQp1R8p4xYh5agPiWsk0v0jeaCnU5whWFx4RMvziFeIuTr6K60lFJijd7QYXRy9hdg7Gjgdi6Qrku1sHy82sE9Gl8T9/KKWqiE3PZ9rb6+C4m6braQDchxqRsIVmri2hZmG7wUlnPpOWlD3rqaX6206Fi6FrF2L9uOu4KcOrH+HY9YQ0ZO9RclXYnJFTJNp46+GBUQLywkvIQj4rV9y4jqOOj0tOFJvfo6dunZavKiJ+3t1TtKkHMBSC38o5NBou/vpJoSI4FATv/sWnXR47BZrM0VxBHn8Wt0ifMjqV7ZUm3qzfltnzLfsPqd2zE6lgZzbFOdabvuxdvx0+qp9mq7gpw6sf6OR6znvMXdBHbHRFHSFUyuPGJOvhAVki3/2lm+TxmfjlBvllVUx67T89QhOSj4usydOwv2RU/em2l3GHKPjXOkKqr3oO9vWC0VPYEA4zJja/YJk3uyOJGVbu8MgaROZ26Bu7Nqno040bHUzbFyn6xQM1YgcwU5ZYtd9GUn78MwEK9qS2ZIwlx+Il4VDaxj1Byxnq1b07XbnlE67qi4wqxy+yHnBvXoZCBiXYj6etGwUNofFyxekivqt3qatJ6SOpYUnZMdSTv1b2Z0hGlXWUXHUhHreh39kUesIZ+n+os+QnQDedLPy8hUzVH7Ym/WRJLEukZ/JXGd5Xqzil5gwblHxikXEIMpOhmIWBs8+ziW9LtYHJHqfeivQYqctVpuIA2ArpAkOpbSL/XCfx36WA7MYp2zCl3JNTYA9g6rVGSKWBf5UtfKPgzD1GR/Ba9Tu6jFoyV+pX6BsIpYux0kaN9mJePIdXLA9+txDhO6X5+lzhv0GHaHpF6dDqeeHkQngzMm1tGxrqd+l8CuVj73dBA3kbP91WLSEr9D/2zBP/kCKnUYhuGs9ZoALDnOteg1lSZRdmlwdCx1Oivmh6WFnXO8P/OINS/1Ff1SSu0Z/v+3d66wlhvZGq4+PbrS1WhGIUOCggYEtMKuog5oOiwwMOSikNBhTYOCBgU0DmoyKCTksoCAQUEhwwKCg+bq36nl/k+dKrv82C/7s7Rl73I9Vn2rbP8ul8szTwizLjZ5zLQeRUpsaXyfGo3WEszNR9Jev5n2dXG9lUhez3NtL+DXdWLKYmzq6Yv83TyJqM6dou5WXFa141y+83wX+NFtlWhu3uh05l314znEoRt+xe1Z5zr3Ve/2Odj1lq14ufypY/iKLtim6DlMlsbtPIa2qdDvuUg0N4f47L1TagRk1/VrqZ8j3Uj5Pbuq51LlfYV21GPvzcb5wYR1911kOPGc65mO7L7YZDE91Qsm4TUqsLPwulnHrjHsnH6NvGf6V9WZPDEtGAPfHIIgO++91zpYn3O9wI/eNJsvE8+4AFcvBucQh274Fbe7z3VL/X4OdktsycPudttTtoTJ3DQrj88lzbx53cwdWlPX3iVl3kOayevXXN/W4q8EUT2XqpwrtKOVVblu8p9MWHc3+JpDtw6b6cjJi00+qLt75fPUTtXPpEddZ9p4XU/PKD3qd871AnajJ6YVYqDp43sfT39O/0XeC/wYLbH57sPMpwXVi8GK9hD23ep68lwXvlm6Pge7pbYoXX6aeKv+WGzXGia9aVccn0vq1TyXZj/e8wQJS3h4mtHrV68/p+J5gQu2q+fS7Lvd3uAu4DSZ5BcJ6wxuMnJEmHLuFvtnnhBGLzYLRHVUVeuxO/BdTnK/hf+m8pjpX/mheWLK/u1+4uLOzTdQY48uu284i3yv/nfKB1vsX+BHcZl6XDznJF69GJxDHF7dob8bMHqu28inGia39SKf+k9DPeK9h+bxF/W596dHNZhRt3OuFx6fNXOnwpqzgKh+vBDevn5t6f8pJ03sr55Ls//mnJMnitn/7t9yj7U+kDFn0Yn33L85vctTB/WaOainBN0cbvcS99y+Vf5z/CtuY35Ye4PT7Gm58/lzb9GP8uXYCXzui8HVvHYsrNXrd26/zvXBFuc1Ce1mJ8ZOL+7n9uOS8+wSX05df6Uv7raDYgmQShpd7y7h70rR3UHVc+lOj71uKHMj/tmGgdz7vJJjomvuTUON49gLVkt7SmvlEHYdAmPDEtSrxrIdgeaMATOHgIRF1YvBjoV11Huv67GbXAkTltsi0COq53ai3FYNj2NN9VyKsJ7XAN43Ya1Pd9/zMias1/ZmikvzJbcLPmq7Z//cuu3v6eRR+9lHhm69Dvdgny6wzcf+C4+l6sUAYX0PzaFp49hLrYi0JraL7xgV1VmQHXlc9cUdsrLA6rkUYT2Pqk5QGvuk3733BIx9DnnNMJAgOtajuUX+UQ7rKxGoiep8Qrn3Y+NKRKvFNh/1z5gFpMy4ejHYwTmtrOeR/n8wcjxeY5jKkdj31hVR3UvqfuJVz6UI63kO/MSEtT6ccdfLyIl4i0H3Yz3iDBW465bzu/Ej7QdhvY1/my/d5ZdPNcbWX27r3a6KdZuqrcyHoVvb+PPcuYz59dxlk/84gR5RTYfTOMNb3IuwXuuV5yn9zYT1FsMl1pq0Nn11HPTCx8ulLQjrksjO/iOsz+rQ5hOlFvdzheeZKM5aWTLfhMDYjdgmBZDJIgLNdyTimGX43CKut5AIYb2BFzT2KYaC7OHxWrVRbDQHKsJ6gwZ3w1mMjbHew7FxbfTN4ycuxpdaI6yv3RS6y0dYd6O6WMTmi6Vx/G50vb1YhSjoEYGqhpJvN+qgfFTYXv98YcJ6D8MZqifiFWM33e/NR180OMd0t9tN4YcQ28SnTb5xQb7UGn9u4s/IpHrO3ehCPJY3LzCGBy6z1lR5zRdK49jd41zjl8F7M6UgrDdwxd9NWO9hPFT14r3R1/Oad+oL5mPewHWHy2LsZaYt3g8Ym/VFY39Z1hGoHptxQb7kGmG9zpFF6jHxu3Y2iLFjknHyhSPO+Feiujre3Y9bRPUZPXC5rBHWa1k/PDx8ZcJ67UlwrTlbpa9O5bWyV1knlla+W8yRvVXd955PdQy9Tu75S35r6j+W99E/bLCGa6RFWAeJfa2bft3gS3tNMbcvhDddGz0ZaJ4b87lX10A6H27ajd3GIay7UbUjfmPCei8HRrVneeXUW2O9Mlv0lrY9xB4nUPVtPrmv8UPzZZyNnnZ4HY66rQu0ZlfZ/Oe9Zr6dZxqplbeXToRbaEvNdxPycbl0yMbYE6p7/5jZLfitxwbNplPtUIrjLB9jS33cYwNxLksAYb0B729NWOsg2sMy1oOyZOaT0dkMePx10SbT9G2+iC8ZzqSLQvPigX8v6t9FhcVFvlyvvJleZMtBEzXH3uYb0yVPfMYu8EvO4wd1zeJqN98piuMsfyUVUb0Y8U0mHDvu9qIRzw7+OxPWezpAxhqHTsq9J3r14o+JLnpOzt5EnxTQ9G0W15rBo9e/oz0yuTemN68nhhJwGQJxoS/XCOvL8NcwgJK9/18grptPppQvww7O7tfm2Pbw6wKfnt1oCtiEQPP6unI47SbG3UsmP5iw3tPLIFM9mxoTpllQWjcTEtTNBmYnFx4pX76lj/o2X3h1wzPl39GLd84H/17ev7NLjOOxXCOsZ6Nck2D0fJlvUnVMjt2o6kZ3Kh86M9Z4aTrt5HkxnxvVgSF/bvGbtooYlyLQPP4Q1v0u+MmE9dgJrz/H24k5edcdF+J8962xmKMvaUT8fGJRfJbrEGiOeXcfxTb+vY6TLlVq+LlcI6wv5YFTOaND5tw3djxKlOkJos6lzSeDRVoeR5/Prc0hPe6DrbfPVx1yXkAAYb0AWpnklxDWr1N6KHfe+X/dKDTfKl9zcsgXhr3diNybu7t6Vpb4Gf/eV1No+RhhfXE/To7LbfmqJ3yj7xFcHModFdgUVT3+WRrnjvgcwdRmG6DHut/9v2Vhvdcp4zYX14iu/sZ1gZibi2v8ewGvbVxE64KOsN4YdF92ZxHXfCK7D/7KWE1R1TrGtghfaTPJtyXQbAMI6w7QL1++/FP0Vue3eztS3W2U7mEhYyeK3GNCT/VtNQONh+8ewjPhXz2aZrkzAi2fIqyv5ki9u7LJMSnf5nG8V6vMgQpuiqrWMbZF+IH43kNVm20AYd3nvvdNWP/Yl+SuY+nlzEU9nPkCzdi+23W/bnY01d6ii3nuDdvTy7u366kzWNa6uCOszwB7XpaLj8ksqDX+muNyHvM1sZuiqnWMbRG+xmDSbk6g2QYQ1n2s1aug3gD9jvQinkSYejn1VnP1hcUcrpO6Lgyc2Pva063EUruW3/TBmCcnifx0Rn6X/9UOeAJxK55baEfr4n6w89pCehdJFufb0Xde8swhOjY5717ELU8K0SxIW8zyMTePJ4YQcDUCT66ZcX5FWPf55BMT1mu+WtdXGrEgAAEIQAACv3dW6Amg/+ACAQhA4L4JPE/pbyas1TvLAgEIQAACEIAABCAAAQjMJfA8pc9MWOuxOAsEIAABCEAAAhCAAAQgsIDAFyasmQ1hAUCSQAACEIAABCAAAQhAQAT+bsJaL4uwQAACEIAABCAAAQhAAAJzCTw8PHxlwlpvA7NAAAIQgAAEIAABCEAAAgsIfGPCWtMhsUAAAhCAAAQgAAEIQAACCwh8a8Kaj58sAEgSCEAAAhCAAAQgAAEIiMB3Jqz1UQ0WCEAAAhCAAAQgAAEIQGABgR9MWPN1wQUASQIBCEAAAhCAAAQgAAER+MmENZ91pk1AAAIQgAAEIAABCAwE8scEh/9sjBP4xYT18/Go7IUABCAAAQhAAAIQOAqB1yk9pJR+TCmhETud/lsW1r92xicaBCAAAQhAAAIQgMAxCOj9u/+klHgPb8rfL168+KP1Vv88FZ/9EIAABCAAAQhAAAKHIqCPB0pY64OCLBME3g9h/ZDSvybishsCEIAABCAAAQhA4FgEYva4749V7WW1/WsI65QSwJYxJBUEIAABCEAAAhDYHYE8siGGDP/28uXLP+2ukhtX6BMT1m83zpvsIAABCEAAAhCAAATulECeDUTDQE4/ZgeZcGQB7M1EdHZDAAIQgAAEIAABCByHwNchqvNa/1laBJ6n9JkBA1YLFOEQgAAEIAABCEDgYATy+3dDj3X+9snBKMyr7hcmrF/PS0psCEAAAhCAAAQgAIGdEhgmuDCtKJHNV7pHHK6pU+JORNOpsEAAAhCAAAQgAAEIQOBz04ihFbX+X9A0CDw8PHxl0ASQBQIQgAAEIAABCEAAAt+aRnRhrXCWBoFvDNqnjTgEQwACEIAABCAAAQgch4A+X/6LaUQX1vpSN583b7QFvxt51YhDMAQgAAEIQAACEIDAcQjEZ8xdUPv2/xwHxbyaxtd0BItvwM9jR2wIQAACEIAABCCwRwL+Dp4L6tjm8+YNr/9g3fy85dmARDAEIAABCEAAAhA4EAF9jTtE9JP1s5T+70AsZlX1JwP3l1kpiQwBCEAAAhCAAAQgsCsC+bPl8RnzJ6I660bt//OuKr5RZXxgOgPRN4JKNhCAAAQgAAEIQOAeCRRf5W4Ja4Uz6UXFwXFHojc8WSAAAQhAAAIQgAAEjk2g/Ix5S1z/49iYitq/ePHijzEM5A8p/bvYzV8IQAACEIAABCAAgeMR8GHCLVGtcMVjMQLDpyrzt+BtF5sQgAAEIAABCEAAAgcjoIksxsR0uY+JL6yB/DXg8XanUWETAhCAAAQgAAEIHJOAPldeiuex/3ze3NqJJvcOWP+0cDYhAAEIQAACEIAABI5HwD8cGBpxbP32eIgaNS7e+nzTiEYwBCAAAQhAAAIQgMD+CWh2OE1mMSaky3183jzaxfOUPjN4vNkZYFhDAAIQgAAEIACB4xHwkQylgB77/8nxUNVr7ONoXtejEAoBCEAAAhCAAAQgcAACU58xb4lrNGRuHA7wywM0GKoIAQhAAAIQgAAEIFAhkCeyaInnZjgTYGSYDw8PX9lQEN7qrDQygiAAAQhAAAIQgMABCOjz5PHRwKaINt04xHn27Jm23zsAo8kqfmOA+CzlJC4iQAACEIAABCAAgV0SkA4cxPKCbXRkSsmnVHm1y2ZCpSAAAQhAAAIQgAAEpghoEos1wlqdtYdfvjOIehOUBQIQgAAEIAABCEDgeAR6P2PeEt8/Hw/Z0xr/YMJaX2FkgQAEIAABCEAAAhCAQBDQ2GsX0/rP0iDgdyd/acQhGAIQgAAEIAABCEDgmAQQ1jP8/kvchXz44Yf/NSMdUSEAAQhAAAIQgAAE9k8AYT3DxzGtij5HyQIBCEAAAhCAAAQgAAEngLB2Gq3tjz/++L+jt/oPKf27FY9wCEAAAhCAAAQgAIHDEkBYd7r+/RDWDyn9qzMN0SAAAQhAAAIQgAAEjkMAYd3pa80CcnrLk09RdhIjGgQgAAEIQAACEDgWAYR1p781b3VMn/LPzjREgwAEIAABCEAAAhA4DgGEdaevJaw1mbdeXHzTmYZoEIAABCAAAQhAAALHIYCwPo6vqSkEIAABCEAAAhCAwBkJIKzPCJesIQABCEAAAhCAAASOQwBhfQO+/iCl9GlK6b0bsAUTIAABCEAAAhCAAASWEUBYL+O2KNXnKaXvU0pfF6l/fvbsmV6MfFuE8xcCEIAABCAAAQhA4H4IHFtYS9BmUfvqAj57ncuSuPblV4S142AbAhCAAAQgAAEI3CUBhPUNCOuPUkqvU0oaEsICAQhAAAIQgAAEIHCfBBDWncJaole92nPGQZfxWz3WPU1H5So/ifDeJWzuja+8S5t70xIPAhCAAAQgAAEIHJ0AwroirF8pLIdLbP4Y/3OYhnK0epcV/raIr/mv9XJiS1h/n/NVr3W5SOie9keeeS7tWlyllQDXvtPwEksjm1ui/MuZ8Usb+Q8BCEAAAhCAAAQgkBLCOotaCdhYXFjH+GcJ09NLhjm+xHLZey3hOgja/EGZQRSHQM8vMEZZWreE9ecmjPVhGtkwiPzKh2pkj+//Madxm7yeKvsk9nOdHsXPAr6so9vNNgQgAAEIQAACEIDAOwII6wlhLbHp4tLFrnp6fQmBLBHsAla92C54JZB9iXTeC60yQ9SXX3p0GzTTSCzRI67yvXdaeb3J9dQ+r0/MSOIzlQw3CCmlso5RFmsIQAACEIAABCAAgccEENYTwlpDOMolRKoL5I+UTyWvSOtC2dNpf01Yf9kQwpGfBK+EuNsXQtzFdsT38n1/COtyqj+Ja90ctIa8RL6sIQABCEAAAhCAAAR+J4CwrohhHwpSayjRM+wC2YdU1NIorCbIFV4T1hFWCt5W3m6zerglustfiGjvGXe7NbxF+7y3u1Ue4RCAAAQgAAEIQAACjwkgrLcU1nlM82PE7/7VBLn2hoh2wVsLe5fT061BWKs+Y78snj0H9WAP48czj3jh0uOxDQEIQAACEIAABCDQJoCw3khYn4Zu5LxauOf0WJ9mFpnxNUYfiiKhrGEcrV9reId6qjXWehDZxVCTVr0IhwAEIAABCEAAAhBgVpDquOih97fRQmo9z6WwLZP6GGcfQqJ4td7pc4yxDqHtLy/GcJFSbM8V9mV9+Q8BCEAAAhCAAASORoAe6416rNVwQiCfY1YQF8M+K4i/vBiCvyxfad02zyvGXZdjuSN+GX60A4T6QgACEIAABCAAgV4CCOsNhbV6fX3OaI1T9mn2TtsSuYV3QsT6GGtFcQEtsax0PkyjnIZPaR6Vl9O4Teq19sXLkL1lGWV8T8s2BCAAAQhAAAIQgMA7AgjrDYW1sEpcn8ZSK9+ct+bC3vLLixLAY/NLS6APAjzbIMHcmu1DtpXxeXnx3UHCFgQgAAEIQAACEOghcGxh3UNoRRwJWR92sSKrU1L1HpdjocfyVNw5Pc6yVfG3tHnMPvZBAAIQgAAEIACBPRFAWO/Jm9QFAhCAAAQgAAEIQOBqBBDWV0NPwRCAAAQgAAEIQAACeyKAsN6TN6kLBCAAAQhAAAIQgMDVCCCsr4aegiEAAQhAAAIQgAAE9kQAYb0nb1IXCEAAAhCAAAQgAIGrEUBYXw09BUMAAhCAAAQgAAEI7IkAwnpP3qQuEIAABCAAAQhAAAJXI4Cwvhp6CoYABCAAAQhAAAIQ2BMBhPWevEldIAABCEAAAhCAAASuRgBhfTX0FAwBCEAAAhCAAAQgsCcCCOs9eZO6QAACEIAABCAAAQhcjQDC+mroKRgCEIAABCAAAQhAYE8EENZ78iZ1gQAEIAABCEAAAhC4GgGE9dXQUzAEIAABCEAAAhCAwJ4IIKz35E3qAgEIQAACEIAABCBwNQII66uhp2AIQAACEIAABCAAgT0RQFjvyZvUBQIQgAAEIAABCEAAAhCAAAQgAAEIQAACEIAABCAAAQhAAAIQgAAEIAABCEAAAhCAAAQgAAEIQAACEIAABCAAAQhAAAIQgAAEIAABCEAAAhCAAAQgAAEIQAACEIAABCAAAQhAAAIQgAAEIAABCEAAAhCAAAQgAAEILCPwXkrp65TSlzOTf5rTfTQzHdEhAAEIQAACEIDAicAHKaVXKSXExLoGcVGOz549+49+2XfrLF+XWiJW7af8rct1XeovF/L5NTP9fl3xpIYABCAAAQhA4KgEXiMmNnH9RTkuFI6bVLTI5FXYUq5TSj+nlF4X8S/x99OwJaWkG55YBlsbNyQ/Kl1K6U0kYA0BCEAAAhCAAATmELioIJxj2J3FvShHE47qKb7m4mJVPb3xO4nUKwpVPYFxUS1GbmuNW/S+X5MnZUMAAhCAAAQgcMcEWoJQwkTiI8SJ/qv3UeNWa8NGYihETbAEHu3zPCNca6XXGFeVoXWU63EinvIIGxTv8zJSTq9w5ad1K79IGqIq4kf+sX9qvRXHspyon7gPbDuEtdJN8VQdnaWXPbbP47lY9XBtf252tngqXHUT96F+ZUb23+OrfvJbuYQvPT/x8CEiwdPt0rbSjLUVL9/zL21QHtof+Z/K76yn7A/ftY63sjz+QwACEIAABCBwAwRagvD73Nuol8CG3kcTSm8LUeMCqyZMPrC0LkgkIt7EPl/nF8lK4eT2ulBylKc4npe2c34eL7Yl6k7jaz1N7n2t1SXS+drt8vC5HCOt6v3W7cl10PCKjyK8Ikbn8PQhE+4T1TnGG3t42OZr97uHn7bNTjH2RYLz59gffj9tNwAABx5JREFUa5XbuFFq8ajFr9nUahM+njp8Vdoqu+fa6+3hSfvWMWWi27lIULfaYnkseDq2IQABCEAAAhC4AQIuANyck8iQ4MliR+NOJTgGkV0RqiehlON5Xto+ieA87tb3xbhWCaQoYxAiEpceWXmHTSHG8v+I5r2kkd8gUCui7evIJ5elOupmIoSlhGyPoAm7XKjJpiUclc45S4TJrhOXsC3XuxS+c3me2GS/RD0jrGescU3Ehi+SsVXPayx+YyC/i7d+g9DOvdgRX+uh7jlu2Rb9Bqhmkzh5u4q24U87WsJ6ib2n9mD1VzuWzd4W5Vdf/OZT7ejUFi2PHn94fmxDAAIQgAAEIHBhAj2CMB5nh2kuUEKMaV/kJTFaLjXRfRLBWbiXZbiYcfEzCJYsxL18lRmisBS4tXAXMl6G8lG+YXOPoIm6l+W6sC7r2OLoNwelXcpj6NEseqyX8FQ94yZCQu4kSrNPSralT/W/JmIjntfD6x5cJSzLMpyJi2W3MfJ3H8n2WFo2eXh5Q6K0LWG9xF5vp35ToXKci3qoY2k9gWmFRzrWEIAABCAAAQjcCIFRQVjpMZbZ71kvmgsUF6oupFwku1iK3lX1VtaWk8gqbHDBUktz6oHOwtBtG4tb9hxGXBeqEdZab8kxuLQEvQszr2Okm8NT9XHhFiLSBV+rzgp3saqbivid8lE7yTdAkUerLcR+rcMGF8tRN/nK25Cni223KcK09nDnFnFqwnqpvdEe1CNfW6I+XkcfmlOK8VoehEEAAhCAAAQgcGMEQgBUe1rz4+gnJjeEteKFOHFxF2L3URmWh3q4Q5D5OgSWp2vZGzZKdHmProSYbHGhH3HDVokfLze2T+Ini8NI01q37IoyXEANeRiDQehZWEtcVW9sLN0cnmHLyc5c13L4TcSprQexGuXHOo8jLnvcg1NLcKqM2tOFQXRmG+Uj8amJ7MGmwmAPH3hbnJqvltob6bztWlHDcVK2C29z8qNurnpvcjx/tiEAAQhAAAIQuAKBlgCoiYzBPBNPpUCJXl4fDhIC+ZHIijym1ln0Rtkte2O/1hoiIMEy9JqaGPOhB4OY7LDB869tt+yazTFsGRNUFmfgH2FT64Jn1MV7wVuCPuL62sWqh7e2g1PrKYHSVW/EsoiW0BxunFTXfOPk5bVs8vCBmyWs+WqpvZFurrCWOTpOBoGd66jjqXZzaOazCQEIQAACEIDAtQm0BEBNZAy2hnjT4/Uh8N1GjIeVEDg9Ss9DM97F+H0rBPccIdeyt8w7/ssG9ViHTd4bWxtqEunmrlt2LeEYXLzX3+3x4QnOP9LN4al8dbMxiNXsq1pPsNsQ2y5WI2xs7QK+FS+GSbSGwiidenF9PLbXuWWThzu3sKPmq6X2ttrDWFmxL9bygeoVfh3r5Y80rCEAAQhAAAIQuCKBlgCoiYzBzAlhHYJVwih6H2siKeLVevWi11k9zy6CWvaGbRKjMUwgwrQehhJYYPSuS7B4T3ZEkahR+Y962mNnsW7ZtYRjcGnZ5TNLOJtIN4enqhFDL4Ze/kavdlHl018Xq7X9ZZiPw3cxHPE8Px8CoTrp5/VVmmhfXmfPI/LV2sPLfLS/5qul9rbaQ9hTK0vtTPUoj5Xq0J/IiDUEIAABCEAAArdDoCUAahf+weoJYe291NHbVnuMPYyHzi8oRi+p1lG+xGWEq/yWvWFbCC2lC/Ek0Rzi0YeoKE30jmpogsc/5ZMfw7vAi3LKdcuuqIdE65OlwdG5yK4oXwwHUZ1tC5uVt6dTz3xw0zrsKHmebjjUK5pvLlx8RrlP7LYAj2/Bo5vOVuJa/tFPwjKeLLhQVmbuJ69XtC8Xo02bjHfcsHm7DEalr5bY22oPAaZWlt/8+U3HKa/s76h75MMaAhCAAAQgAIEbItASALUL/2C2CRQXdsP+eHydxcDYeNpBTEWesc5DEkpx17I3ypZAezQ+NfLLtpT5SVidxJnHi+3Wy5tRmK1bdi3lOAxBCFtiXQyBKPnP4SlWIWSdi9+cKM7Y0hSxY4nKG4Som9byX+UJgvw0DFcp4pc3C2M2nfwR6XMPcZg65qtHNzSRfsTeVnuYKuv01MHzj+3KWPLIizUEIAABCEAAAjdCIB4/l+N5Y0iF9tcW9Sjq5z1+Hi/yVZxWHhFfvXAqz3sl1QNZ652LfEt7Iy+tJQbV6xhCSb2x6sEtRWikUXz1EPbGj3S+btm1hqPqLw4SmhKPqkOwHOPfy/NU59rQg+xbleE9p17f2Jb/w5YI612rLqqT/KP6TbWVgYcJ2lo7GbNp8HUuz9vRlK/m2NtqD8FmrKxIKyY9XCJP1hCAAAQgAAEIQAACEIAABCAAAQhAAAIQgAAEIAABCEAAAhCAAAQgAAEIQAACEIAABCAAAQhAAAIQgAAEIAABCEAAAhCAAAQgAAEIQGAbAv8P2uEozvv8qPcAAAAASUVORK5CYII=)\n",
        "\n",
        "\n",
        "\n",
        "\n",
        "\n",
        "\n"
      ]
    },
    {
      "cell_type": "code",
      "metadata": {
        "id": "sntjrsE4xo0G",
        "colab_type": "code",
        "colab": {
          "base_uri": "https://localhost:8080/",
          "height": 171
        },
        "outputId": "8958b9dd-970c-496c-e94f-8e3607e42ee6"
      },
      "source": [
        "## Sliceing Examples\n",
        "\n",
        "a1=array.array('i',[1,2,3,4,5,6,7,8,9,0])\n",
        "\n",
        "print(a1,end='\\n')\n",
        "\n",
        "print(a1[1:4],end='\\n')\n",
        "print(a1[2:],end='\\n')\n",
        "print(a1[:],end='\\n')\n",
        "print(a1[:6],end='\\n')\n",
        "print(a1[-4:],end='\\n')\n",
        "print(a1[-4:-2],end='\\n')\n",
        "print(a1[2:8:1],end='\\n')\n",
        "print(a1[2:8:2],end='\\n')"
      ],
      "execution_count": 11,
      "outputs": [
        {
          "output_type": "stream",
          "text": [
            "array('i', [1, 2, 3, 4, 5, 6, 7, 8, 9, 0])\n",
            "array('i', [2, 3, 4])\n",
            "array('i', [3, 4, 5, 6, 7, 8, 9, 0])\n",
            "array('i', [1, 2, 3, 4, 5, 6, 7, 8, 9, 0])\n",
            "array('i', [1, 2, 3, 4, 5, 6])\n",
            "array('i', [7, 8, 9, 0])\n",
            "array('i', [7, 8])\n",
            "array('i', [3, 4, 5, 6, 7, 8])\n",
            "array('i', [3, 5, 7])\n"
          ],
          "name": "stdout"
        }
      ]
    },
    {
      "cell_type": "code",
      "metadata": {
        "id": "qSPSk_6yx9nC",
        "colab_type": "code",
        "colab": {
          "base_uri": "https://localhost:8080/",
          "height": 120
        },
        "outputId": "96343c9d-5bca-4320-9c28-3805a8fe4c24"
      },
      "source": [
        "#wap to display elemnets usinf sliceing\n",
        "\n",
        "a1=array.array('i',[10,20,30,40,50,60,70,80,90])\n",
        "print(a1,end='\\n')\n",
        "for i in a1[2:7]:\n",
        "  print(i)"
      ],
      "execution_count": 12,
      "outputs": [
        {
          "output_type": "stream",
          "text": [
            "array('i', [10, 20, 30, 40, 50, 60, 70, 80, 90])\n",
            "30\n",
            "40\n",
            "50\n",
            "60\n",
            "70\n"
          ],
          "name": "stdout"
        }
      ]
    },
    {
      "cell_type": "markdown",
      "metadata": {
        "id": "rgjzMn5-4LKA",
        "colab_type": "text"
      },
      "source": [
        "## Array Methods\n",
        "\n",
        "![image.png](data:image/png;base64,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)"
      ]
    },
    {
      "cell_type": "code",
      "metadata": {
        "id": "ew2P7AQn4Pjl",
        "colab_type": "code",
        "colab": {
          "base_uri": "https://localhost:8080/",
          "height": 171
        },
        "outputId": "a1c28f6d-0b6f-4d31-878b-73f9fa13b83f"
      },
      "source": [
        "dir(array)"
      ],
      "execution_count": 13,
      "outputs": [
        {
          "output_type": "execute_result",
          "data": {
            "text/plain": [
              "['ArrayType',\n",
              " '__doc__',\n",
              " '__loader__',\n",
              " '__name__',\n",
              " '__package__',\n",
              " '__spec__',\n",
              " '_array_reconstructor',\n",
              " 'array',\n",
              " 'typecodes']"
            ]
          },
          "metadata": {
            "tags": []
          },
          "execution_count": 13
        }
      ]
    },
    {
      "cell_type": "code",
      "metadata": {
        "id": "l_FJyMOPLRRJ",
        "colab_type": "code",
        "colab": {
          "base_uri": "https://localhost:8080/",
          "height": 1000
        },
        "outputId": "20590790-3596-4188-c367-3efc8cb6c554"
      },
      "source": [
        "dir(a1)"
      ],
      "execution_count": 14,
      "outputs": [
        {
          "output_type": "execute_result",
          "data": {
            "text/plain": [
              "['__add__',\n",
              " '__class__',\n",
              " '__contains__',\n",
              " '__copy__',\n",
              " '__deepcopy__',\n",
              " '__delattr__',\n",
              " '__delitem__',\n",
              " '__dir__',\n",
              " '__doc__',\n",
              " '__eq__',\n",
              " '__format__',\n",
              " '__ge__',\n",
              " '__getattribute__',\n",
              " '__getitem__',\n",
              " '__gt__',\n",
              " '__hash__',\n",
              " '__iadd__',\n",
              " '__imul__',\n",
              " '__init__',\n",
              " '__init_subclass__',\n",
              " '__iter__',\n",
              " '__le__',\n",
              " '__len__',\n",
              " '__lt__',\n",
              " '__mul__',\n",
              " '__ne__',\n",
              " '__new__',\n",
              " '__reduce__',\n",
              " '__reduce_ex__',\n",
              " '__repr__',\n",
              " '__rmul__',\n",
              " '__setattr__',\n",
              " '__setitem__',\n",
              " '__sizeof__',\n",
              " '__str__',\n",
              " '__subclasshook__',\n",
              " 'append',\n",
              " 'buffer_info',\n",
              " 'byteswap',\n",
              " 'count',\n",
              " 'extend',\n",
              " 'frombytes',\n",
              " 'fromfile',\n",
              " 'fromlist',\n",
              " 'fromstring',\n",
              " 'fromunicode',\n",
              " 'index',\n",
              " 'insert',\n",
              " 'itemsize',\n",
              " 'pop',\n",
              " 'remove',\n",
              " 'reverse',\n",
              " 'tobytes',\n",
              " 'tofile',\n",
              " 'tolist',\n",
              " 'tostring',\n",
              " 'tounicode',\n",
              " 'typecode']"
            ]
          },
          "metadata": {
            "tags": []
          },
          "execution_count": 14
        }
      ]
    },
    {
      "cell_type": "code",
      "metadata": {
        "id": "4oEskT2LLcLt",
        "colab_type": "code",
        "colab": {
          "base_uri": "https://localhost:8080/",
          "height": 103
        },
        "outputId": "329885fb-d114-41dc-bcb3-42bb63c97b42"
      },
      "source": [
        "help(a1.index)"
      ],
      "execution_count": 15,
      "outputs": [
        {
          "output_type": "stream",
          "text": [
            "Help on built-in function index:\n",
            "\n",
            "index(v, /) method of array.array instance\n",
            "    Return index of first occurrence of v in the array.\n",
            "\n"
          ],
          "name": "stdout"
        }
      ]
    },
    {
      "cell_type": "code",
      "metadata": {
        "id": "k8PKQSm2L4Ud",
        "colab_type": "code",
        "colab": {}
      },
      "source": [
        "a2=array.array('i',[1,2,3,4,5,6,7,8,9,10])"
      ],
      "execution_count": 16,
      "outputs": []
    },
    {
      "cell_type": "code",
      "metadata": {
        "id": "U8xZQQ8dMBVs",
        "colab_type": "code",
        "colab": {
          "base_uri": "https://localhost:8080/",
          "height": 1000
        },
        "outputId": "e0115e9f-df7f-48e2-910f-ad147adf4cbe"
      },
      "source": [
        "dir(a2)"
      ],
      "execution_count": 17,
      "outputs": [
        {
          "output_type": "execute_result",
          "data": {
            "text/plain": [
              "['__add__',\n",
              " '__class__',\n",
              " '__contains__',\n",
              " '__copy__',\n",
              " '__deepcopy__',\n",
              " '__delattr__',\n",
              " '__delitem__',\n",
              " '__dir__',\n",
              " '__doc__',\n",
              " '__eq__',\n",
              " '__format__',\n",
              " '__ge__',\n",
              " '__getattribute__',\n",
              " '__getitem__',\n",
              " '__gt__',\n",
              " '__hash__',\n",
              " '__iadd__',\n",
              " '__imul__',\n",
              " '__init__',\n",
              " '__init_subclass__',\n",
              " '__iter__',\n",
              " '__le__',\n",
              " '__len__',\n",
              " '__lt__',\n",
              " '__mul__',\n",
              " '__ne__',\n",
              " '__new__',\n",
              " '__reduce__',\n",
              " '__reduce_ex__',\n",
              " '__repr__',\n",
              " '__rmul__',\n",
              " '__setattr__',\n",
              " '__setitem__',\n",
              " '__sizeof__',\n",
              " '__str__',\n",
              " '__subclasshook__',\n",
              " 'append',\n",
              " 'buffer_info',\n",
              " 'byteswap',\n",
              " 'count',\n",
              " 'extend',\n",
              " 'frombytes',\n",
              " 'fromfile',\n",
              " 'fromlist',\n",
              " 'fromstring',\n",
              " 'fromunicode',\n",
              " 'index',\n",
              " 'insert',\n",
              " 'itemsize',\n",
              " 'pop',\n",
              " 'remove',\n",
              " 'reverse',\n",
              " 'tobytes',\n",
              " 'tofile',\n",
              " 'tolist',\n",
              " 'tostring',\n",
              " 'tounicode',\n",
              " 'typecode']"
            ]
          },
          "metadata": {
            "tags": []
          },
          "execution_count": 17
        }
      ]
    },
    {
      "cell_type": "code",
      "metadata": {
        "id": "KXO2XIj5MCf8",
        "colab_type": "code",
        "colab": {}
      },
      "source": [
        "a2.append(11)\n",
        "a2.buffer_info()\n",
        "a2.byteswap()"
      ],
      "execution_count": 21,
      "outputs": []
    },
    {
      "cell_type": "code",
      "metadata": {
        "id": "bWMAOiABMJME",
        "colab_type": "code",
        "colab": {
          "base_uri": "https://localhost:8080/",
          "height": 54
        },
        "outputId": "6830a3bf-e663-4335-e351-f1da533ce2a8"
      },
      "source": [
        "a2.byteswap()"
      ],
      "execution_count": 22,
      "outputs": [
        {
          "output_type": "execute_result",
          "data": {
            "text/plain": [
              "array('i', [16777216, 33554432, 50331648, 67108864, 83886080, 100663296, 117440512, 134217728, 150994944, 167772160, 184549376, 184549376, 184549376])"
            ]
          },
          "metadata": {
            "tags": []
          },
          "execution_count": 22
        }
      ]
    },
    {
      "cell_type": "code",
      "metadata": {
        "id": "xdjZMzHgMKK8",
        "colab_type": "code",
        "colab": {}
      },
      "source": [
        "a3=array.array('i',[1,2,3,4,5,6,7,8,9])\n",
        "a3.pop()\n",
        "a3.remove(1)"
      ],
      "execution_count": 26,
      "outputs": []
    },
    {
      "cell_type": "code",
      "metadata": {
        "id": "-WfM1uL2NmZv",
        "colab_type": "code",
        "colab": {
          "base_uri": "https://localhost:8080/",
          "height": 34
        },
        "outputId": "4f10674f-fe8a-458b-c839-3af48a4d021e"
      },
      "source": [
        "a3"
      ],
      "execution_count": 27,
      "outputs": [
        {
          "output_type": "execute_result",
          "data": {
            "text/plain": [
              "array('i', [2, 3, 4, 5, 6, 7, 8])"
            ]
          },
          "metadata": {
            "tags": []
          },
          "execution_count": 27
        }
      ]
    },
    {
      "cell_type": "code",
      "metadata": {
        "id": "B_rhcSlKOG3_",
        "colab_type": "code",
        "colab": {}
      },
      "source": [
        "a4=array.array('i',[20,30,40])\n",
        "a5=a4.extend(a3)"
      ],
      "execution_count": 28,
      "outputs": []
    },
    {
      "cell_type": "code",
      "metadata": {
        "id": "E8GMWqfWOSac",
        "colab_type": "code",
        "colab": {
          "base_uri": "https://localhost:8080/",
          "height": 34
        },
        "outputId": "67e48e6d-5ec6-40fb-cfeb-1f76945e7e8d"
      },
      "source": [
        "a4"
      ],
      "execution_count": 29,
      "outputs": [
        {
          "output_type": "execute_result",
          "data": {
            "text/plain": [
              "array('i', [20, 30, 40, 2, 3, 4, 5, 6, 7, 8])"
            ]
          },
          "metadata": {
            "tags": []
          },
          "execution_count": 29
        }
      ]
    },
    {
      "cell_type": "code",
      "metadata": {
        "id": "mJK641WoOTXO",
        "colab_type": "code",
        "colab": {
          "base_uri": "https://localhost:8080/",
          "height": 1000
        },
        "outputId": "2ab78b72-e4b2-4d08-d320-3a224bc3a14c"
      },
      "source": [
        "import numpy as np\n",
        "a1=np.array([1,2,3,4,5])\n",
        "help(a1)"
      ],
      "execution_count": 37,
      "outputs": [
        {
          "output_type": "stream",
          "text": [
            "Help on ndarray object:\n",
            "\n",
            "class ndarray(builtins.object)\n",
            " |  ndarray(shape, dtype=float, buffer=None, offset=0,\n",
            " |          strides=None, order=None)\n",
            " |  \n",
            " |  An array object represents a multidimensional, homogeneous array\n",
            " |  of fixed-size items.  An associated data-type object describes the\n",
            " |  format of each element in the array (its byte-order, how many bytes it\n",
            " |  occupies in memory, whether it is an integer, a floating point number,\n",
            " |  or something else, etc.)\n",
            " |  \n",
            " |  Arrays should be constructed using `array`, `zeros` or `empty` (refer\n",
            " |  to the See Also section below).  The parameters given here refer to\n",
            " |  a low-level method (`ndarray(...)`) for instantiating an array.\n",
            " |  \n",
            " |  For more information, refer to the `numpy` module and examine the\n",
            " |  methods and attributes of an array.\n",
            " |  \n",
            " |  Parameters\n",
            " |  ----------\n",
            " |  (for the __new__ method; see Notes below)\n",
            " |  \n",
            " |  shape : tuple of ints\n",
            " |      Shape of created array.\n",
            " |  dtype : data-type, optional\n",
            " |      Any object that can be interpreted as a numpy data type.\n",
            " |  buffer : object exposing buffer interface, optional\n",
            " |      Used to fill the array with data.\n",
            " |  offset : int, optional\n",
            " |      Offset of array data in buffer.\n",
            " |  strides : tuple of ints, optional\n",
            " |      Strides of data in memory.\n",
            " |  order : {'C', 'F'}, optional\n",
            " |      Row-major (C-style) or column-major (Fortran-style) order.\n",
            " |  \n",
            " |  Attributes\n",
            " |  ----------\n",
            " |  T : ndarray\n",
            " |      Transpose of the array.\n",
            " |  data : buffer\n",
            " |      The array's elements, in memory.\n",
            " |  dtype : dtype object\n",
            " |      Describes the format of the elements in the array.\n",
            " |  flags : dict\n",
            " |      Dictionary containing information related to memory use, e.g.,\n",
            " |      'C_CONTIGUOUS', 'OWNDATA', 'WRITEABLE', etc.\n",
            " |  flat : numpy.flatiter object\n",
            " |      Flattened version of the array as an iterator.  The iterator\n",
            " |      allows assignments, e.g., ``x.flat = 3`` (See `ndarray.flat` for\n",
            " |      assignment examples; TODO).\n",
            " |  imag : ndarray\n",
            " |      Imaginary part of the array.\n",
            " |  real : ndarray\n",
            " |      Real part of the array.\n",
            " |  size : int\n",
            " |      Number of elements in the array.\n",
            " |  itemsize : int\n",
            " |      The memory use of each array element in bytes.\n",
            " |  nbytes : int\n",
            " |      The total number of bytes required to store the array data,\n",
            " |      i.e., ``itemsize * size``.\n",
            " |  ndim : int\n",
            " |      The array's number of dimensions.\n",
            " |  shape : tuple of ints\n",
            " |      Shape of the array.\n",
            " |  strides : tuple of ints\n",
            " |      The step-size required to move from one element to the next in\n",
            " |      memory. For example, a contiguous ``(3, 4)`` array of type\n",
            " |      ``int16`` in C-order has strides ``(8, 2)``.  This implies that\n",
            " |      to move from element to element in memory requires jumps of 2 bytes.\n",
            " |      To move from row-to-row, one needs to jump 8 bytes at a time\n",
            " |      (``2 * 4``).\n",
            " |  ctypes : ctypes object\n",
            " |      Class containing properties of the array needed for interaction\n",
            " |      with ctypes.\n",
            " |  base : ndarray\n",
            " |      If the array is a view into another array, that array is its `base`\n",
            " |      (unless that array is also a view).  The `base` array is where the\n",
            " |      array data is actually stored.\n",
            " |  \n",
            " |  See Also\n",
            " |  --------\n",
            " |  array : Construct an array.\n",
            " |  zeros : Create an array, each element of which is zero.\n",
            " |  empty : Create an array, but leave its allocated memory unchanged (i.e.,\n",
            " |          it contains \"garbage\").\n",
            " |  dtype : Create a data-type.\n",
            " |  \n",
            " |  Notes\n",
            " |  -----\n",
            " |  There are two modes of creating an array using ``__new__``:\n",
            " |  \n",
            " |  1. If `buffer` is None, then only `shape`, `dtype`, and `order`\n",
            " |     are used.\n",
            " |  2. If `buffer` is an object exposing the buffer interface, then\n",
            " |     all keywords are interpreted.\n",
            " |  \n",
            " |  No ``__init__`` method is needed because the array is fully initialized\n",
            " |  after the ``__new__`` method.\n",
            " |  \n",
            " |  Examples\n",
            " |  --------\n",
            " |  These examples illustrate the low-level `ndarray` constructor.  Refer\n",
            " |  to the `See Also` section above for easier ways of constructing an\n",
            " |  ndarray.\n",
            " |  \n",
            " |  First mode, `buffer` is None:\n",
            " |  \n",
            " |  >>> np.ndarray(shape=(2,2), dtype=float, order='F')\n",
            " |  array([[0.0e+000, 0.0e+000], # random\n",
            " |         [     nan, 2.5e-323]])\n",
            " |  \n",
            " |  Second mode:\n",
            " |  \n",
            " |  >>> np.ndarray((2,), buffer=np.array([1,2,3]),\n",
            " |  ...            offset=np.int_().itemsize,\n",
            " |  ...            dtype=int) # offset = 1*itemsize, i.e. skip first element\n",
            " |  array([2, 3])\n",
            " |  \n",
            " |  Methods defined here:\n",
            " |  \n",
            " |  __abs__(self, /)\n",
            " |      abs(self)\n",
            " |  \n",
            " |  __add__(self, value, /)\n",
            " |      Return self+value.\n",
            " |  \n",
            " |  __and__(self, value, /)\n",
            " |      Return self&value.\n",
            " |  \n",
            " |  __array__(...)\n",
            " |      a.__array__(|dtype) -> reference if type unchanged, copy otherwise.\n",
            " |      \n",
            " |      Returns either a new reference to self if dtype is not given or a new array\n",
            " |      of provided data type if dtype is different from the current dtype of the\n",
            " |      array.\n",
            " |  \n",
            " |  __array_function__(...)\n",
            " |  \n",
            " |  __array_prepare__(...)\n",
            " |      a.__array_prepare__(obj) -> Object of same type as ndarray object obj.\n",
            " |  \n",
            " |  __array_ufunc__(...)\n",
            " |  \n",
            " |  __array_wrap__(...)\n",
            " |      a.__array_wrap__(obj) -> Object of same type as ndarray object a.\n",
            " |  \n",
            " |  __bool__(self, /)\n",
            " |      self != 0\n",
            " |  \n",
            " |  __complex__(...)\n",
            " |  \n",
            " |  __contains__(self, key, /)\n",
            " |      Return key in self.\n",
            " |  \n",
            " |  __copy__(...)\n",
            " |      a.__copy__()\n",
            " |      \n",
            " |      Used if :func:`copy.copy` is called on an array. Returns a copy of the array.\n",
            " |      \n",
            " |      Equivalent to ``a.copy(order='K')``.\n",
            " |  \n",
            " |  __deepcopy__(...)\n",
            " |      a.__deepcopy__(memo, /) -> Deep copy of array.\n",
            " |      \n",
            " |      Used if :func:`copy.deepcopy` is called on an array.\n",
            " |  \n",
            " |  __delitem__(self, key, /)\n",
            " |      Delete self[key].\n",
            " |  \n",
            " |  __divmod__(self, value, /)\n",
            " |      Return divmod(self, value).\n",
            " |  \n",
            " |  __eq__(self, value, /)\n",
            " |      Return self==value.\n",
            " |  \n",
            " |  __float__(self, /)\n",
            " |      float(self)\n",
            " |  \n",
            " |  __floordiv__(self, value, /)\n",
            " |      Return self//value.\n",
            " |  \n",
            " |  __format__(...)\n",
            " |      default object formatter\n",
            " |  \n",
            " |  __ge__(self, value, /)\n",
            " |      Return self>=value.\n",
            " |  \n",
            " |  __getitem__(self, key, /)\n",
            " |      Return self[key].\n",
            " |  \n",
            " |  __gt__(self, value, /)\n",
            " |      Return self>value.\n",
            " |  \n",
            " |  __iadd__(self, value, /)\n",
            " |      Return self+=value.\n",
            " |  \n",
            " |  __iand__(self, value, /)\n",
            " |      Return self&=value.\n",
            " |  \n",
            " |  __ifloordiv__(self, value, /)\n",
            " |      Return self//=value.\n",
            " |  \n",
            " |  __ilshift__(self, value, /)\n",
            " |      Return self<<=value.\n",
            " |  \n",
            " |  __imatmul__(self, value, /)\n",
            " |      Return self@=value.\n",
            " |  \n",
            " |  __imod__(self, value, /)\n",
            " |      Return self%=value.\n",
            " |  \n",
            " |  __imul__(self, value, /)\n",
            " |      Return self*=value.\n",
            " |  \n",
            " |  __index__(self, /)\n",
            " |      Return self converted to an integer, if self is suitable for use as an index into a list.\n",
            " |  \n",
            " |  __int__(self, /)\n",
            " |      int(self)\n",
            " |  \n",
            " |  __invert__(self, /)\n",
            " |      ~self\n",
            " |  \n",
            " |  __ior__(self, value, /)\n",
            " |      Return self|=value.\n",
            " |  \n",
            " |  __ipow__(self, value, /)\n",
            " |      Return self**=value.\n",
            " |  \n",
            " |  __irshift__(self, value, /)\n",
            " |      Return self>>=value.\n",
            " |  \n",
            " |  __isub__(self, value, /)\n",
            " |      Return self-=value.\n",
            " |  \n",
            " |  __iter__(self, /)\n",
            " |      Implement iter(self).\n",
            " |  \n",
            " |  __itruediv__(self, value, /)\n",
            " |      Return self/=value.\n",
            " |  \n",
            " |  __ixor__(self, value, /)\n",
            " |      Return self^=value.\n",
            " |  \n",
            " |  __le__(self, value, /)\n",
            " |      Return self<=value.\n",
            " |  \n",
            " |  __len__(self, /)\n",
            " |      Return len(self).\n",
            " |  \n",
            " |  __lshift__(self, value, /)\n",
            " |      Return self<<value.\n",
            " |  \n",
            " |  __lt__(self, value, /)\n",
            " |      Return self<value.\n",
            " |  \n",
            " |  __matmul__(self, value, /)\n",
            " |      Return self@value.\n",
            " |  \n",
            " |  __mod__(self, value, /)\n",
            " |      Return self%value.\n",
            " |  \n",
            " |  __mul__(self, value, /)\n",
            " |      Return self*value.\n",
            " |  \n",
            " |  __ne__(self, value, /)\n",
            " |      Return self!=value.\n",
            " |  \n",
            " |  __neg__(self, /)\n",
            " |      -self\n",
            " |  \n",
            " |  __new__(*args, **kwargs) from builtins.type\n",
            " |      Create and return a new object.  See help(type) for accurate signature.\n",
            " |  \n",
            " |  __or__(self, value, /)\n",
            " |      Return self|value.\n",
            " |  \n",
            " |  __pos__(self, /)\n",
            " |      +self\n",
            " |  \n",
            " |  __pow__(self, value, mod=None, /)\n",
            " |      Return pow(self, value, mod).\n",
            " |  \n",
            " |  __radd__(self, value, /)\n",
            " |      Return value+self.\n",
            " |  \n",
            " |  __rand__(self, value, /)\n",
            " |      Return value&self.\n",
            " |  \n",
            " |  __rdivmod__(self, value, /)\n",
            " |      Return divmod(value, self).\n",
            " |  \n",
            " |  __reduce__(...)\n",
            " |      a.__reduce__()\n",
            " |      \n",
            " |      For pickling.\n",
            " |  \n",
            " |  __reduce_ex__(...)\n",
            " |      helper for pickle\n",
            " |  \n",
            " |  __repr__(self, /)\n",
            " |      Return repr(self).\n",
            " |  \n",
            " |  __rfloordiv__(self, value, /)\n",
            " |      Return value//self.\n",
            " |  \n",
            " |  __rlshift__(self, value, /)\n",
            " |      Return value<<self.\n",
            " |  \n",
            " |  __rmatmul__(self, value, /)\n",
            " |      Return value@self.\n",
            " |  \n",
            " |  __rmod__(self, value, /)\n",
            " |      Return value%self.\n",
            " |  \n",
            " |  __rmul__(self, value, /)\n",
            " |      Return value*self.\n",
            " |  \n",
            " |  __ror__(self, value, /)\n",
            " |      Return value|self.\n",
            " |  \n",
            " |  __rpow__(self, value, mod=None, /)\n",
            " |      Return pow(value, self, mod).\n",
            " |  \n",
            " |  __rrshift__(self, value, /)\n",
            " |      Return value>>self.\n",
            " |  \n",
            " |  __rshift__(self, value, /)\n",
            " |      Return self>>value.\n",
            " |  \n",
            " |  __rsub__(self, value, /)\n",
            " |      Return value-self.\n",
            " |  \n",
            " |  __rtruediv__(self, value, /)\n",
            " |      Return value/self.\n",
            " |  \n",
            " |  __rxor__(self, value, /)\n",
            " |      Return value^self.\n",
            " |  \n",
            " |  __setitem__(self, key, value, /)\n",
            " |      Set self[key] to value.\n",
            " |  \n",
            " |  __setstate__(...)\n",
            " |      a.__setstate__(state, /)\n",
            " |      \n",
            " |      For unpickling.\n",
            " |      \n",
            " |      The `state` argument must be a sequence that contains the following\n",
            " |      elements:\n",
            " |      \n",
            " |      Parameters\n",
            " |      ----------\n",
            " |      version : int\n",
            " |          optional pickle version. If omitted defaults to 0.\n",
            " |      shape : tuple\n",
            " |      dtype : data-type\n",
            " |      isFortran : bool\n",
            " |      rawdata : string or list\n",
            " |          a binary string with the data (or a list if 'a' is an object array)\n",
            " |  \n",
            " |  __sizeof__(...)\n",
            " |      __sizeof__() -> int\n",
            " |      size of object in memory, in bytes\n",
            " |  \n",
            " |  __str__(self, /)\n",
            " |      Return str(self).\n",
            " |  \n",
            " |  __sub__(self, value, /)\n",
            " |      Return self-value.\n",
            " |  \n",
            " |  __truediv__(self, value, /)\n",
            " |      Return self/value.\n",
            " |  \n",
            " |  __xor__(self, value, /)\n",
            " |      Return self^value.\n",
            " |  \n",
            " |  all(...)\n",
            " |      a.all(axis=None, out=None, keepdims=False)\n",
            " |      \n",
            " |      Returns True if all elements evaluate to True.\n",
            " |      \n",
            " |      Refer to `numpy.all` for full documentation.\n",
            " |      \n",
            " |      See Also\n",
            " |      --------\n",
            " |      numpy.all : equivalent function\n",
            " |  \n",
            " |  any(...)\n",
            " |      a.any(axis=None, out=None, keepdims=False)\n",
            " |      \n",
            " |      Returns True if any of the elements of `a` evaluate to True.\n",
            " |      \n",
            " |      Refer to `numpy.any` for full documentation.\n",
            " |      \n",
            " |      See Also\n",
            " |      --------\n",
            " |      numpy.any : equivalent function\n",
            " |  \n",
            " |  argmax(...)\n",
            " |      a.argmax(axis=None, out=None)\n",
            " |      \n",
            " |      Return indices of the maximum values along the given axis.\n",
            " |      \n",
            " |      Refer to `numpy.argmax` for full documentation.\n",
            " |      \n",
            " |      See Also\n",
            " |      --------\n",
            " |      numpy.argmax : equivalent function\n",
            " |  \n",
            " |  argmin(...)\n",
            " |      a.argmin(axis=None, out=None)\n",
            " |      \n",
            " |      Return indices of the minimum values along the given axis of `a`.\n",
            " |      \n",
            " |      Refer to `numpy.argmin` for detailed documentation.\n",
            " |      \n",
            " |      See Also\n",
            " |      --------\n",
            " |      numpy.argmin : equivalent function\n",
            " |  \n",
            " |  argpartition(...)\n",
            " |      a.argpartition(kth, axis=-1, kind='introselect', order=None)\n",
            " |      \n",
            " |      Returns the indices that would partition this array.\n",
            " |      \n",
            " |      Refer to `numpy.argpartition` for full documentation.\n",
            " |      \n",
            " |      .. versionadded:: 1.8.0\n",
            " |      \n",
            " |      See Also\n",
            " |      --------\n",
            " |      numpy.argpartition : equivalent function\n",
            " |  \n",
            " |  argsort(...)\n",
            " |      a.argsort(axis=-1, kind=None, order=None)\n",
            " |      \n",
            " |      Returns the indices that would sort this array.\n",
            " |      \n",
            " |      Refer to `numpy.argsort` for full documentation.\n",
            " |      \n",
            " |      See Also\n",
            " |      --------\n",
            " |      numpy.argsort : equivalent function\n",
            " |  \n",
            " |  astype(...)\n",
            " |      a.astype(dtype, order='K', casting='unsafe', subok=True, copy=True)\n",
            " |      \n",
            " |      Copy of the array, cast to a specified type.\n",
            " |      \n",
            " |      Parameters\n",
            " |      ----------\n",
            " |      dtype : str or dtype\n",
            " |          Typecode or data-type to which the array is cast.\n",
            " |      order : {'C', 'F', 'A', 'K'}, optional\n",
            " |          Controls the memory layout order of the result.\n",
            " |          'C' means C order, 'F' means Fortran order, 'A'\n",
            " |          means 'F' order if all the arrays are Fortran contiguous,\n",
            " |          'C' order otherwise, and 'K' means as close to the\n",
            " |          order the array elements appear in memory as possible.\n",
            " |          Default is 'K'.\n",
            " |      casting : {'no', 'equiv', 'safe', 'same_kind', 'unsafe'}, optional\n",
            " |          Controls what kind of data casting may occur. Defaults to 'unsafe'\n",
            " |          for backwards compatibility.\n",
            " |      \n",
            " |            * 'no' means the data types should not be cast at all.\n",
            " |            * 'equiv' means only byte-order changes are allowed.\n",
            " |            * 'safe' means only casts which can preserve values are allowed.\n",
            " |            * 'same_kind' means only safe casts or casts within a kind,\n",
            " |              like float64 to float32, are allowed.\n",
            " |            * 'unsafe' means any data conversions may be done.\n",
            " |      subok : bool, optional\n",
            " |          If True, then sub-classes will be passed-through (default), otherwise\n",
            " |          the returned array will be forced to be a base-class array.\n",
            " |      copy : bool, optional\n",
            " |          By default, astype always returns a newly allocated array. If this\n",
            " |          is set to false, and the `dtype`, `order`, and `subok`\n",
            " |          requirements are satisfied, the input array is returned instead\n",
            " |          of a copy.\n",
            " |      \n",
            " |      Returns\n",
            " |      -------\n",
            " |      arr_t : ndarray\n",
            " |          Unless `copy` is False and the other conditions for returning the input\n",
            " |          array are satisfied (see description for `copy` input parameter), `arr_t`\n",
            " |          is a new array of the same shape as the input array, with dtype, order\n",
            " |          given by `dtype`, `order`.\n",
            " |      \n",
            " |      Notes\n",
            " |      -----\n",
            " |      .. versionchanged:: 1.17.0\n",
            " |         Casting between a simple data type and a structured one is possible only\n",
            " |         for \"unsafe\" casting.  Casting to multiple fields is allowed, but\n",
            " |         casting from multiple fields is not.\n",
            " |      \n",
            " |      .. versionchanged:: 1.9.0\n",
            " |         Casting from numeric to string types in 'safe' casting mode requires\n",
            " |         that the string dtype length is long enough to store the max\n",
            " |         integer/float value converted.\n",
            " |      \n",
            " |      Raises\n",
            " |      ------\n",
            " |      ComplexWarning\n",
            " |          When casting from complex to float or int. To avoid this,\n",
            " |          one should use ``a.real.astype(t)``.\n",
            " |      \n",
            " |      Examples\n",
            " |      --------\n",
            " |      >>> x = np.array([1, 2, 2.5])\n",
            " |      >>> x\n",
            " |      array([1. ,  2. ,  2.5])\n",
            " |      \n",
            " |      >>> x.astype(int)\n",
            " |      array([1, 2, 2])\n",
            " |  \n",
            " |  byteswap(...)\n",
            " |      a.byteswap(inplace=False)\n",
            " |      \n",
            " |      Swap the bytes of the array elements\n",
            " |      \n",
            " |      Toggle between low-endian and big-endian data representation by\n",
            " |      returning a byteswapped array, optionally swapped in-place.\n",
            " |      Arrays of byte-strings are not swapped. The real and imaginary\n",
            " |      parts of a complex number are swapped individually.\n",
            " |      \n",
            " |      Parameters\n",
            " |      ----------\n",
            " |      inplace : bool, optional\n",
            " |          If ``True``, swap bytes in-place, default is ``False``.\n",
            " |      \n",
            " |      Returns\n",
            " |      -------\n",
            " |      out : ndarray\n",
            " |          The byteswapped array. If `inplace` is ``True``, this is\n",
            " |          a view to self.\n",
            " |      \n",
            " |      Examples\n",
            " |      --------\n",
            " |      >>> A = np.array([1, 256, 8755], dtype=np.int16)\n",
            " |      >>> list(map(hex, A))\n",
            " |      ['0x1', '0x100', '0x2233']\n",
            " |      >>> A.byteswap(inplace=True)\n",
            " |      array([  256,     1, 13090], dtype=int16)\n",
            " |      >>> list(map(hex, A))\n",
            " |      ['0x100', '0x1', '0x3322']\n",
            " |      \n",
            " |      Arrays of byte-strings are not swapped\n",
            " |      \n",
            " |      >>> A = np.array([b'ceg', b'fac'])\n",
            " |      >>> A.byteswap()\n",
            " |      array([b'ceg', b'fac'], dtype='|S3')\n",
            " |      \n",
            " |      ``A.newbyteorder().byteswap()`` produces an array with the same values\n",
            " |        but different representation in memory\n",
            " |      \n",
            " |      >>> A = np.array([1, 2, 3])\n",
            " |      >>> A.view(np.uint8)\n",
            " |      array([1, 0, 0, 0, 0, 0, 0, 0, 2, 0, 0, 0, 0, 0, 0, 0, 3, 0, 0, 0, 0, 0,\n",
            " |             0, 0], dtype=uint8)\n",
            " |      >>> A.newbyteorder().byteswap(inplace=True)\n",
            " |      array([1, 2, 3])\n",
            " |      >>> A.view(np.uint8)\n",
            " |      array([0, 0, 0, 0, 0, 0, 0, 1, 0, 0, 0, 0, 0, 0, 0, 2, 0, 0, 0, 0, 0, 0,\n",
            " |             0, 3], dtype=uint8)\n",
            " |  \n",
            " |  choose(...)\n",
            " |      a.choose(choices, out=None, mode='raise')\n",
            " |      \n",
            " |      Use an index array to construct a new array from a set of choices.\n",
            " |      \n",
            " |      Refer to `numpy.choose` for full documentation.\n",
            " |      \n",
            " |      See Also\n",
            " |      --------\n",
            " |      numpy.choose : equivalent function\n",
            " |  \n",
            " |  clip(...)\n",
            " |      a.clip(min=None, max=None, out=None, **kwargs)\n",
            " |      \n",
            " |      Return an array whose values are limited to ``[min, max]``.\n",
            " |      One of max or min must be given.\n",
            " |      \n",
            " |      Refer to `numpy.clip` for full documentation.\n",
            " |      \n",
            " |      See Also\n",
            " |      --------\n",
            " |      numpy.clip : equivalent function\n",
            " |  \n",
            " |  compress(...)\n",
            " |      a.compress(condition, axis=None, out=None)\n",
            " |      \n",
            " |      Return selected slices of this array along given axis.\n",
            " |      \n",
            " |      Refer to `numpy.compress` for full documentation.\n",
            " |      \n",
            " |      See Also\n",
            " |      --------\n",
            " |      numpy.compress : equivalent function\n",
            " |  \n",
            " |  conj(...)\n",
            " |      a.conj()\n",
            " |      \n",
            " |      Complex-conjugate all elements.\n",
            " |      \n",
            " |      Refer to `numpy.conjugate` for full documentation.\n",
            " |      \n",
            " |      See Also\n",
            " |      --------\n",
            " |      numpy.conjugate : equivalent function\n",
            " |  \n",
            " |  conjugate(...)\n",
            " |      a.conjugate()\n",
            " |      \n",
            " |      Return the complex conjugate, element-wise.\n",
            " |      \n",
            " |      Refer to `numpy.conjugate` for full documentation.\n",
            " |      \n",
            " |      See Also\n",
            " |      --------\n",
            " |      numpy.conjugate : equivalent function\n",
            " |  \n",
            " |  copy(...)\n",
            " |      a.copy(order='C')\n",
            " |      \n",
            " |      Return a copy of the array.\n",
            " |      \n",
            " |      Parameters\n",
            " |      ----------\n",
            " |      order : {'C', 'F', 'A', 'K'}, optional\n",
            " |          Controls the memory layout of the copy. 'C' means C-order,\n",
            " |          'F' means F-order, 'A' means 'F' if `a` is Fortran contiguous,\n",
            " |          'C' otherwise. 'K' means match the layout of `a` as closely\n",
            " |          as possible. (Note that this function and :func:`numpy.copy` are very\n",
            " |          similar, but have different default values for their order=\n",
            " |          arguments.)\n",
            " |      \n",
            " |      See also\n",
            " |      --------\n",
            " |      numpy.copy\n",
            " |      numpy.copyto\n",
            " |      \n",
            " |      Examples\n",
            " |      --------\n",
            " |      >>> x = np.array([[1,2,3],[4,5,6]], order='F')\n",
            " |      \n",
            " |      >>> y = x.copy()\n",
            " |      \n",
            " |      >>> x.fill(0)\n",
            " |      \n",
            " |      >>> x\n",
            " |      array([[0, 0, 0],\n",
            " |             [0, 0, 0]])\n",
            " |      \n",
            " |      >>> y\n",
            " |      array([[1, 2, 3],\n",
            " |             [4, 5, 6]])\n",
            " |      \n",
            " |      >>> y.flags['C_CONTIGUOUS']\n",
            " |      True\n",
            " |  \n",
            " |  cumprod(...)\n",
            " |      a.cumprod(axis=None, dtype=None, out=None)\n",
            " |      \n",
            " |      Return the cumulative product of the elements along the given axis.\n",
            " |      \n",
            " |      Refer to `numpy.cumprod` for full documentation.\n",
            " |      \n",
            " |      See Also\n",
            " |      --------\n",
            " |      numpy.cumprod : equivalent function\n",
            " |  \n",
            " |  cumsum(...)\n",
            " |      a.cumsum(axis=None, dtype=None, out=None)\n",
            " |      \n",
            " |      Return the cumulative sum of the elements along the given axis.\n",
            " |      \n",
            " |      Refer to `numpy.cumsum` for full documentation.\n",
            " |      \n",
            " |      See Also\n",
            " |      --------\n",
            " |      numpy.cumsum : equivalent function\n",
            " |  \n",
            " |  diagonal(...)\n",
            " |      a.diagonal(offset=0, axis1=0, axis2=1)\n",
            " |      \n",
            " |      Return specified diagonals. In NumPy 1.9 the returned array is a\n",
            " |      read-only view instead of a copy as in previous NumPy versions.  In\n",
            " |      a future version the read-only restriction will be removed.\n",
            " |      \n",
            " |      Refer to :func:`numpy.diagonal` for full documentation.\n",
            " |      \n",
            " |      See Also\n",
            " |      --------\n",
            " |      numpy.diagonal : equivalent function\n",
            " |  \n",
            " |  dot(...)\n",
            " |      a.dot(b, out=None)\n",
            " |      \n",
            " |      Dot product of two arrays.\n",
            " |      \n",
            " |      Refer to `numpy.dot` for full documentation.\n",
            " |      \n",
            " |      See Also\n",
            " |      --------\n",
            " |      numpy.dot : equivalent function\n",
            " |      \n",
            " |      Examples\n",
            " |      --------\n",
            " |      >>> a = np.eye(2)\n",
            " |      >>> b = np.ones((2, 2)) * 2\n",
            " |      >>> a.dot(b)\n",
            " |      array([[2.,  2.],\n",
            " |             [2.,  2.]])\n",
            " |      \n",
            " |      This array method can be conveniently chained:\n",
            " |      \n",
            " |      >>> a.dot(b).dot(b)\n",
            " |      array([[8.,  8.],\n",
            " |             [8.,  8.]])\n",
            " |  \n",
            " |  dump(...)\n",
            " |      a.dump(file)\n",
            " |      \n",
            " |      Dump a pickle of the array to the specified file.\n",
            " |      The array can be read back with pickle.load or numpy.load.\n",
            " |      \n",
            " |      Parameters\n",
            " |      ----------\n",
            " |      file : str or Path\n",
            " |          A string naming the dump file.\n",
            " |      \n",
            " |          .. versionchanged:: 1.17.0\n",
            " |              `pathlib.Path` objects are now accepted.\n",
            " |  \n",
            " |  dumps(...)\n",
            " |      a.dumps()\n",
            " |      \n",
            " |      Returns the pickle of the array as a string.\n",
            " |      pickle.loads or numpy.loads will convert the string back to an array.\n",
            " |      \n",
            " |      Parameters\n",
            " |      ----------\n",
            " |      None\n",
            " |  \n",
            " |  fill(...)\n",
            " |      a.fill(value)\n",
            " |      \n",
            " |      Fill the array with a scalar value.\n",
            " |      \n",
            " |      Parameters\n",
            " |      ----------\n",
            " |      value : scalar\n",
            " |          All elements of `a` will be assigned this value.\n",
            " |      \n",
            " |      Examples\n",
            " |      --------\n",
            " |      >>> a = np.array([1, 2])\n",
            " |      >>> a.fill(0)\n",
            " |      >>> a\n",
            " |      array([0, 0])\n",
            " |      >>> a = np.empty(2)\n",
            " |      >>> a.fill(1)\n",
            " |      >>> a\n",
            " |      array([1.,  1.])\n",
            " |  \n",
            " |  flatten(...)\n",
            " |      a.flatten(order='C')\n",
            " |      \n",
            " |      Return a copy of the array collapsed into one dimension.\n",
            " |      \n",
            " |      Parameters\n",
            " |      ----------\n",
            " |      order : {'C', 'F', 'A', 'K'}, optional\n",
            " |          'C' means to flatten in row-major (C-style) order.\n",
            " |          'F' means to flatten in column-major (Fortran-\n",
            " |          style) order. 'A' means to flatten in column-major\n",
            " |          order if `a` is Fortran *contiguous* in memory,\n",
            " |          row-major order otherwise. 'K' means to flatten\n",
            " |          `a` in the order the elements occur in memory.\n",
            " |          The default is 'C'.\n",
            " |      \n",
            " |      Returns\n",
            " |      -------\n",
            " |      y : ndarray\n",
            " |          A copy of the input array, flattened to one dimension.\n",
            " |      \n",
            " |      See Also\n",
            " |      --------\n",
            " |      ravel : Return a flattened array.\n",
            " |      flat : A 1-D flat iterator over the array.\n",
            " |      \n",
            " |      Examples\n",
            " |      --------\n",
            " |      >>> a = np.array([[1,2], [3,4]])\n",
            " |      >>> a.flatten()\n",
            " |      array([1, 2, 3, 4])\n",
            " |      >>> a.flatten('F')\n",
            " |      array([1, 3, 2, 4])\n",
            " |  \n",
            " |  getfield(...)\n",
            " |      a.getfield(dtype, offset=0)\n",
            " |      \n",
            " |      Returns a field of the given array as a certain type.\n",
            " |      \n",
            " |      A field is a view of the array data with a given data-type. The values in\n",
            " |      the view are determined by the given type and the offset into the current\n",
            " |      array in bytes. The offset needs to be such that the view dtype fits in the\n",
            " |      array dtype; for example an array of dtype complex128 has 16-byte elements.\n",
            " |      If taking a view with a 32-bit integer (4 bytes), the offset needs to be\n",
            " |      between 0 and 12 bytes.\n",
            " |      \n",
            " |      Parameters\n",
            " |      ----------\n",
            " |      dtype : str or dtype\n",
            " |          The data type of the view. The dtype size of the view can not be larger\n",
            " |          than that of the array itself.\n",
            " |      offset : int\n",
            " |          Number of bytes to skip before beginning the element view.\n",
            " |      \n",
            " |      Examples\n",
            " |      --------\n",
            " |      >>> x = np.diag([1.+1.j]*2)\n",
            " |      >>> x[1, 1] = 2 + 4.j\n",
            " |      >>> x\n",
            " |      array([[1.+1.j,  0.+0.j],\n",
            " |             [0.+0.j,  2.+4.j]])\n",
            " |      >>> x.getfield(np.float64)\n",
            " |      array([[1.,  0.],\n",
            " |             [0.,  2.]])\n",
            " |      \n",
            " |      By choosing an offset of 8 bytes we can select the complex part of the\n",
            " |      array for our view:\n",
            " |      \n",
            " |      >>> x.getfield(np.float64, offset=8)\n",
            " |      array([[1.,  0.],\n",
            " |             [0.,  4.]])\n",
            " |  \n",
            " |  item(...)\n",
            " |      a.item(*args)\n",
            " |      \n",
            " |      Copy an element of an array to a standard Python scalar and return it.\n",
            " |      \n",
            " |      Parameters\n",
            " |      ----------\n",
            " |      \\*args : Arguments (variable number and type)\n",
            " |      \n",
            " |          * none: in this case, the method only works for arrays\n",
            " |            with one element (`a.size == 1`), which element is\n",
            " |            copied into a standard Python scalar object and returned.\n",
            " |      \n",
            " |          * int_type: this argument is interpreted as a flat index into\n",
            " |            the array, specifying which element to copy and return.\n",
            " |      \n",
            " |          * tuple of int_types: functions as does a single int_type argument,\n",
            " |            except that the argument is interpreted as an nd-index into the\n",
            " |            array.\n",
            " |      \n",
            " |      Returns\n",
            " |      -------\n",
            " |      z : Standard Python scalar object\n",
            " |          A copy of the specified element of the array as a suitable\n",
            " |          Python scalar\n",
            " |      \n",
            " |      Notes\n",
            " |      -----\n",
            " |      When the data type of `a` is longdouble or clongdouble, item() returns\n",
            " |      a scalar array object because there is no available Python scalar that\n",
            " |      would not lose information. Void arrays return a buffer object for item(),\n",
            " |      unless fields are defined, in which case a tuple is returned.\n",
            " |      \n",
            " |      `item` is very similar to a[args], except, instead of an array scalar,\n",
            " |      a standard Python scalar is returned. This can be useful for speeding up\n",
            " |      access to elements of the array and doing arithmetic on elements of the\n",
            " |      array using Python's optimized math.\n",
            " |      \n",
            " |      Examples\n",
            " |      --------\n",
            " |      >>> np.random.seed(123)\n",
            " |      >>> x = np.random.randint(9, size=(3, 3))\n",
            " |      >>> x\n",
            " |      array([[2, 2, 6],\n",
            " |             [1, 3, 6],\n",
            " |             [1, 0, 1]])\n",
            " |      >>> x.item(3)\n",
            " |      1\n",
            " |      >>> x.item(7)\n",
            " |      0\n",
            " |      >>> x.item((0, 1))\n",
            " |      2\n",
            " |      >>> x.item((2, 2))\n",
            " |      1\n",
            " |  \n",
            " |  itemset(...)\n",
            " |      a.itemset(*args)\n",
            " |      \n",
            " |      Insert scalar into an array (scalar is cast to array's dtype, if possible)\n",
            " |      \n",
            " |      There must be at least 1 argument, and define the last argument\n",
            " |      as *item*.  Then, ``a.itemset(*args)`` is equivalent to but faster\n",
            " |      than ``a[args] = item``.  The item should be a scalar value and `args`\n",
            " |      must select a single item in the array `a`.\n",
            " |      \n",
            " |      Parameters\n",
            " |      ----------\n",
            " |      \\*args : Arguments\n",
            " |          If one argument: a scalar, only used in case `a` is of size 1.\n",
            " |          If two arguments: the last argument is the value to be set\n",
            " |          and must be a scalar, the first argument specifies a single array\n",
            " |          element location. It is either an int or a tuple.\n",
            " |      \n",
            " |      Notes\n",
            " |      -----\n",
            " |      Compared to indexing syntax, `itemset` provides some speed increase\n",
            " |      for placing a scalar into a particular location in an `ndarray`,\n",
            " |      if you must do this.  However, generally this is discouraged:\n",
            " |      among other problems, it complicates the appearance of the code.\n",
            " |      Also, when using `itemset` (and `item`) inside a loop, be sure\n",
            " |      to assign the methods to a local variable to avoid the attribute\n",
            " |      look-up at each loop iteration.\n",
            " |      \n",
            " |      Examples\n",
            " |      --------\n",
            " |      >>> np.random.seed(123)\n",
            " |      >>> x = np.random.randint(9, size=(3, 3))\n",
            " |      >>> x\n",
            " |      array([[2, 2, 6],\n",
            " |             [1, 3, 6],\n",
            " |             [1, 0, 1]])\n",
            " |      >>> x.itemset(4, 0)\n",
            " |      >>> x.itemset((2, 2), 9)\n",
            " |      >>> x\n",
            " |      array([[2, 2, 6],\n",
            " |             [1, 0, 6],\n",
            " |             [1, 0, 9]])\n",
            " |  \n",
            " |  max(...)\n",
            " |      a.max(axis=None, out=None, keepdims=False, initial=<no value>, where=True)\n",
            " |      \n",
            " |      Return the maximum along a given axis.\n",
            " |      \n",
            " |      Refer to `numpy.amax` for full documentation.\n",
            " |      \n",
            " |      See Also\n",
            " |      --------\n",
            " |      numpy.amax : equivalent function\n",
            " |  \n",
            " |  mean(...)\n",
            " |      a.mean(axis=None, dtype=None, out=None, keepdims=False)\n",
            " |      \n",
            " |      Returns the average of the array elements along given axis.\n",
            " |      \n",
            " |      Refer to `numpy.mean` for full documentation.\n",
            " |      \n",
            " |      See Also\n",
            " |      --------\n",
            " |      numpy.mean : equivalent function\n",
            " |  \n",
            " |  min(...)\n",
            " |      a.min(axis=None, out=None, keepdims=False, initial=<no value>, where=True)\n",
            " |      \n",
            " |      Return the minimum along a given axis.\n",
            " |      \n",
            " |      Refer to `numpy.amin` for full documentation.\n",
            " |      \n",
            " |      See Also\n",
            " |      --------\n",
            " |      numpy.amin : equivalent function\n",
            " |  \n",
            " |  newbyteorder(...)\n",
            " |      arr.newbyteorder(new_order='S')\n",
            " |      \n",
            " |      Return the array with the same data viewed with a different byte order.\n",
            " |      \n",
            " |      Equivalent to::\n",
            " |      \n",
            " |          arr.view(arr.dtype.newbytorder(new_order))\n",
            " |      \n",
            " |      Changes are also made in all fields and sub-arrays of the array data\n",
            " |      type.\n",
            " |      \n",
            " |      \n",
            " |      \n",
            " |      Parameters\n",
            " |      ----------\n",
            " |      new_order : string, optional\n",
            " |          Byte order to force; a value from the byte order specifications\n",
            " |          below. `new_order` codes can be any of:\n",
            " |      \n",
            " |          * 'S' - swap dtype from current to opposite endian\n",
            " |          * {'<', 'L'} - little endian\n",
            " |          * {'>', 'B'} - big endian\n",
            " |          * {'=', 'N'} - native order\n",
            " |          * {'|', 'I'} - ignore (no change to byte order)\n",
            " |      \n",
            " |          The default value ('S') results in swapping the current\n",
            " |          byte order. The code does a case-insensitive check on the first\n",
            " |          letter of `new_order` for the alternatives above.  For example,\n",
            " |          any of 'B' or 'b' or 'biggish' are valid to specify big-endian.\n",
            " |      \n",
            " |      \n",
            " |      Returns\n",
            " |      -------\n",
            " |      new_arr : array\n",
            " |          New array object with the dtype reflecting given change to the\n",
            " |          byte order.\n",
            " |  \n",
            " |  nonzero(...)\n",
            " |      a.nonzero()\n",
            " |      \n",
            " |      Return the indices of the elements that are non-zero.\n",
            " |      \n",
            " |      Refer to `numpy.nonzero` for full documentation.\n",
            " |      \n",
            " |      See Also\n",
            " |      --------\n",
            " |      numpy.nonzero : equivalent function\n",
            " |  \n",
            " |  partition(...)\n",
            " |      a.partition(kth, axis=-1, kind='introselect', order=None)\n",
            " |      \n",
            " |      Rearranges the elements in the array in such a way that the value of the\n",
            " |      element in kth position is in the position it would be in a sorted array.\n",
            " |      All elements smaller than the kth element are moved before this element and\n",
            " |      all equal or greater are moved behind it. The ordering of the elements in\n",
            " |      the two partitions is undefined.\n",
            " |      \n",
            " |      .. versionadded:: 1.8.0\n",
            " |      \n",
            " |      Parameters\n",
            " |      ----------\n",
            " |      kth : int or sequence of ints\n",
            " |          Element index to partition by. The kth element value will be in its\n",
            " |          final sorted position and all smaller elements will be moved before it\n",
            " |          and all equal or greater elements behind it.\n",
            " |          The order of all elements in the partitions is undefined.\n",
            " |          If provided with a sequence of kth it will partition all elements\n",
            " |          indexed by kth of them into their sorted position at once.\n",
            " |      axis : int, optional\n",
            " |          Axis along which to sort. Default is -1, which means sort along the\n",
            " |          last axis.\n",
            " |      kind : {'introselect'}, optional\n",
            " |          Selection algorithm. Default is 'introselect'.\n",
            " |      order : str or list of str, optional\n",
            " |          When `a` is an array with fields defined, this argument specifies\n",
            " |          which fields to compare first, second, etc. A single field can\n",
            " |          be specified as a string, and not all fields need to be specified,\n",
            " |          but unspecified fields will still be used, in the order in which\n",
            " |          they come up in the dtype, to break ties.\n",
            " |      \n",
            " |      See Also\n",
            " |      --------\n",
            " |      numpy.partition : Return a parititioned copy of an array.\n",
            " |      argpartition : Indirect partition.\n",
            " |      sort : Full sort.\n",
            " |      \n",
            " |      Notes\n",
            " |      -----\n",
            " |      See ``np.partition`` for notes on the different algorithms.\n",
            " |      \n",
            " |      Examples\n",
            " |      --------\n",
            " |      >>> a = np.array([3, 4, 2, 1])\n",
            " |      >>> a.partition(3)\n",
            " |      >>> a\n",
            " |      array([2, 1, 3, 4])\n",
            " |      \n",
            " |      >>> a.partition((1, 3))\n",
            " |      >>> a\n",
            " |      array([1, 2, 3, 4])\n",
            " |  \n",
            " |  prod(...)\n",
            " |      a.prod(axis=None, dtype=None, out=None, keepdims=False, initial=1, where=True)\n",
            " |      \n",
            " |      Return the product of the array elements over the given axis\n",
            " |      \n",
            " |      Refer to `numpy.prod` for full documentation.\n",
            " |      \n",
            " |      See Also\n",
            " |      --------\n",
            " |      numpy.prod : equivalent function\n",
            " |  \n",
            " |  ptp(...)\n",
            " |      a.ptp(axis=None, out=None, keepdims=False)\n",
            " |      \n",
            " |      Peak to peak (maximum - minimum) value along a given axis.\n",
            " |      \n",
            " |      Refer to `numpy.ptp` for full documentation.\n",
            " |      \n",
            " |      See Also\n",
            " |      --------\n",
            " |      numpy.ptp : equivalent function\n",
            " |  \n",
            " |  put(...)\n",
            " |      a.put(indices, values, mode='raise')\n",
            " |      \n",
            " |      Set ``a.flat[n] = values[n]`` for all `n` in indices.\n",
            " |      \n",
            " |      Refer to `numpy.put` for full documentation.\n",
            " |      \n",
            " |      See Also\n",
            " |      --------\n",
            " |      numpy.put : equivalent function\n",
            " |  \n",
            " |  ravel(...)\n",
            " |      a.ravel([order])\n",
            " |      \n",
            " |      Return a flattened array.\n",
            " |      \n",
            " |      Refer to `numpy.ravel` for full documentation.\n",
            " |      \n",
            " |      See Also\n",
            " |      --------\n",
            " |      numpy.ravel : equivalent function\n",
            " |      \n",
            " |      ndarray.flat : a flat iterator on the array.\n",
            " |  \n",
            " |  repeat(...)\n",
            " |      a.repeat(repeats, axis=None)\n",
            " |      \n",
            " |      Repeat elements of an array.\n",
            " |      \n",
            " |      Refer to `numpy.repeat` for full documentation.\n",
            " |      \n",
            " |      See Also\n",
            " |      --------\n",
            " |      numpy.repeat : equivalent function\n",
            " |  \n",
            " |  reshape(...)\n",
            " |      a.reshape(shape, order='C')\n",
            " |      \n",
            " |      Returns an array containing the same data with a new shape.\n",
            " |      \n",
            " |      Refer to `numpy.reshape` for full documentation.\n",
            " |      \n",
            " |      See Also\n",
            " |      --------\n",
            " |      numpy.reshape : equivalent function\n",
            " |      \n",
            " |      Notes\n",
            " |      -----\n",
            " |      Unlike the free function `numpy.reshape`, this method on `ndarray` allows\n",
            " |      the elements of the shape parameter to be passed in as separate arguments.\n",
            " |      For example, ``a.reshape(10, 11)`` is equivalent to\n",
            " |      ``a.reshape((10, 11))``.\n",
            " |  \n",
            " |  resize(...)\n",
            " |      a.resize(new_shape, refcheck=True)\n",
            " |      \n",
            " |      Change shape and size of array in-place.\n",
            " |      \n",
            " |      Parameters\n",
            " |      ----------\n",
            " |      new_shape : tuple of ints, or `n` ints\n",
            " |          Shape of resized array.\n",
            " |      refcheck : bool, optional\n",
            " |          If False, reference count will not be checked. Default is True.\n",
            " |      \n",
            " |      Returns\n",
            " |      -------\n",
            " |      None\n",
            " |      \n",
            " |      Raises\n",
            " |      ------\n",
            " |      ValueError\n",
            " |          If `a` does not own its own data or references or views to it exist,\n",
            " |          and the data memory must be changed.\n",
            " |          PyPy only: will always raise if the data memory must be changed, since\n",
            " |          there is no reliable way to determine if references or views to it\n",
            " |          exist.\n",
            " |      \n",
            " |      SystemError\n",
            " |          If the `order` keyword argument is specified. This behaviour is a\n",
            " |          bug in NumPy.\n",
            " |      \n",
            " |      See Also\n",
            " |      --------\n",
            " |      resize : Return a new array with the specified shape.\n",
            " |      \n",
            " |      Notes\n",
            " |      -----\n",
            " |      This reallocates space for the data area if necessary.\n",
            " |      \n",
            " |      Only contiguous arrays (data elements consecutive in memory) can be\n",
            " |      resized.\n",
            " |      \n",
            " |      The purpose of the reference count check is to make sure you\n",
            " |      do not use this array as a buffer for another Python object and then\n",
            " |      reallocate the memory. However, reference counts can increase in\n",
            " |      other ways so if you are sure that you have not shared the memory\n",
            " |      for this array with another Python object, then you may safely set\n",
            " |      `refcheck` to False.\n",
            " |      \n",
            " |      Examples\n",
            " |      --------\n",
            " |      Shrinking an array: array is flattened (in the order that the data are\n",
            " |      stored in memory), resized, and reshaped:\n",
            " |      \n",
            " |      >>> a = np.array([[0, 1], [2, 3]], order='C')\n",
            " |      >>> a.resize((2, 1))\n",
            " |      >>> a\n",
            " |      array([[0],\n",
            " |             [1]])\n",
            " |      \n",
            " |      >>> a = np.array([[0, 1], [2, 3]], order='F')\n",
            " |      >>> a.resize((2, 1))\n",
            " |      >>> a\n",
            " |      array([[0],\n",
            " |             [2]])\n",
            " |      \n",
            " |      Enlarging an array: as above, but missing entries are filled with zeros:\n",
            " |      \n",
            " |      >>> b = np.array([[0, 1], [2, 3]])\n",
            " |      >>> b.resize(2, 3) # new_shape parameter doesn't have to be a tuple\n",
            " |      >>> b\n",
            " |      array([[0, 1, 2],\n",
            " |             [3, 0, 0]])\n",
            " |      \n",
            " |      Referencing an array prevents resizing...\n",
            " |      \n",
            " |      >>> c = a\n",
            " |      >>> a.resize((1, 1))\n",
            " |      Traceback (most recent call last):\n",
            " |      ...\n",
            " |      ValueError: cannot resize an array that references or is referenced ...\n",
            " |      \n",
            " |      Unless `refcheck` is False:\n",
            " |      \n",
            " |      >>> a.resize((1, 1), refcheck=False)\n",
            " |      >>> a\n",
            " |      array([[0]])\n",
            " |      >>> c\n",
            " |      array([[0]])\n",
            " |  \n",
            " |  round(...)\n",
            " |      a.round(decimals=0, out=None)\n",
            " |      \n",
            " |      Return `a` with each element rounded to the given number of decimals.\n",
            " |      \n",
            " |      Refer to `numpy.around` for full documentation.\n",
            " |      \n",
            " |      See Also\n",
            " |      --------\n",
            " |      numpy.around : equivalent function\n",
            " |  \n",
            " |  searchsorted(...)\n",
            " |      a.searchsorted(v, side='left', sorter=None)\n",
            " |      \n",
            " |      Find indices where elements of v should be inserted in a to maintain order.\n",
            " |      \n",
            " |      For full documentation, see `numpy.searchsorted`\n",
            " |      \n",
            " |      See Also\n",
            " |      --------\n",
            " |      numpy.searchsorted : equivalent function\n",
            " |  \n",
            " |  setfield(...)\n",
            " |      a.setfield(val, dtype, offset=0)\n",
            " |      \n",
            " |      Put a value into a specified place in a field defined by a data-type.\n",
            " |      \n",
            " |      Place `val` into `a`'s field defined by `dtype` and beginning `offset`\n",
            " |      bytes into the field.\n",
            " |      \n",
            " |      Parameters\n",
            " |      ----------\n",
            " |      val : object\n",
            " |          Value to be placed in field.\n",
            " |      dtype : dtype object\n",
            " |          Data-type of the field in which to place `val`.\n",
            " |      offset : int, optional\n",
            " |          The number of bytes into the field at which to place `val`.\n",
            " |      \n",
            " |      Returns\n",
            " |      -------\n",
            " |      None\n",
            " |      \n",
            " |      See Also\n",
            " |      --------\n",
            " |      getfield\n",
            " |      \n",
            " |      Examples\n",
            " |      --------\n",
            " |      >>> x = np.eye(3)\n",
            " |      >>> x.getfield(np.float64)\n",
            " |      array([[1.,  0.,  0.],\n",
            " |             [0.,  1.,  0.],\n",
            " |             [0.,  0.,  1.]])\n",
            " |      >>> x.setfield(3, np.int32)\n",
            " |      >>> x.getfield(np.int32)\n",
            " |      array([[3, 3, 3],\n",
            " |             [3, 3, 3],\n",
            " |             [3, 3, 3]], dtype=int32)\n",
            " |      >>> x\n",
            " |      array([[1.0e+000, 1.5e-323, 1.5e-323],\n",
            " |             [1.5e-323, 1.0e+000, 1.5e-323],\n",
            " |             [1.5e-323, 1.5e-323, 1.0e+000]])\n",
            " |      >>> x.setfield(np.eye(3), np.int32)\n",
            " |      >>> x\n",
            " |      array([[1.,  0.,  0.],\n",
            " |             [0.,  1.,  0.],\n",
            " |             [0.,  0.,  1.]])\n",
            " |  \n",
            " |  setflags(...)\n",
            " |      a.setflags(write=None, align=None, uic=None)\n",
            " |      \n",
            " |      Set array flags WRITEABLE, ALIGNED, (WRITEBACKIFCOPY and UPDATEIFCOPY),\n",
            " |      respectively.\n",
            " |      \n",
            " |      These Boolean-valued flags affect how numpy interprets the memory\n",
            " |      area used by `a` (see Notes below). The ALIGNED flag can only\n",
            " |      be set to True if the data is actually aligned according to the type.\n",
            " |      The WRITEBACKIFCOPY and (deprecated) UPDATEIFCOPY flags can never be set\n",
            " |      to True. The flag WRITEABLE can only be set to True if the array owns its\n",
            " |      own memory, or the ultimate owner of the memory exposes a writeable buffer\n",
            " |      interface, or is a string. (The exception for string is made so that\n",
            " |      unpickling can be done without copying memory.)\n",
            " |      \n",
            " |      Parameters\n",
            " |      ----------\n",
            " |      write : bool, optional\n",
            " |          Describes whether or not `a` can be written to.\n",
            " |      align : bool, optional\n",
            " |          Describes whether or not `a` is aligned properly for its type.\n",
            " |      uic : bool, optional\n",
            " |          Describes whether or not `a` is a copy of another \"base\" array.\n",
            " |      \n",
            " |      Notes\n",
            " |      -----\n",
            " |      Array flags provide information about how the memory area used\n",
            " |      for the array is to be interpreted. There are 7 Boolean flags\n",
            " |      in use, only four of which can be changed by the user:\n",
            " |      WRITEBACKIFCOPY, UPDATEIFCOPY, WRITEABLE, and ALIGNED.\n",
            " |      \n",
            " |      WRITEABLE (W) the data area can be written to;\n",
            " |      \n",
            " |      ALIGNED (A) the data and strides are aligned appropriately for the hardware\n",
            " |      (as determined by the compiler);\n",
            " |      \n",
            " |      UPDATEIFCOPY (U) (deprecated), replaced by WRITEBACKIFCOPY;\n",
            " |      \n",
            " |      WRITEBACKIFCOPY (X) this array is a copy of some other array (referenced\n",
            " |      by .base). When the C-API function PyArray_ResolveWritebackIfCopy is\n",
            " |      called, the base array will be updated with the contents of this array.\n",
            " |      \n",
            " |      All flags can be accessed using the single (upper case) letter as well\n",
            " |      as the full name.\n",
            " |      \n",
            " |      Examples\n",
            " |      --------\n",
            " |      >>> y = np.array([[3, 1, 7],\n",
            " |      ...               [2, 0, 0],\n",
            " |      ...               [8, 5, 9]])\n",
            " |      >>> y\n",
            " |      array([[3, 1, 7],\n",
            " |             [2, 0, 0],\n",
            " |             [8, 5, 9]])\n",
            " |      >>> y.flags\n",
            " |        C_CONTIGUOUS : True\n",
            " |        F_CONTIGUOUS : False\n",
            " |        OWNDATA : True\n",
            " |        WRITEABLE : True\n",
            " |        ALIGNED : True\n",
            " |        WRITEBACKIFCOPY : False\n",
            " |        UPDATEIFCOPY : False\n",
            " |      >>> y.setflags(write=0, align=0)\n",
            " |      >>> y.flags\n",
            " |        C_CONTIGUOUS : True\n",
            " |        F_CONTIGUOUS : False\n",
            " |        OWNDATA : True\n",
            " |        WRITEABLE : False\n",
            " |        ALIGNED : False\n",
            " |        WRITEBACKIFCOPY : False\n",
            " |        UPDATEIFCOPY : False\n",
            " |      >>> y.setflags(uic=1)\n",
            " |      Traceback (most recent call last):\n",
            " |        File \"<stdin>\", line 1, in <module>\n",
            " |      ValueError: cannot set WRITEBACKIFCOPY flag to True\n",
            " |  \n",
            " |  sort(...)\n",
            " |      a.sort(axis=-1, kind=None, order=None)\n",
            " |      \n",
            " |      Sort an array in-place. Refer to `numpy.sort` for full documentation.\n",
            " |      \n",
            " |      Parameters\n",
            " |      ----------\n",
            " |      axis : int, optional\n",
            " |          Axis along which to sort. Default is -1, which means sort along the\n",
            " |          last axis.\n",
            " |      kind : {'quicksort', 'mergesort', 'heapsort', 'stable'}, optional\n",
            " |          Sorting algorithm. The default is 'quicksort'. Note that both 'stable'\n",
            " |          and 'mergesort' use timsort under the covers and, in general, the\n",
            " |          actual implementation will vary with datatype. The 'mergesort' option\n",
            " |          is retained for backwards compatibility.\n",
            " |      \n",
            " |          .. versionchanged:: 1.15.0.\n",
            " |             The 'stable' option was added.\n",
            " |      \n",
            " |      order : str or list of str, optional\n",
            " |          When `a` is an array with fields defined, this argument specifies\n",
            " |          which fields to compare first, second, etc.  A single field can\n",
            " |          be specified as a string, and not all fields need be specified,\n",
            " |          but unspecified fields will still be used, in the order in which\n",
            " |          they come up in the dtype, to break ties.\n",
            " |      \n",
            " |      See Also\n",
            " |      --------\n",
            " |      numpy.sort : Return a sorted copy of an array.\n",
            " |      numpy.argsort : Indirect sort.\n",
            " |      numpy.lexsort : Indirect stable sort on multiple keys.\n",
            " |      numpy.searchsorted : Find elements in sorted array.\n",
            " |      numpy.partition: Partial sort.\n",
            " |      \n",
            " |      Notes\n",
            " |      -----\n",
            " |      See `numpy.sort` for notes on the different sorting algorithms.\n",
            " |      \n",
            " |      Examples\n",
            " |      --------\n",
            " |      >>> a = np.array([[1,4], [3,1]])\n",
            " |      >>> a.sort(axis=1)\n",
            " |      >>> a\n",
            " |      array([[1, 4],\n",
            " |             [1, 3]])\n",
            " |      >>> a.sort(axis=0)\n",
            " |      >>> a\n",
            " |      array([[1, 3],\n",
            " |             [1, 4]])\n",
            " |      \n",
            " |      Use the `order` keyword to specify a field to use when sorting a\n",
            " |      structured array:\n",
            " |      \n",
            " |      >>> a = np.array([('a', 2), ('c', 1)], dtype=[('x', 'S1'), ('y', int)])\n",
            " |      >>> a.sort(order='y')\n",
            " |      >>> a\n",
            " |      array([(b'c', 1), (b'a', 2)],\n",
            " |            dtype=[('x', 'S1'), ('y', '<i8')])\n",
            " |  \n",
            " |  squeeze(...)\n",
            " |      a.squeeze(axis=None)\n",
            " |      \n",
            " |      Remove single-dimensional entries from the shape of `a`.\n",
            " |      \n",
            " |      Refer to `numpy.squeeze` for full documentation.\n",
            " |      \n",
            " |      See Also\n",
            " |      --------\n",
            " |      numpy.squeeze : equivalent function\n",
            " |  \n",
            " |  std(...)\n",
            " |      a.std(axis=None, dtype=None, out=None, ddof=0, keepdims=False)\n",
            " |      \n",
            " |      Returns the standard deviation of the array elements along given axis.\n",
            " |      \n",
            " |      Refer to `numpy.std` for full documentation.\n",
            " |      \n",
            " |      See Also\n",
            " |      --------\n",
            " |      numpy.std : equivalent function\n",
            " |  \n",
            " |  sum(...)\n",
            " |      a.sum(axis=None, dtype=None, out=None, keepdims=False, initial=0, where=True)\n",
            " |      \n",
            " |      Return the sum of the array elements over the given axis.\n",
            " |      \n",
            " |      Refer to `numpy.sum` for full documentation.\n",
            " |      \n",
            " |      See Also\n",
            " |      --------\n",
            " |      numpy.sum : equivalent function\n",
            " |  \n",
            " |  swapaxes(...)\n",
            " |      a.swapaxes(axis1, axis2)\n",
            " |      \n",
            " |      Return a view of the array with `axis1` and `axis2` interchanged.\n",
            " |      \n",
            " |      Refer to `numpy.swapaxes` for full documentation.\n",
            " |      \n",
            " |      See Also\n",
            " |      --------\n",
            " |      numpy.swapaxes : equivalent function\n",
            " |  \n",
            " |  take(...)\n",
            " |      a.take(indices, axis=None, out=None, mode='raise')\n",
            " |      \n",
            " |      Return an array formed from the elements of `a` at the given indices.\n",
            " |      \n",
            " |      Refer to `numpy.take` for full documentation.\n",
            " |      \n",
            " |      See Also\n",
            " |      --------\n",
            " |      numpy.take : equivalent function\n",
            " |  \n",
            " |  tobytes(...)\n",
            " |      a.tobytes(order='C')\n",
            " |      \n",
            " |      Construct Python bytes containing the raw data bytes in the array.\n",
            " |      \n",
            " |      Constructs Python bytes showing a copy of the raw contents of\n",
            " |      data memory. The bytes object can be produced in either 'C' or 'Fortran',\n",
            " |      or 'Any' order (the default is 'C'-order). 'Any' order means C-order\n",
            " |      unless the F_CONTIGUOUS flag in the array is set, in which case it\n",
            " |      means 'Fortran' order.\n",
            " |      \n",
            " |      .. versionadded:: 1.9.0\n",
            " |      \n",
            " |      Parameters\n",
            " |      ----------\n",
            " |      order : {'C', 'F', None}, optional\n",
            " |          Order of the data for multidimensional arrays:\n",
            " |          C, Fortran, or the same as for the original array.\n",
            " |      \n",
            " |      Returns\n",
            " |      -------\n",
            " |      s : bytes\n",
            " |          Python bytes exhibiting a copy of `a`'s raw data.\n",
            " |      \n",
            " |      Examples\n",
            " |      --------\n",
            " |      >>> x = np.array([[0, 1], [2, 3]], dtype='<u2')\n",
            " |      >>> x.tobytes()\n",
            " |      b'\\x00\\x00\\x01\\x00\\x02\\x00\\x03\\x00'\n",
            " |      >>> x.tobytes('C') == x.tobytes()\n",
            " |      True\n",
            " |      >>> x.tobytes('F')\n",
            " |      b'\\x00\\x00\\x02\\x00\\x01\\x00\\x03\\x00'\n",
            " |  \n",
            " |  tofile(...)\n",
            " |      a.tofile(fid, sep=\"\", format=\"%s\")\n",
            " |      \n",
            " |      Write array to a file as text or binary (default).\n",
            " |      \n",
            " |      Data is always written in 'C' order, independent of the order of `a`.\n",
            " |      The data produced by this method can be recovered using the function\n",
            " |      fromfile().\n",
            " |      \n",
            " |      Parameters\n",
            " |      ----------\n",
            " |      fid : file or str or Path\n",
            " |          An open file object, or a string containing a filename.\n",
            " |      \n",
            " |          .. versionchanged:: 1.17.0\n",
            " |              `pathlib.Path` objects are now accepted.\n",
            " |      \n",
            " |      sep : str\n",
            " |          Separator between array items for text output.\n",
            " |          If \"\" (empty), a binary file is written, equivalent to\n",
            " |          ``file.write(a.tobytes())``.\n",
            " |      format : str\n",
            " |          Format string for text file output.\n",
            " |          Each entry in the array is formatted to text by first converting\n",
            " |          it to the closest Python type, and then using \"format\" % item.\n",
            " |      \n",
            " |      Notes\n",
            " |      -----\n",
            " |      This is a convenience function for quick storage of array data.\n",
            " |      Information on endianness and precision is lost, so this method is not a\n",
            " |      good choice for files intended to archive data or transport data between\n",
            " |      machines with different endianness. Some of these problems can be overcome\n",
            " |      by outputting the data as text files, at the expense of speed and file\n",
            " |      size.\n",
            " |      \n",
            " |      When fid is a file object, array contents are directly written to the\n",
            " |      file, bypassing the file object's ``write`` method. As a result, tofile\n",
            " |      cannot be used with files objects supporting compression (e.g., GzipFile)\n",
            " |      or file-like objects that do not support ``fileno()`` (e.g., BytesIO).\n",
            " |  \n",
            " |  tolist(...)\n",
            " |      a.tolist()\n",
            " |      \n",
            " |      Return the array as an ``a.ndim``-levels deep nested list of Python scalars.\n",
            " |      \n",
            " |      Return a copy of the array data as a (nested) Python list.\n",
            " |      Data items are converted to the nearest compatible builtin Python type, via\n",
            " |      the `~numpy.ndarray.item` function.\n",
            " |      \n",
            " |      If ``a.ndim`` is 0, then since the depth of the nested list is 0, it will\n",
            " |      not be a list at all, but a simple Python scalar.\n",
            " |      \n",
            " |      Parameters\n",
            " |      ----------\n",
            " |      none\n",
            " |      \n",
            " |      Returns\n",
            " |      -------\n",
            " |      y : object, or list of object, or list of list of object, or ...\n",
            " |          The possibly nested list of array elements.\n",
            " |      \n",
            " |      Notes\n",
            " |      -----\n",
            " |      The array may be recreated via ``a = np.array(a.tolist())``, although this\n",
            " |      may sometimes lose precision.\n",
            " |      \n",
            " |      Examples\n",
            " |      --------\n",
            " |      For a 1D array, ``a.tolist()`` is almost the same as ``list(a)``, \n",
            " |      except that ``tolist`` changes numpy scalars to Python scalars:\n",
            " |      \n",
            " |      >>> a = np.uint32([1, 2])\n",
            " |      >>> a_list = list(a)\n",
            " |      >>> a_list\n",
            " |      [1, 2]\n",
            " |      >>> type(a_list[0])\n",
            " |      <class 'numpy.uint32'>\n",
            " |      >>> a_tolist = a.tolist()\n",
            " |      >>> a_tolist\n",
            " |      [1, 2]\n",
            " |      >>> type(a_tolist[0])\n",
            " |      <class 'int'>\n",
            " |      \n",
            " |      Additionally, for a 2D array, ``tolist`` applies recursively:\n",
            " |      \n",
            " |      >>> a = np.array([[1, 2], [3, 4]])\n",
            " |      >>> list(a)\n",
            " |      [array([1, 2]), array([3, 4])]\n",
            " |      >>> a.tolist()\n",
            " |      [[1, 2], [3, 4]]\n",
            " |      \n",
            " |      The base case for this recursion is a 0D array:\n",
            " |      \n",
            " |      >>> a = np.array(1)\n",
            " |      >>> list(a)\n",
            " |      Traceback (most recent call last):\n",
            " |        ...\n",
            " |      TypeError: iteration over a 0-d array\n",
            " |      >>> a.tolist()\n",
            " |      1\n",
            " |  \n",
            " |  tostring(...)\n",
            " |      a.tostring(order='C')\n",
            " |      \n",
            " |      Construct Python bytes containing the raw data bytes in the array.\n",
            " |      \n",
            " |      Constructs Python bytes showing a copy of the raw contents of\n",
            " |      data memory. The bytes object can be produced in either 'C' or 'Fortran',\n",
            " |      or 'Any' order (the default is 'C'-order). 'Any' order means C-order\n",
            " |      unless the F_CONTIGUOUS flag in the array is set, in which case it\n",
            " |      means 'Fortran' order.\n",
            " |      \n",
            " |      This function is a compatibility alias for tobytes. Despite its name it returns bytes not strings.\n",
            " |      \n",
            " |      Parameters\n",
            " |      ----------\n",
            " |      order : {'C', 'F', None}, optional\n",
            " |          Order of the data for multidimensional arrays:\n",
            " |          C, Fortran, or the same as for the original array.\n",
            " |      \n",
            " |      Returns\n",
            " |      -------\n",
            " |      s : bytes\n",
            " |          Python bytes exhibiting a copy of `a`'s raw data.\n",
            " |      \n",
            " |      Examples\n",
            " |      --------\n",
            " |      >>> x = np.array([[0, 1], [2, 3]], dtype='<u2')\n",
            " |      >>> x.tobytes()\n",
            " |      b'\\x00\\x00\\x01\\x00\\x02\\x00\\x03\\x00'\n",
            " |      >>> x.tobytes('C') == x.tobytes()\n",
            " |      True\n",
            " |      >>> x.tobytes('F')\n",
            " |      b'\\x00\\x00\\x02\\x00\\x01\\x00\\x03\\x00'\n",
            " |  \n",
            " |  trace(...)\n",
            " |      a.trace(offset=0, axis1=0, axis2=1, dtype=None, out=None)\n",
            " |      \n",
            " |      Return the sum along diagonals of the array.\n",
            " |      \n",
            " |      Refer to `numpy.trace` for full documentation.\n",
            " |      \n",
            " |      See Also\n",
            " |      --------\n",
            " |      numpy.trace : equivalent function\n",
            " |  \n",
            " |  transpose(...)\n",
            " |      a.transpose(*axes)\n",
            " |      \n",
            " |      Returns a view of the array with axes transposed.\n",
            " |      \n",
            " |      For a 1-D array this has no effect, as a transposed vector is simply the\n",
            " |      same vector. To convert a 1-D array into a 2D column vector, an additional\n",
            " |      dimension must be added. `np.atleast2d(a).T` achieves this, as does\n",
            " |      `a[:, np.newaxis]`.\n",
            " |      For a 2-D array, this is a standard matrix transpose.\n",
            " |      For an n-D array, if axes are given, their order indicates how the\n",
            " |      axes are permuted (see Examples). If axes are not provided and\n",
            " |      ``a.shape = (i[0], i[1], ... i[n-2], i[n-1])``, then\n",
            " |      ``a.transpose().shape = (i[n-1], i[n-2], ... i[1], i[0])``.\n",
            " |      \n",
            " |      Parameters\n",
            " |      ----------\n",
            " |      axes : None, tuple of ints, or `n` ints\n",
            " |      \n",
            " |       * None or no argument: reverses the order of the axes.\n",
            " |      \n",
            " |       * tuple of ints: `i` in the `j`-th place in the tuple means `a`'s\n",
            " |         `i`-th axis becomes `a.transpose()`'s `j`-th axis.\n",
            " |      \n",
            " |       * `n` ints: same as an n-tuple of the same ints (this form is\n",
            " |         intended simply as a \"convenience\" alternative to the tuple form)\n",
            " |      \n",
            " |      Returns\n",
            " |      -------\n",
            " |      out : ndarray\n",
            " |          View of `a`, with axes suitably permuted.\n",
            " |      \n",
            " |      See Also\n",
            " |      --------\n",
            " |      ndarray.T : Array property returning the array transposed.\n",
            " |      ndarray.reshape : Give a new shape to an array without changing its data.\n",
            " |      \n",
            " |      Examples\n",
            " |      --------\n",
            " |      >>> a = np.array([[1, 2], [3, 4]])\n",
            " |      >>> a\n",
            " |      array([[1, 2],\n",
            " |             [3, 4]])\n",
            " |      >>> a.transpose()\n",
            " |      array([[1, 3],\n",
            " |             [2, 4]])\n",
            " |      >>> a.transpose((1, 0))\n",
            " |      array([[1, 3],\n",
            " |             [2, 4]])\n",
            " |      >>> a.transpose(1, 0)\n",
            " |      array([[1, 3],\n",
            " |             [2, 4]])\n",
            " |  \n",
            " |  var(...)\n",
            " |      a.var(axis=None, dtype=None, out=None, ddof=0, keepdims=False)\n",
            " |      \n",
            " |      Returns the variance of the array elements, along given axis.\n",
            " |      \n",
            " |      Refer to `numpy.var` for full documentation.\n",
            " |      \n",
            " |      See Also\n",
            " |      --------\n",
            " |      numpy.var : equivalent function\n",
            " |  \n",
            " |  view(...)\n",
            " |      a.view(dtype=None, type=None)\n",
            " |      \n",
            " |      New view of array with the same data.\n",
            " |      \n",
            " |      Parameters\n",
            " |      ----------\n",
            " |      dtype : data-type or ndarray sub-class, optional\n",
            " |          Data-type descriptor of the returned view, e.g., float32 or int16. The\n",
            " |          default, None, results in the view having the same data-type as `a`.\n",
            " |          This argument can also be specified as an ndarray sub-class, which\n",
            " |          then specifies the type of the returned object (this is equivalent to\n",
            " |          setting the ``type`` parameter).\n",
            " |      type : Python type, optional\n",
            " |          Type of the returned view, e.g., ndarray or matrix.  Again, the\n",
            " |          default None results in type preservation.\n",
            " |      \n",
            " |      Notes\n",
            " |      -----\n",
            " |      ``a.view()`` is used two different ways:\n",
            " |      \n",
            " |      ``a.view(some_dtype)`` or ``a.view(dtype=some_dtype)`` constructs a view\n",
            " |      of the array's memory with a different data-type.  This can cause a\n",
            " |      reinterpretation of the bytes of memory.\n",
            " |      \n",
            " |      ``a.view(ndarray_subclass)`` or ``a.view(type=ndarray_subclass)`` just\n",
            " |      returns an instance of `ndarray_subclass` that looks at the same array\n",
            " |      (same shape, dtype, etc.)  This does not cause a reinterpretation of the\n",
            " |      memory.\n",
            " |      \n",
            " |      For ``a.view(some_dtype)``, if ``some_dtype`` has a different number of\n",
            " |      bytes per entry than the previous dtype (for example, converting a\n",
            " |      regular array to a structured array), then the behavior of the view\n",
            " |      cannot be predicted just from the superficial appearance of ``a`` (shown\n",
            " |      by ``print(a)``). It also depends on exactly how ``a`` is stored in\n",
            " |      memory. Therefore if ``a`` is C-ordered versus fortran-ordered, versus\n",
            " |      defined as a slice or transpose, etc., the view may give different\n",
            " |      results.\n",
            " |      \n",
            " |      \n",
            " |      Examples\n",
            " |      --------\n",
            " |      >>> x = np.array([(1, 2)], dtype=[('a', np.int8), ('b', np.int8)])\n",
            " |      \n",
            " |      Viewing array data using a different type and dtype:\n",
            " |      \n",
            " |      >>> y = x.view(dtype=np.int16, type=np.matrix)\n",
            " |      >>> y\n",
            " |      matrix([[513]], dtype=int16)\n",
            " |      >>> print(type(y))\n",
            " |      <class 'numpy.matrix'>\n",
            " |      \n",
            " |      Creating a view on a structured array so it can be used in calculations\n",
            " |      \n",
            " |      >>> x = np.array([(1, 2),(3,4)], dtype=[('a', np.int8), ('b', np.int8)])\n",
            " |      >>> xv = x.view(dtype=np.int8).reshape(-1,2)\n",
            " |      >>> xv\n",
            " |      array([[1, 2],\n",
            " |             [3, 4]], dtype=int8)\n",
            " |      >>> xv.mean(0)\n",
            " |      array([2.,  3.])\n",
            " |      \n",
            " |      Making changes to the view changes the underlying array\n",
            " |      \n",
            " |      >>> xv[0,1] = 20\n",
            " |      >>> x\n",
            " |      array([(1, 20), (3,  4)], dtype=[('a', 'i1'), ('b', 'i1')])\n",
            " |      \n",
            " |      Using a view to convert an array to a recarray:\n",
            " |      \n",
            " |      >>> z = x.view(np.recarray)\n",
            " |      >>> z.a\n",
            " |      array([1, 3], dtype=int8)\n",
            " |      \n",
            " |      Views share data:\n",
            " |      \n",
            " |      >>> x[0] = (9, 10)\n",
            " |      >>> z[0]\n",
            " |      (9, 10)\n",
            " |      \n",
            " |      Views that change the dtype size (bytes per entry) should normally be\n",
            " |      avoided on arrays defined by slices, transposes, fortran-ordering, etc.:\n",
            " |      \n",
            " |      >>> x = np.array([[1,2,3],[4,5,6]], dtype=np.int16)\n",
            " |      >>> y = x[:, 0:2]\n",
            " |      >>> y\n",
            " |      array([[1, 2],\n",
            " |             [4, 5]], dtype=int16)\n",
            " |      >>> y.view(dtype=[('width', np.int16), ('length', np.int16)])\n",
            " |      Traceback (most recent call last):\n",
            " |          ...\n",
            " |      ValueError: To change to a dtype of a different size, the array must be C-contiguous\n",
            " |      >>> z = y.copy()\n",
            " |      >>> z.view(dtype=[('width', np.int16), ('length', np.int16)])\n",
            " |      array([[(1, 2)],\n",
            " |             [(4, 5)]], dtype=[('width', '<i2'), ('length', '<i2')])\n",
            " |  \n",
            " |  ----------------------------------------------------------------------\n",
            " |  Data descriptors defined here:\n",
            " |  \n",
            " |  T\n",
            " |      The transposed array.\n",
            " |      \n",
            " |      Same as ``self.transpose()``.\n",
            " |      \n",
            " |      Examples\n",
            " |      --------\n",
            " |      >>> x = np.array([[1.,2.],[3.,4.]])\n",
            " |      >>> x\n",
            " |      array([[ 1.,  2.],\n",
            " |             [ 3.,  4.]])\n",
            " |      >>> x.T\n",
            " |      array([[ 1.,  3.],\n",
            " |             [ 2.,  4.]])\n",
            " |      >>> x = np.array([1.,2.,3.,4.])\n",
            " |      >>> x\n",
            " |      array([ 1.,  2.,  3.,  4.])\n",
            " |      >>> x.T\n",
            " |      array([ 1.,  2.,  3.,  4.])\n",
            " |      \n",
            " |      See Also\n",
            " |      --------\n",
            " |      transpose\n",
            " |  \n",
            " |  __array_finalize__\n",
            " |      None.\n",
            " |  \n",
            " |  __array_interface__\n",
            " |      Array protocol: Python side.\n",
            " |  \n",
            " |  __array_priority__\n",
            " |      Array priority.\n",
            " |  \n",
            " |  __array_struct__\n",
            " |      Array protocol: C-struct side.\n",
            " |  \n",
            " |  base\n",
            " |      Base object if memory is from some other object.\n",
            " |      \n",
            " |      Examples\n",
            " |      --------\n",
            " |      The base of an array that owns its memory is None:\n",
            " |      \n",
            " |      >>> x = np.array([1,2,3,4])\n",
            " |      >>> x.base is None\n",
            " |      True\n",
            " |      \n",
            " |      Slicing creates a view, whose memory is shared with x:\n",
            " |      \n",
            " |      >>> y = x[2:]\n",
            " |      >>> y.base is x\n",
            " |      True\n",
            " |  \n",
            " |  ctypes\n",
            " |      An object to simplify the interaction of the array with the ctypes\n",
            " |      module.\n",
            " |      \n",
            " |      This attribute creates an object that makes it easier to use arrays\n",
            " |      when calling shared libraries with the ctypes module. The returned\n",
            " |      object has, among others, data, shape, and strides attributes (see\n",
            " |      Notes below) which themselves return ctypes objects that can be used\n",
            " |      as arguments to a shared library.\n",
            " |      \n",
            " |      Parameters\n",
            " |      ----------\n",
            " |      None\n",
            " |      \n",
            " |      Returns\n",
            " |      -------\n",
            " |      c : Python object\n",
            " |          Possessing attributes data, shape, strides, etc.\n",
            " |      \n",
            " |      See Also\n",
            " |      --------\n",
            " |      numpy.ctypeslib\n",
            " |      \n",
            " |      Notes\n",
            " |      -----\n",
            " |      Below are the public attributes of this object which were documented\n",
            " |      in \"Guide to NumPy\" (we have omitted undocumented public attributes,\n",
            " |      as well as documented private attributes):\n",
            " |      \n",
            " |      .. autoattribute:: numpy.core._internal._ctypes.data\n",
            " |          :noindex:\n",
            " |      \n",
            " |      .. autoattribute:: numpy.core._internal._ctypes.shape\n",
            " |          :noindex:\n",
            " |      \n",
            " |      .. autoattribute:: numpy.core._internal._ctypes.strides\n",
            " |          :noindex:\n",
            " |      \n",
            " |      .. automethod:: numpy.core._internal._ctypes.data_as\n",
            " |          :noindex:\n",
            " |      \n",
            " |      .. automethod:: numpy.core._internal._ctypes.shape_as\n",
            " |          :noindex:\n",
            " |      \n",
            " |      .. automethod:: numpy.core._internal._ctypes.strides_as\n",
            " |          :noindex:\n",
            " |      \n",
            " |      If the ctypes module is not available, then the ctypes attribute\n",
            " |      of array objects still returns something useful, but ctypes objects\n",
            " |      are not returned and errors may be raised instead. In particular,\n",
            " |      the object will still have the ``as_parameter`` attribute which will\n",
            " |      return an integer equal to the data attribute.\n",
            " |      \n",
            " |      Examples\n",
            " |      --------\n",
            " |      >>> import ctypes\n",
            " |      >>> x\n",
            " |      array([[0, 1],\n",
            " |             [2, 3]])\n",
            " |      >>> x.ctypes.data\n",
            " |      30439712\n",
            " |      >>> x.ctypes.data_as(ctypes.POINTER(ctypes.c_long))\n",
            " |      <ctypes.LP_c_long object at 0x01F01300>\n",
            " |      >>> x.ctypes.data_as(ctypes.POINTER(ctypes.c_long)).contents\n",
            " |      c_long(0)\n",
            " |      >>> x.ctypes.data_as(ctypes.POINTER(ctypes.c_longlong)).contents\n",
            " |      c_longlong(4294967296L)\n",
            " |      >>> x.ctypes.shape\n",
            " |      <numpy.core._internal.c_long_Array_2 object at 0x01FFD580>\n",
            " |      >>> x.ctypes.shape_as(ctypes.c_long)\n",
            " |      <numpy.core._internal.c_long_Array_2 object at 0x01FCE620>\n",
            " |      >>> x.ctypes.strides\n",
            " |      <numpy.core._internal.c_long_Array_2 object at 0x01FCE620>\n",
            " |      >>> x.ctypes.strides_as(ctypes.c_longlong)\n",
            " |      <numpy.core._internal.c_longlong_Array_2 object at 0x01F01300>\n",
            " |  \n",
            " |  data\n",
            " |      Python buffer object pointing to the start of the array's data.\n",
            " |  \n",
            " |  dtype\n",
            " |      Data-type of the array's elements.\n",
            " |      \n",
            " |      Parameters\n",
            " |      ----------\n",
            " |      None\n",
            " |      \n",
            " |      Returns\n",
            " |      -------\n",
            " |      d : numpy dtype object\n",
            " |      \n",
            " |      See Also\n",
            " |      --------\n",
            " |      numpy.dtype\n",
            " |      \n",
            " |      Examples\n",
            " |      --------\n",
            " |      >>> x\n",
            " |      array([[0, 1],\n",
            " |             [2, 3]])\n",
            " |      >>> x.dtype\n",
            " |      dtype('int32')\n",
            " |      >>> type(x.dtype)\n",
            " |      <type 'numpy.dtype'>\n",
            " |  \n",
            " |  flags\n",
            " |      Information about the memory layout of the array.\n",
            " |      \n",
            " |      Attributes\n",
            " |      ----------\n",
            " |      C_CONTIGUOUS (C)\n",
            " |          The data is in a single, C-style contiguous segment.\n",
            " |      F_CONTIGUOUS (F)\n",
            " |          The data is in a single, Fortran-style contiguous segment.\n",
            " |      OWNDATA (O)\n",
            " |          The array owns the memory it uses or borrows it from another object.\n",
            " |      WRITEABLE (W)\n",
            " |          The data area can be written to.  Setting this to False locks\n",
            " |          the data, making it read-only.  A view (slice, etc.) inherits WRITEABLE\n",
            " |          from its base array at creation time, but a view of a writeable\n",
            " |          array may be subsequently locked while the base array remains writeable.\n",
            " |          (The opposite is not true, in that a view of a locked array may not\n",
            " |          be made writeable.  However, currently, locking a base object does not\n",
            " |          lock any views that already reference it, so under that circumstance it\n",
            " |          is possible to alter the contents of a locked array via a previously\n",
            " |          created writeable view onto it.)  Attempting to change a non-writeable\n",
            " |          array raises a RuntimeError exception.\n",
            " |      ALIGNED (A)\n",
            " |          The data and all elements are aligned appropriately for the hardware.\n",
            " |      WRITEBACKIFCOPY (X)\n",
            " |          This array is a copy of some other array. The C-API function\n",
            " |          PyArray_ResolveWritebackIfCopy must be called before deallocating\n",
            " |          to the base array will be updated with the contents of this array.\n",
            " |      UPDATEIFCOPY (U)\n",
            " |          (Deprecated, use WRITEBACKIFCOPY) This array is a copy of some other array.\n",
            " |          When this array is\n",
            " |          deallocated, the base array will be updated with the contents of\n",
            " |          this array.\n",
            " |      FNC\n",
            " |          F_CONTIGUOUS and not C_CONTIGUOUS.\n",
            " |      FORC\n",
            " |          F_CONTIGUOUS or C_CONTIGUOUS (one-segment test).\n",
            " |      BEHAVED (B)\n",
            " |          ALIGNED and WRITEABLE.\n",
            " |      CARRAY (CA)\n",
            " |          BEHAVED and C_CONTIGUOUS.\n",
            " |      FARRAY (FA)\n",
            " |          BEHAVED and F_CONTIGUOUS and not C_CONTIGUOUS.\n",
            " |      \n",
            " |      Notes\n",
            " |      -----\n",
            " |      The `flags` object can be accessed dictionary-like (as in ``a.flags['WRITEABLE']``),\n",
            " |      or by using lowercased attribute names (as in ``a.flags.writeable``). Short flag\n",
            " |      names are only supported in dictionary access.\n",
            " |      \n",
            " |      Only the WRITEBACKIFCOPY, UPDATEIFCOPY, WRITEABLE, and ALIGNED flags can be\n",
            " |      changed by the user, via direct assignment to the attribute or dictionary\n",
            " |      entry, or by calling `ndarray.setflags`.\n",
            " |      \n",
            " |      The array flags cannot be set arbitrarily:\n",
            " |      \n",
            " |      - UPDATEIFCOPY can only be set ``False``.\n",
            " |      - WRITEBACKIFCOPY can only be set ``False``.\n",
            " |      - ALIGNED can only be set ``True`` if the data is truly aligned.\n",
            " |      - WRITEABLE can only be set ``True`` if the array owns its own memory\n",
            " |        or the ultimate owner of the memory exposes a writeable buffer\n",
            " |        interface or is a string.\n",
            " |      \n",
            " |      Arrays can be both C-style and Fortran-style contiguous simultaneously.\n",
            " |      This is clear for 1-dimensional arrays, but can also be true for higher\n",
            " |      dimensional arrays.\n",
            " |      \n",
            " |      Even for contiguous arrays a stride for a given dimension\n",
            " |      ``arr.strides[dim]`` may be *arbitrary* if ``arr.shape[dim] == 1``\n",
            " |      or the array has no elements.\n",
            " |      It does *not* generally hold that ``self.strides[-1] == self.itemsize``\n",
            " |      for C-style contiguous arrays or ``self.strides[0] == self.itemsize`` for\n",
            " |      Fortran-style contiguous arrays is true.\n",
            " |  \n",
            " |  flat\n",
            " |      A 1-D iterator over the array.\n",
            " |      \n",
            " |      This is a `numpy.flatiter` instance, which acts similarly to, but is not\n",
            " |      a subclass of, Python's built-in iterator object.\n",
            " |      \n",
            " |      See Also\n",
            " |      --------\n",
            " |      flatten : Return a copy of the array collapsed into one dimension.\n",
            " |      \n",
            " |      flatiter\n",
            " |      \n",
            " |      Examples\n",
            " |      --------\n",
            " |      >>> x = np.arange(1, 7).reshape(2, 3)\n",
            " |      >>> x\n",
            " |      array([[1, 2, 3],\n",
            " |             [4, 5, 6]])\n",
            " |      >>> x.flat[3]\n",
            " |      4\n",
            " |      >>> x.T\n",
            " |      array([[1, 4],\n",
            " |             [2, 5],\n",
            " |             [3, 6]])\n",
            " |      >>> x.T.flat[3]\n",
            " |      5\n",
            " |      >>> type(x.flat)\n",
            " |      <class 'numpy.flatiter'>\n",
            " |      \n",
            " |      An assignment example:\n",
            " |      \n",
            " |      >>> x.flat = 3; x\n",
            " |      array([[3, 3, 3],\n",
            " |             [3, 3, 3]])\n",
            " |      >>> x.flat[[1,4]] = 1; x\n",
            " |      array([[3, 1, 3],\n",
            " |             [3, 1, 3]])\n",
            " |  \n",
            " |  imag\n",
            " |      The imaginary part of the array.\n",
            " |      \n",
            " |      Examples\n",
            " |      --------\n",
            " |      >>> x = np.sqrt([1+0j, 0+1j])\n",
            " |      >>> x.imag\n",
            " |      array([ 0.        ,  0.70710678])\n",
            " |      >>> x.imag.dtype\n",
            " |      dtype('float64')\n",
            " |  \n",
            " |  itemsize\n",
            " |      Length of one array element in bytes.\n",
            " |      \n",
            " |      Examples\n",
            " |      --------\n",
            " |      >>> x = np.array([1,2,3], dtype=np.float64)\n",
            " |      >>> x.itemsize\n",
            " |      8\n",
            " |      >>> x = np.array([1,2,3], dtype=np.complex128)\n",
            " |      >>> x.itemsize\n",
            " |      16\n",
            " |  \n",
            " |  nbytes\n",
            " |      Total bytes consumed by the elements of the array.\n",
            " |      \n",
            " |      Notes\n",
            " |      -----\n",
            " |      Does not include memory consumed by non-element attributes of the\n",
            " |      array object.\n",
            " |      \n",
            " |      Examples\n",
            " |      --------\n",
            " |      >>> x = np.zeros((3,5,2), dtype=np.complex128)\n",
            " |      >>> x.nbytes\n",
            " |      480\n",
            " |      >>> np.prod(x.shape) * x.itemsize\n",
            " |      480\n",
            " |  \n",
            " |  ndim\n",
            " |      Number of array dimensions.\n",
            " |      \n",
            " |      Examples\n",
            " |      --------\n",
            " |      >>> x = np.array([1, 2, 3])\n",
            " |      >>> x.ndim\n",
            " |      1\n",
            " |      >>> y = np.zeros((2, 3, 4))\n",
            " |      >>> y.ndim\n",
            " |      3\n",
            " |  \n",
            " |  real\n",
            " |      The real part of the array.\n",
            " |      \n",
            " |      Examples\n",
            " |      --------\n",
            " |      >>> x = np.sqrt([1+0j, 0+1j])\n",
            " |      >>> x.real\n",
            " |      array([ 1.        ,  0.70710678])\n",
            " |      >>> x.real.dtype\n",
            " |      dtype('float64')\n",
            " |      \n",
            " |      See Also\n",
            " |      --------\n",
            " |      numpy.real : equivalent function\n",
            " |  \n",
            " |  shape\n",
            " |      Tuple of array dimensions.\n",
            " |      \n",
            " |      The shape property is usually used to get the current shape of an array,\n",
            " |      but may also be used to reshape the array in-place by assigning a tuple of\n",
            " |      array dimensions to it.  As with `numpy.reshape`, one of the new shape\n",
            " |      dimensions can be -1, in which case its value is inferred from the size of\n",
            " |      the array and the remaining dimensions. Reshaping an array in-place will\n",
            " |      fail if a copy is required.\n",
            " |      \n",
            " |      Examples\n",
            " |      --------\n",
            " |      >>> x = np.array([1, 2, 3, 4])\n",
            " |      >>> x.shape\n",
            " |      (4,)\n",
            " |      >>> y = np.zeros((2, 3, 4))\n",
            " |      >>> y.shape\n",
            " |      (2, 3, 4)\n",
            " |      >>> y.shape = (3, 8)\n",
            " |      >>> y\n",
            " |      array([[ 0.,  0.,  0.,  0.,  0.,  0.,  0.,  0.],\n",
            " |             [ 0.,  0.,  0.,  0.,  0.,  0.,  0.,  0.],\n",
            " |             [ 0.,  0.,  0.,  0.,  0.,  0.,  0.,  0.]])\n",
            " |      >>> y.shape = (3, 6)\n",
            " |      Traceback (most recent call last):\n",
            " |        File \"<stdin>\", line 1, in <module>\n",
            " |      ValueError: total size of new array must be unchanged\n",
            " |      >>> np.zeros((4,2))[::2].shape = (-1,)\n",
            " |      Traceback (most recent call last):\n",
            " |        File \"<stdin>\", line 1, in <module>\n",
            " |      AttributeError: incompatible shape for a non-contiguous array\n",
            " |      \n",
            " |      See Also\n",
            " |      --------\n",
            " |      numpy.reshape : similar function\n",
            " |      ndarray.reshape : similar method\n",
            " |  \n",
            " |  size\n",
            " |      Number of elements in the array.\n",
            " |      \n",
            " |      Equal to ``np.prod(a.shape)``, i.e., the product of the array's\n",
            " |      dimensions.\n",
            " |      \n",
            " |      Notes\n",
            " |      -----\n",
            " |      `a.size` returns a standard arbitrary precision Python integer. This\n",
            " |      may not be the case with other methods of obtaining the same value\n",
            " |      (like the suggested ``np.prod(a.shape)``, which returns an instance\n",
            " |      of ``np.int_``), and may be relevant if the value is used further in\n",
            " |      calculations that may overflow a fixed size integer type.\n",
            " |      \n",
            " |      Examples\n",
            " |      --------\n",
            " |      >>> x = np.zeros((3, 5, 2), dtype=np.complex128)\n",
            " |      >>> x.size\n",
            " |      30\n",
            " |      >>> np.prod(x.shape)\n",
            " |      30\n",
            " |  \n",
            " |  strides\n",
            " |      Tuple of bytes to step in each dimension when traversing an array.\n",
            " |      \n",
            " |      The byte offset of element ``(i[0], i[1], ..., i[n])`` in an array `a`\n",
            " |      is::\n",
            " |      \n",
            " |          offset = sum(np.array(i) * a.strides)\n",
            " |      \n",
            " |      A more detailed explanation of strides can be found in the\n",
            " |      \"ndarray.rst\" file in the NumPy reference guide.\n",
            " |      \n",
            " |      Notes\n",
            " |      -----\n",
            " |      Imagine an array of 32-bit integers (each 4 bytes)::\n",
            " |      \n",
            " |        x = np.array([[0, 1, 2, 3, 4],\n",
            " |                      [5, 6, 7, 8, 9]], dtype=np.int32)\n",
            " |      \n",
            " |      This array is stored in memory as 40 bytes, one after the other\n",
            " |      (known as a contiguous block of memory).  The strides of an array tell\n",
            " |      us how many bytes we have to skip in memory to move to the next position\n",
            " |      along a certain axis.  For example, we have to skip 4 bytes (1 value) to\n",
            " |      move to the next column, but 20 bytes (5 values) to get to the same\n",
            " |      position in the next row.  As such, the strides for the array `x` will be\n",
            " |      ``(20, 4)``.\n",
            " |      \n",
            " |      See Also\n",
            " |      --------\n",
            " |      numpy.lib.stride_tricks.as_strided\n",
            " |      \n",
            " |      Examples\n",
            " |      --------\n",
            " |      >>> y = np.reshape(np.arange(2*3*4), (2,3,4))\n",
            " |      >>> y\n",
            " |      array([[[ 0,  1,  2,  3],\n",
            " |              [ 4,  5,  6,  7],\n",
            " |              [ 8,  9, 10, 11]],\n",
            " |             [[12, 13, 14, 15],\n",
            " |              [16, 17, 18, 19],\n",
            " |              [20, 21, 22, 23]]])\n",
            " |      >>> y.strides\n",
            " |      (48, 16, 4)\n",
            " |      >>> y[1,1,1]\n",
            " |      17\n",
            " |      >>> offset=sum(y.strides * np.array((1,1,1)))\n",
            " |      >>> offset/y.itemsize\n",
            " |      17\n",
            " |      \n",
            " |      >>> x = np.reshape(np.arange(5*6*7*8), (5,6,7,8)).transpose(2,3,1,0)\n",
            " |      >>> x.strides\n",
            " |      (32, 4, 224, 1344)\n",
            " |      >>> i = np.array([3,5,2,2])\n",
            " |      >>> offset = sum(i * x.strides)\n",
            " |      >>> x[3,5,2,2]\n",
            " |      813\n",
            " |      >>> offset / x.itemsize\n",
            " |      813\n",
            " |  \n",
            " |  ----------------------------------------------------------------------\n",
            " |  Data and other attributes defined here:\n",
            " |  \n",
            " |  __hash__ = None\n",
            "\n"
          ],
          "name": "stdout"
        }
      ]
    },
    {
      "cell_type": "code",
      "metadata": {
        "id": "RK0dCEqVOdmj",
        "colab_type": "code",
        "colab": {}
      },
      "source": [
        "# in numpy array can be created using following ways\n",
        "#1.array 2.linspace 3.logspace 4.arrange 5.zeros 6 ones\n"
      ],
      "execution_count": 38,
      "outputs": []
    },
    {
      "cell_type": "code",
      "metadata": {
        "id": "LaP5kkEtXP21",
        "colab_type": "code",
        "colab": {
          "base_uri": "https://localhost:8080/",
          "height": 1000
        },
        "outputId": "d9bbdd10-3810-48f1-d183-7b0c56963e3b"
      },
      "source": [
        "import numpy as np\n",
        "help(np.array)"
      ],
      "execution_count": 41,
      "outputs": [
        {
          "output_type": "stream",
          "text": [
            "Help on built-in function array in module numpy:\n",
            "\n",
            "array(...)\n",
            "    array(object, dtype=None, copy=True, order='K', subok=False, ndmin=0)\n",
            "    \n",
            "    Create an array.\n",
            "    \n",
            "    Parameters\n",
            "    ----------\n",
            "    object : array_like\n",
            "        An array, any object exposing the array interface, an object whose\n",
            "        __array__ method returns an array, or any (nested) sequence.\n",
            "    dtype : data-type, optional\n",
            "        The desired data-type for the array.  If not given, then the type will\n",
            "        be determined as the minimum type required to hold the objects in the\n",
            "        sequence.\n",
            "    copy : bool, optional\n",
            "        If true (default), then the object is copied.  Otherwise, a copy will\n",
            "        only be made if __array__ returns a copy, if obj is a nested sequence,\n",
            "        or if a copy is needed to satisfy any of the other requirements\n",
            "        (`dtype`, `order`, etc.).\n",
            "    order : {'K', 'A', 'C', 'F'}, optional\n",
            "        Specify the memory layout of the array. If object is not an array, the\n",
            "        newly created array will be in C order (row major) unless 'F' is\n",
            "        specified, in which case it will be in Fortran order (column major).\n",
            "        If object is an array the following holds.\n",
            "    \n",
            "        ===== ========= ===================================================\n",
            "        order  no copy                     copy=True\n",
            "        ===== ========= ===================================================\n",
            "        'K'   unchanged F & C order preserved, otherwise most similar order\n",
            "        'A'   unchanged F order if input is F and not C, otherwise C order\n",
            "        'C'   C order   C order\n",
            "        'F'   F order   F order\n",
            "        ===== ========= ===================================================\n",
            "    \n",
            "        When ``copy=False`` and a copy is made for other reasons, the result is\n",
            "        the same as if ``copy=True``, with some exceptions for `A`, see the\n",
            "        Notes section. The default order is 'K'.\n",
            "    subok : bool, optional\n",
            "        If True, then sub-classes will be passed-through, otherwise\n",
            "        the returned array will be forced to be a base-class array (default).\n",
            "    ndmin : int, optional\n",
            "        Specifies the minimum number of dimensions that the resulting\n",
            "        array should have.  Ones will be pre-pended to the shape as\n",
            "        needed to meet this requirement.\n",
            "    \n",
            "    Returns\n",
            "    -------\n",
            "    out : ndarray\n",
            "        An array object satisfying the specified requirements.\n",
            "    \n",
            "    See Also\n",
            "    --------\n",
            "    empty_like : Return an empty array with shape and type of input.\n",
            "    ones_like : Return an array of ones with shape and type of input.\n",
            "    zeros_like : Return an array of zeros with shape and type of input.\n",
            "    full_like : Return a new array with shape of input filled with value.\n",
            "    empty : Return a new uninitialized array.\n",
            "    ones : Return a new array setting values to one.\n",
            "    zeros : Return a new array setting values to zero.\n",
            "    full : Return a new array of given shape filled with value.\n",
            "    \n",
            "    \n",
            "    Notes\n",
            "    -----\n",
            "    When order is 'A' and `object` is an array in neither 'C' nor 'F' order,\n",
            "    and a copy is forced by a change in dtype, then the order of the result is\n",
            "    not necessarily 'C' as expected. This is likely a bug.\n",
            "    \n",
            "    Examples\n",
            "    --------\n",
            "    >>> np.array([1, 2, 3])\n",
            "    array([1, 2, 3])\n",
            "    \n",
            "    Upcasting:\n",
            "    \n",
            "    >>> np.array([1, 2, 3.0])\n",
            "    array([ 1.,  2.,  3.])\n",
            "    \n",
            "    More than one dimension:\n",
            "    \n",
            "    >>> np.array([[1, 2], [3, 4]])\n",
            "    array([[1, 2],\n",
            "           [3, 4]])\n",
            "    \n",
            "    Minimum dimensions 2:\n",
            "    \n",
            "    >>> np.array([1, 2, 3], ndmin=2)\n",
            "    array([[1, 2, 3]])\n",
            "    \n",
            "    Type provided:\n",
            "    \n",
            "    >>> np.array([1, 2, 3], dtype=complex)\n",
            "    array([ 1.+0.j,  2.+0.j,  3.+0.j])\n",
            "    \n",
            "    Data-type consisting of more than one element:\n",
            "    \n",
            "    >>> x = np.array([(1,2),(3,4)],dtype=[('a','<i4'),('b','<i4')])\n",
            "    >>> x['a']\n",
            "    array([1, 3])\n",
            "    \n",
            "    Creating an array from sub-classes:\n",
            "    \n",
            "    >>> np.array(np.mat('1 2; 3 4'))\n",
            "    array([[1, 2],\n",
            "           [3, 4]])\n",
            "    \n",
            "    >>> np.array(np.mat('1 2; 3 4'), subok=True)\n",
            "    matrix([[1, 2],\n",
            "            [3, 4]])\n",
            "\n"
          ],
          "name": "stdout"
        }
      ]
    },
    {
      "cell_type": "code",
      "metadata": {
        "id": "v0TvyNdGXjIq",
        "colab_type": "code",
        "colab": {
          "base_uri": "https://localhost:8080/",
          "height": 1000
        },
        "outputId": "97c8b461-e3e0-4d6d-d634-7d741bf7d20d"
      },
      "source": [
        "help(np.linspace)"
      ],
      "execution_count": 42,
      "outputs": [
        {
          "output_type": "stream",
          "text": [
            "Help on function linspace in module numpy:\n",
            "\n",
            "linspace(start, stop, num=50, endpoint=True, retstep=False, dtype=None, axis=0)\n",
            "    Return evenly spaced numbers over a specified interval.\n",
            "    \n",
            "    Returns `num` evenly spaced samples, calculated over the\n",
            "    interval [`start`, `stop`].\n",
            "    \n",
            "    The endpoint of the interval can optionally be excluded.\n",
            "    \n",
            "    .. versionchanged:: 1.16.0\n",
            "        Non-scalar `start` and `stop` are now supported.\n",
            "    \n",
            "    Parameters\n",
            "    ----------\n",
            "    start : array_like\n",
            "        The starting value of the sequence.\n",
            "    stop : array_like\n",
            "        The end value of the sequence, unless `endpoint` is set to False.\n",
            "        In that case, the sequence consists of all but the last of ``num + 1``\n",
            "        evenly spaced samples, so that `stop` is excluded.  Note that the step\n",
            "        size changes when `endpoint` is False.\n",
            "    num : int, optional\n",
            "        Number of samples to generate. Default is 50. Must be non-negative.\n",
            "    endpoint : bool, optional\n",
            "        If True, `stop` is the last sample. Otherwise, it is not included.\n",
            "        Default is True.\n",
            "    retstep : bool, optional\n",
            "        If True, return (`samples`, `step`), where `step` is the spacing\n",
            "        between samples.\n",
            "    dtype : dtype, optional\n",
            "        The type of the output array.  If `dtype` is not given, infer the data\n",
            "        type from the other input arguments.\n",
            "    \n",
            "        .. versionadded:: 1.9.0\n",
            "    \n",
            "    axis : int, optional\n",
            "        The axis in the result to store the samples.  Relevant only if start\n",
            "        or stop are array-like.  By default (0), the samples will be along a\n",
            "        new axis inserted at the beginning. Use -1 to get an axis at the end.\n",
            "    \n",
            "        .. versionadded:: 1.16.0\n",
            "    \n",
            "    Returns\n",
            "    -------\n",
            "    samples : ndarray\n",
            "        There are `num` equally spaced samples in the closed interval\n",
            "        ``[start, stop]`` or the half-open interval ``[start, stop)``\n",
            "        (depending on whether `endpoint` is True or False).\n",
            "    step : float, optional\n",
            "        Only returned if `retstep` is True\n",
            "    \n",
            "        Size of spacing between samples.\n",
            "    \n",
            "    \n",
            "    See Also\n",
            "    --------\n",
            "    arange : Similar to `linspace`, but uses a step size (instead of the\n",
            "             number of samples).\n",
            "    geomspace : Similar to `linspace`, but with numbers spaced evenly on a log\n",
            "                scale (a geometric progression).\n",
            "    logspace : Similar to `geomspace`, but with the end points specified as\n",
            "               logarithms.\n",
            "    \n",
            "    Examples\n",
            "    --------\n",
            "    >>> np.linspace(2.0, 3.0, num=5)\n",
            "    array([2.  , 2.25, 2.5 , 2.75, 3.  ])\n",
            "    >>> np.linspace(2.0, 3.0, num=5, endpoint=False)\n",
            "    array([2. ,  2.2,  2.4,  2.6,  2.8])\n",
            "    >>> np.linspace(2.0, 3.0, num=5, retstep=True)\n",
            "    (array([2.  ,  2.25,  2.5 ,  2.75,  3.  ]), 0.25)\n",
            "    \n",
            "    Graphical illustration:\n",
            "    \n",
            "    >>> import matplotlib.pyplot as plt\n",
            "    >>> N = 8\n",
            "    >>> y = np.zeros(N)\n",
            "    >>> x1 = np.linspace(0, 10, N, endpoint=True)\n",
            "    >>> x2 = np.linspace(0, 10, N, endpoint=False)\n",
            "    >>> plt.plot(x1, y, 'o')\n",
            "    [<matplotlib.lines.Line2D object at 0x...>]\n",
            "    >>> plt.plot(x2, y + 0.5, 'o')\n",
            "    [<matplotlib.lines.Line2D object at 0x...>]\n",
            "    >>> plt.ylim([-0.5, 1])\n",
            "    (-0.5, 1)\n",
            "    >>> plt.show()\n",
            "\n"
          ],
          "name": "stdout"
        }
      ]
    },
    {
      "cell_type": "code",
      "metadata": {
        "id": "xJtV91hSZGAL",
        "colab_type": "code",
        "colab": {}
      },
      "source": [
        "x=np.linspace(0,20,num=10,dtype=str)"
      ],
      "execution_count": 56,
      "outputs": []
    },
    {
      "cell_type": "code",
      "metadata": {
        "id": "d5UnrWpLZVaz",
        "colab_type": "code",
        "colab": {
          "base_uri": "https://localhost:8080/",
          "height": 51
        },
        "outputId": "df5f1b78-58d2-4248-a304-65ec4e750acc"
      },
      "source": [
        "x"
      ],
      "execution_count": 54,
      "outputs": [
        {
          "output_type": "execute_result",
          "data": {
            "text/plain": [
              "array(['0.0', '0.0004000080001600032', '0.0008000160003200064', ...,\n",
              "       '19.999199983999677', '19.99959999199984', '20.0'], dtype='<U32')"
            ]
          },
          "metadata": {
            "tags": []
          },
          "execution_count": 54
        }
      ]
    },
    {
      "cell_type": "code",
      "metadata": {
        "id": "DGhiRmFzZWQh",
        "colab_type": "code",
        "colab": {}
      },
      "source": [
        "x=np.arange(10)"
      ],
      "execution_count": 58,
      "outputs": []
    },
    {
      "cell_type": "code",
      "metadata": {
        "id": "hZ2m-1w9a03i",
        "colab_type": "code",
        "colab": {
          "base_uri": "https://localhost:8080/",
          "height": 1000
        },
        "outputId": "aaaeb655-8b12-42d3-d4e3-3838a74f74e4"
      },
      "source": [
        "help(np.arange)"
      ],
      "execution_count": 60,
      "outputs": [
        {
          "output_type": "stream",
          "text": [
            "Help on built-in function arange in module numpy:\n",
            "\n",
            "arange(...)\n",
            "    arange([start,] stop[, step,], dtype=None)\n",
            "    \n",
            "    Return evenly spaced values within a given interval.\n",
            "    \n",
            "    Values are generated within the half-open interval ``[start, stop)``\n",
            "    (in other words, the interval including `start` but excluding `stop`).\n",
            "    For integer arguments the function is equivalent to the Python built-in\n",
            "    `range` function, but returns an ndarray rather than a list.\n",
            "    \n",
            "    When using a non-integer step, such as 0.1, the results will often not\n",
            "    be consistent.  It is better to use `numpy.linspace` for these cases.\n",
            "    \n",
            "    Parameters\n",
            "    ----------\n",
            "    start : number, optional\n",
            "        Start of interval.  The interval includes this value.  The default\n",
            "        start value is 0.\n",
            "    stop : number\n",
            "        End of interval.  The interval does not include this value, except\n",
            "        in some cases where `step` is not an integer and floating point\n",
            "        round-off affects the length of `out`.\n",
            "    step : number, optional\n",
            "        Spacing between values.  For any output `out`, this is the distance\n",
            "        between two adjacent values, ``out[i+1] - out[i]``.  The default\n",
            "        step size is 1.  If `step` is specified as a position argument,\n",
            "        `start` must also be given.\n",
            "    dtype : dtype\n",
            "        The type of the output array.  If `dtype` is not given, infer the data\n",
            "        type from the other input arguments.\n",
            "    \n",
            "    Returns\n",
            "    -------\n",
            "    arange : ndarray\n",
            "        Array of evenly spaced values.\n",
            "    \n",
            "        For floating point arguments, the length of the result is\n",
            "        ``ceil((stop - start)/step)``.  Because of floating point overflow,\n",
            "        this rule may result in the last element of `out` being greater\n",
            "        than `stop`.\n",
            "    \n",
            "    See Also\n",
            "    --------\n",
            "    numpy.linspace : Evenly spaced numbers with careful handling of endpoints.\n",
            "    numpy.ogrid: Arrays of evenly spaced numbers in N-dimensions.\n",
            "    numpy.mgrid: Grid-shaped arrays of evenly spaced numbers in N-dimensions.\n",
            "    \n",
            "    Examples\n",
            "    --------\n",
            "    >>> np.arange(3)\n",
            "    array([0, 1, 2])\n",
            "    >>> np.arange(3.0)\n",
            "    array([ 0.,  1.,  2.])\n",
            "    >>> np.arange(3,7)\n",
            "    array([3, 4, 5, 6])\n",
            "    >>> np.arange(3,7,2)\n",
            "    array([3, 5])\n",
            "\n"
          ],
          "name": "stdout"
        }
      ]
    },
    {
      "cell_type": "code",
      "metadata": {
        "id": "E9lvy8G8a91m",
        "colab_type": "code",
        "colab": {}
      },
      "source": [
        "#arange(start,stop,step)\n",
        "#step size is positive asending\n",
        "#step size is negative decending\n",
        "#"
      ],
      "execution_count": 64,
      "outputs": []
    },
    {
      "cell_type": "code",
      "metadata": {
        "id": "CCc3LV4vbf7Y",
        "colab_type": "code",
        "colab": {}
      },
      "source": [
        "x=np.arange(1,20,3)"
      ],
      "execution_count": 65,
      "outputs": []
    },
    {
      "cell_type": "code",
      "metadata": {
        "id": "y3EfmmADb0Ca",
        "colab_type": "code",
        "colab": {
          "base_uri": "https://localhost:8080/",
          "height": 34
        },
        "outputId": "bffc8579-9878-4679-acbf-356989c21b90"
      },
      "source": [
        "x"
      ],
      "execution_count": 66,
      "outputs": [
        {
          "output_type": "execute_result",
          "data": {
            "text/plain": [
              "array([ 1,  4,  7, 10, 13, 16, 19])"
            ]
          },
          "metadata": {
            "tags": []
          },
          "execution_count": 66
        }
      ]
    },
    {
      "cell_type": "code",
      "metadata": {
        "id": "DInvCkGEb0sC",
        "colab_type": "code",
        "colab": {}
      },
      "source": [
        "x=np.arange(22,11,-2)"
      ],
      "execution_count": 76,
      "outputs": []
    },
    {
      "cell_type": "code",
      "metadata": {
        "id": "enTWFIIUcTDh",
        "colab_type": "code",
        "colab": {
          "base_uri": "https://localhost:8080/",
          "height": 514
        },
        "outputId": "27cd64a6-8bed-43f8-cd44-fab64f84886c"
      },
      "source": [
        "dir(np.arange)"
      ],
      "execution_count": 82,
      "outputs": [
        {
          "output_type": "execute_result",
          "data": {
            "text/plain": [
              "['__call__',\n",
              " '__class__',\n",
              " '__delattr__',\n",
              " '__dir__',\n",
              " '__doc__',\n",
              " '__eq__',\n",
              " '__format__',\n",
              " '__ge__',\n",
              " '__getattribute__',\n",
              " '__gt__',\n",
              " '__hash__',\n",
              " '__init__',\n",
              " '__init_subclass__',\n",
              " '__le__',\n",
              " '__lt__',\n",
              " '__module__',\n",
              " '__name__',\n",
              " '__ne__',\n",
              " '__new__',\n",
              " '__qualname__',\n",
              " '__reduce__',\n",
              " '__reduce_ex__',\n",
              " '__repr__',\n",
              " '__self__',\n",
              " '__setattr__',\n",
              " '__sizeof__',\n",
              " '__str__',\n",
              " '__subclasshook__',\n",
              " '__text_signature__']"
            ]
          },
          "metadata": {
            "tags": []
          },
          "execution_count": 82
        }
      ]
    },
    {
      "cell_type": "code",
      "metadata": {
        "id": "5sySQQXycT-N",
        "colab_type": "code",
        "colab": {}
      },
      "source": [
        "##sliceing in numpy\n",
        "#array[start:stop:stepsize]\n",
        "#start=0,stop=n-1,stepsize"
      ],
      "execution_count": 83,
      "outputs": []
    },
    {
      "cell_type": "code",
      "metadata": {
        "id": "6VdiWktmej-K",
        "colab_type": "code",
        "colab": {}
      },
      "source": [
        "x=np.arange(20)"
      ],
      "execution_count": 89,
      "outputs": []
    },
    {
      "cell_type": "code",
      "metadata": {
        "id": "zQJQUgC1euX0",
        "colab_type": "code",
        "colab": {
          "base_uri": "https://localhost:8080/",
          "height": 51
        },
        "outputId": "752f129e-4f5e-4833-d831-d81c48614f11"
      },
      "source": [
        "x"
      ],
      "execution_count": 90,
      "outputs": [
        {
          "output_type": "execute_result",
          "data": {
            "text/plain": [
              "array([ 0,  1,  2,  3,  4,  5,  6,  7,  8,  9, 10, 11, 12, 13, 14, 15, 16,\n",
              "       17, 18, 19])"
            ]
          },
          "metadata": {
            "tags": []
          },
          "execution_count": 90
        }
      ]
    },
    {
      "cell_type": "code",
      "metadata": {
        "id": "FVywwIjkew2R",
        "colab_type": "code",
        "colab": {
          "base_uri": "https://localhost:8080/",
          "height": 34
        },
        "outputId": "4d03a167-002d-4531-a8d9-874792e049b6"
      },
      "source": [
        "x[1:10:2]"
      ],
      "execution_count": 92,
      "outputs": [
        {
          "output_type": "execute_result",
          "data": {
            "text/plain": [
              "array([1, 3, 5, 7, 9])"
            ]
          },
          "metadata": {
            "tags": []
          },
          "execution_count": 92
        }
      ]
    },
    {
      "cell_type": "markdown",
      "metadata": {
        "id": "92M5RnXql86o",
        "colab_type": "text"
      },
      "source": [
        "Slice a Range of Values from Two-dimensional Numpy Arrays\n",
        "\n",
        "\n",
        "[start_row_index:end_row_index,start_column_index:end_column_index]\n",
        "\n",
        "\n",
        "\n",
        "\n"
      ]
    },
    {
      "cell_type": "code",
      "metadata": {
        "id": "rL6Z2LRlmBIb",
        "colab_type": "code",
        "colab": {}
      },
      "source": [
        "a1=np.array([1,2,3,4,5])"
      ],
      "execution_count": 93,
      "outputs": []
    },
    {
      "cell_type": "code",
      "metadata": {
        "id": "raVrjI8qqIrG",
        "colab_type": "code",
        "colab": {
          "base_uri": "https://localhost:8080/",
          "height": 34
        },
        "outputId": "62e36dcd-3c0f-4c41-a70e-9d6da340ee44"
      },
      "source": [
        "a1"
      ],
      "execution_count": 94,
      "outputs": [
        {
          "output_type": "execute_result",
          "data": {
            "text/plain": [
              "array([1, 2, 3, 4, 5])"
            ]
          },
          "metadata": {
            "tags": []
          },
          "execution_count": 94
        }
      ]
    },
    {
      "cell_type": "code",
      "metadata": {
        "id": "KPnoa1KqqJlN",
        "colab_type": "code",
        "colab": {
          "base_uri": "https://localhost:8080/",
          "height": 34
        },
        "outputId": "bf1804ee-9101-45ac-9e68-f08dd0aba65d"
      },
      "source": [
        "a1[2]"
      ],
      "execution_count": 95,
      "outputs": [
        {
          "output_type": "execute_result",
          "data": {
            "text/plain": [
              "3"
            ]
          },
          "metadata": {
            "tags": []
          },
          "execution_count": 95
        }
      ]
    },
    {
      "cell_type": "code",
      "metadata": {
        "id": "dCKXfyYmqQ74",
        "colab_type": "code",
        "colab": {}
      },
      "source": [
        "a2=np.arange(30).reshape(5,6)"
      ],
      "execution_count": 99,
      "outputs": []
    },
    {
      "cell_type": "code",
      "metadata": {
        "id": "kX18BORkqYks",
        "colab_type": "code",
        "colab": {
          "base_uri": "https://localhost:8080/",
          "height": 103
        },
        "outputId": "52c281d0-dd68-4e18-b17d-c02634dcb44b"
      },
      "source": [
        "a2"
      ],
      "execution_count": 100,
      "outputs": [
        {
          "output_type": "execute_result",
          "data": {
            "text/plain": [
              "array([[ 0,  1,  2,  3,  4,  5],\n",
              "       [ 6,  7,  8,  9, 10, 11],\n",
              "       [12, 13, 14, 15, 16, 17],\n",
              "       [18, 19, 20, 21, 22, 23],\n",
              "       [24, 25, 26, 27, 28, 29]])"
            ]
          },
          "metadata": {
            "tags": []
          },
          "execution_count": 100
        }
      ]
    },
    {
      "cell_type": "code",
      "metadata": {
        "id": "VVaoksqlqZJa",
        "colab_type": "code",
        "colab": {
          "base_uri": "https://localhost:8080/",
          "height": 34
        },
        "outputId": "810a6306-8a42-408f-c99e-0a185be2f873"
      },
      "source": [
        "#indexing a[row_num,col_num]\n",
        "\n",
        "a2[0,2]"
      ],
      "execution_count": 102,
      "outputs": [
        {
          "output_type": "execute_result",
          "data": {
            "text/plain": [
              "2"
            ]
          },
          "metadata": {
            "tags": []
          },
          "execution_count": 102
        }
      ]
    },
    {
      "cell_type": "code",
      "metadata": {
        "id": "7Y1gtNQbq0ML",
        "colab_type": "code",
        "colab": {
          "base_uri": "https://localhost:8080/",
          "height": 34
        },
        "outputId": "421add8d-85da-4203-f90c-b56409f5afaf"
      },
      "source": [
        "a2[2,1]"
      ],
      "execution_count": 105,
      "outputs": [
        {
          "output_type": "execute_result",
          "data": {
            "text/plain": [
              "13"
            ]
          },
          "metadata": {
            "tags": []
          },
          "execution_count": 105
        }
      ]
    },
    {
      "cell_type": "code",
      "metadata": {
        "id": "MN3QR6GlrEnx",
        "colab_type": "code",
        "colab": {
          "base_uri": "https://localhost:8080/",
          "height": 34
        },
        "outputId": "e19f06f0-1e94-4ae0-a1c5-f3beca33b6ed"
      },
      "source": [
        "#picking row\n",
        "a2[2]"
      ],
      "execution_count": 106,
      "outputs": [
        {
          "output_type": "execute_result",
          "data": {
            "text/plain": [
              "array([12, 13, 14, 15, 16, 17])"
            ]
          },
          "metadata": {
            "tags": []
          },
          "execution_count": 106
        }
      ]
    },
    {
      "cell_type": "code",
      "metadata": {
        "id": "ac0sJpgvrlFK",
        "colab_type": "code",
        "colab": {
          "base_uri": "https://localhost:8080/",
          "height": 34
        },
        "outputId": "8771365c-7c14-4d4b-e752-91b0a645cb48"
      },
      "source": [
        "#picking coloumn\n",
        "a2[:,2]"
      ],
      "execution_count": 108,
      "outputs": [
        {
          "output_type": "execute_result",
          "data": {
            "text/plain": [
              "array([ 2,  8, 14, 20, 26])"
            ]
          },
          "metadata": {
            "tags": []
          },
          "execution_count": 108
        }
      ]
    },
    {
      "cell_type": "code",
      "metadata": {
        "id": "r_zqKHwSrxvn",
        "colab_type": "code",
        "colab": {}
      },
      "source": [
        "#3d array\n",
        "#0th matrix,1st matrix,2nd matrix,2 rows,5 coloumns\n",
        "x=np.arange(30).reshape(3,2,5)"
      ],
      "execution_count": 117,
      "outputs": []
    },
    {
      "cell_type": "code",
      "metadata": {
        "id": "pK5fONhHsakY",
        "colab_type": "code",
        "colab": {
          "base_uri": "https://localhost:8080/",
          "height": 154
        },
        "outputId": "c95ce816-4667-4194-b9d5-4e47b951c03c"
      },
      "source": [
        "x"
      ],
      "execution_count": 118,
      "outputs": [
        {
          "output_type": "execute_result",
          "data": {
            "text/plain": [
              "array([[[ 0,  1,  2,  3,  4],\n",
              "        [ 5,  6,  7,  8,  9]],\n",
              "\n",
              "       [[10, 11, 12, 13, 14],\n",
              "        [15, 16, 17, 18, 19]],\n",
              "\n",
              "       [[20, 21, 22, 23, 24],\n",
              "        [25, 26, 27, 28, 29]]])"
            ]
          },
          "metadata": {
            "tags": []
          },
          "execution_count": 118
        }
      ]
    },
    {
      "cell_type": "code",
      "metadata": {
        "id": "g2T6hvdfsbB3",
        "colab_type": "code",
        "colab": {
          "base_uri": "https://localhost:8080/",
          "height": 34
        },
        "outputId": "3115157f-7770-44e4-f385-583ac02f830c"
      },
      "source": [
        "#indexing of 3d first elemnt\n",
        "x[0,0,0]"
      ],
      "execution_count": 119,
      "outputs": [
        {
          "output_type": "execute_result",
          "data": {
            "text/plain": [
              "0"
            ]
          },
          "metadata": {
            "tags": []
          },
          "execution_count": 119
        }
      ]
    },
    {
      "cell_type": "code",
      "metadata": {
        "id": "e8D7OobHs1Mg",
        "colab_type": "code",
        "colab": {
          "base_uri": "https://localhost:8080/",
          "height": 51
        },
        "outputId": "44250f23-c803-4841-b42a-4b633f5dee82"
      },
      "source": [
        "x[0]"
      ],
      "execution_count": 112,
      "outputs": [
        {
          "output_type": "execute_result",
          "data": {
            "text/plain": [
              "array([[0, 1, 2, 3, 4],\n",
              "       [5, 6, 7, 8, 9]])"
            ]
          },
          "metadata": {
            "tags": []
          },
          "execution_count": 112
        }
      ]
    },
    {
      "cell_type": "code",
      "metadata": {
        "id": "smTM_GGTtA2p",
        "colab_type": "code",
        "colab": {
          "base_uri": "https://localhost:8080/",
          "height": 51
        },
        "outputId": "8adc6f9c-2420-4eb2-888f-a98de6c2e35a"
      },
      "source": [
        "x[1]"
      ],
      "execution_count": 113,
      "outputs": [
        {
          "output_type": "execute_result",
          "data": {
            "text/plain": [
              "array([[10, 11, 12, 13, 14],\n",
              "       [15, 16, 17, 18, 19]])"
            ]
          },
          "metadata": {
            "tags": []
          },
          "execution_count": 113
        }
      ]
    },
    {
      "cell_type": "code",
      "metadata": {
        "id": "UipIbDFbtCRs",
        "colab_type": "code",
        "colab": {
          "base_uri": "https://localhost:8080/",
          "height": 51
        },
        "outputId": "70d72c47-241d-4d5a-e414-bd522bd0dcbb"
      },
      "source": [
        "x[2]"
      ],
      "execution_count": 114,
      "outputs": [
        {
          "output_type": "execute_result",
          "data": {
            "text/plain": [
              "array([[20, 21, 22, 23, 24],\n",
              "       [25, 26, 27, 28, 29]])"
            ]
          },
          "metadata": {
            "tags": []
          },
          "execution_count": 114
        }
      ]
    },
    {
      "cell_type": "code",
      "metadata": {
        "id": "PQrLiZXVtDen",
        "colab_type": "code",
        "colab": {
          "base_uri": "https://localhost:8080/",
          "height": 34
        },
        "outputId": "5d26e694-d8eb-459d-af64-992e54292c7c"
      },
      "source": [
        "#oth matrix,oth row,2 nd elemnt\n",
        "x[0,0,3]"
      ],
      "execution_count": 120,
      "outputs": [
        {
          "output_type": "execute_result",
          "data": {
            "text/plain": [
              "3"
            ]
          },
          "metadata": {
            "tags": []
          },
          "execution_count": 120
        }
      ]
    },
    {
      "cell_type": "code",
      "metadata": {
        "id": "3cq4n_CPtNqZ",
        "colab_type": "code",
        "colab": {
          "base_uri": "https://localhost:8080/",
          "height": 34
        },
        "outputId": "0bb5e0a2-281e-4201-f531-8b03dcfd6376"
      },
      "source": [
        "#1st matrix,all rows,2 nd coloumnt\n",
        "x[2,:,3]"
      ],
      "execution_count": 116,
      "outputs": [
        {
          "output_type": "execute_result",
          "data": {
            "text/plain": [
              "array([23, 28])"
            ]
          },
          "metadata": {
            "tags": []
          },
          "execution_count": 116
        }
      ]
    },
    {
      "cell_type": "code",
      "metadata": {
        "id": "oDPYtktztgWG",
        "colab_type": "code",
        "colab": {}
      },
      "source": [
        "x=np.arange(100).reshape(5,5,4)"
      ],
      "execution_count": 123,
      "outputs": []
    },
    {
      "cell_type": "code",
      "metadata": {
        "id": "6gtTBpq_uwoA",
        "colab_type": "code",
        "colab": {
          "base_uri": "https://localhost:8080/",
          "height": 514
        },
        "outputId": "0ea1503c-a595-4f4c-9dd7-c82a011aa94d"
      },
      "source": [
        "x"
      ],
      "execution_count": 124,
      "outputs": [
        {
          "output_type": "execute_result",
          "data": {
            "text/plain": [
              "array([[[ 0,  1,  2,  3],\n",
              "        [ 4,  5,  6,  7],\n",
              "        [ 8,  9, 10, 11],\n",
              "        [12, 13, 14, 15],\n",
              "        [16, 17, 18, 19]],\n",
              "\n",
              "       [[20, 21, 22, 23],\n",
              "        [24, 25, 26, 27],\n",
              "        [28, 29, 30, 31],\n",
              "        [32, 33, 34, 35],\n",
              "        [36, 37, 38, 39]],\n",
              "\n",
              "       [[40, 41, 42, 43],\n",
              "        [44, 45, 46, 47],\n",
              "        [48, 49, 50, 51],\n",
              "        [52, 53, 54, 55],\n",
              "        [56, 57, 58, 59]],\n",
              "\n",
              "       [[60, 61, 62, 63],\n",
              "        [64, 65, 66, 67],\n",
              "        [68, 69, 70, 71],\n",
              "        [72, 73, 74, 75],\n",
              "        [76, 77, 78, 79]],\n",
              "\n",
              "       [[80, 81, 82, 83],\n",
              "        [84, 85, 86, 87],\n",
              "        [88, 89, 90, 91],\n",
              "        [92, 93, 94, 95],\n",
              "        [96, 97, 98, 99]]])"
            ]
          },
          "metadata": {
            "tags": []
          },
          "execution_count": 124
        }
      ]
    },
    {
      "cell_type": "code",
      "metadata": {
        "id": "R_5L9M62uxGS",
        "colab_type": "code",
        "colab": {
          "base_uri": "https://localhost:8080/",
          "height": 68
        },
        "outputId": "b48ffdab-e75b-4018-f466-02712d65442c"
      },
      "source": [
        "x[4,0:3,]"
      ],
      "execution_count": 130,
      "outputs": [
        {
          "output_type": "execute_result",
          "data": {
            "text/plain": [
              "array([[80, 81, 82, 83],\n",
              "       [84, 85, 86, 87],\n",
              "       [88, 89, 90, 91]])"
            ]
          },
          "metadata": {
            "tags": []
          },
          "execution_count": 130
        }
      ]
    },
    {
      "cell_type": "code",
      "metadata": {
        "id": "VWKd5u-mvq8s",
        "colab_type": "code",
        "colab": {}
      },
      "source": [
        "x=np.arange(45).reshape(3,3,5)"
      ],
      "execution_count": 133,
      "outputs": []
    },
    {
      "cell_type": "code",
      "metadata": {
        "id": "cFpJlOTaxHbo",
        "colab_type": "code",
        "colab": {
          "base_uri": "https://localhost:8080/",
          "height": 206
        },
        "outputId": "aaf1bc09-61bf-4802-bd2a-59948a9e2766"
      },
      "source": [
        "x"
      ],
      "execution_count": 134,
      "outputs": [
        {
          "output_type": "execute_result",
          "data": {
            "text/plain": [
              "array([[[ 0,  1,  2,  3,  4],\n",
              "        [ 5,  6,  7,  8,  9],\n",
              "        [10, 11, 12, 13, 14]],\n",
              "\n",
              "       [[15, 16, 17, 18, 19],\n",
              "        [20, 21, 22, 23, 24],\n",
              "        [25, 26, 27, 28, 29]],\n",
              "\n",
              "       [[30, 31, 32, 33, 34],\n",
              "        [35, 36, 37, 38, 39],\n",
              "        [40, 41, 42, 43, 44]]])"
            ]
          },
          "metadata": {
            "tags": []
          },
          "execution_count": 134
        }
      ]
    },
    {
      "cell_type": "code",
      "metadata": {
        "id": "0pYI-uGKxH5E",
        "colab_type": "code",
        "colab": {
          "base_uri": "https://localhost:8080/",
          "height": 34
        },
        "outputId": "6fcf537b-a42a-4dcb-8c74-19faad7d582f"
      },
      "source": [
        "x[0,0:2:2,0:3:2]"
      ],
      "execution_count": 136,
      "outputs": [
        {
          "output_type": "execute_result",
          "data": {
            "text/plain": [
              "array([[0, 2]])"
            ]
          },
          "metadata": {
            "tags": []
          },
          "execution_count": 136
        }
      ]
    },
    {
      "cell_type": "code",
      "metadata": {
        "id": "ZWD8T7zwxyl2",
        "colab_type": "code",
        "colab": {}
      },
      "source": [
        "x=np.arange(20).reshape(2,2,5)"
      ],
      "execution_count": 137,
      "outputs": []
    },
    {
      "cell_type": "code",
      "metadata": {
        "id": "UPIgeNjIylXM",
        "colab_type": "code",
        "colab": {
          "base_uri": "https://localhost:8080/",
          "height": 103
        },
        "outputId": "e45c64ad-3e2b-48d4-9a9c-f317a79ac4d7"
      },
      "source": [
        "x"
      ],
      "execution_count": 138,
      "outputs": [
        {
          "output_type": "execute_result",
          "data": {
            "text/plain": [
              "array([[[ 0,  1,  2,  3,  4],\n",
              "        [ 5,  6,  7,  8,  9]],\n",
              "\n",
              "       [[10, 11, 12, 13, 14],\n",
              "        [15, 16, 17, 18, 19]]])"
            ]
          },
          "metadata": {
            "tags": []
          },
          "execution_count": 138
        }
      ]
    },
    {
      "cell_type": "code",
      "metadata": {
        "id": "tNdhDzFrylpf",
        "colab_type": "code",
        "colab": {}
      },
      "source": [
        "x=np.arange(16).reshape(4,4)"
      ],
      "execution_count": 151,
      "outputs": []
    },
    {
      "cell_type": "code",
      "metadata": {
        "id": "kkka5lQ7zZU3",
        "colab_type": "code",
        "colab": {
          "base_uri": "https://localhost:8080/",
          "height": 86
        },
        "outputId": "f4aaea77-a075-4c20-ddf9-d38cbc007cf6"
      },
      "source": [
        "x"
      ],
      "execution_count": 152,
      "outputs": [
        {
          "output_type": "execute_result",
          "data": {
            "text/plain": [
              "array([[ 0,  1,  2,  3],\n",
              "       [ 4,  5,  6,  7],\n",
              "       [ 8,  9, 10, 11],\n",
              "       [12, 13, 14, 15]])"
            ]
          },
          "metadata": {
            "tags": []
          },
          "execution_count": 152
        }
      ]
    },
    {
      "cell_type": "code",
      "metadata": {
        "id": "6-zt3xDBzw3B",
        "colab_type": "code",
        "colab": {
          "base_uri": "https://localhost:8080/",
          "height": 154
        },
        "outputId": "396e095b-e342-45b7-d877-e9bd1e8c7894"
      },
      "source": [
        "x1=np.diagonal(x)\n",
        "print(np.max(x1))\n",
        "print(np.min(x1))\n",
        "print(np.sum(x1))\n",
        "print(np.mean(x1))\n",
        "print(np.transpose(np.matrix(x)))\n"
      ],
      "execution_count": 167,
      "outputs": [
        {
          "output_type": "stream",
          "text": [
            "15\n",
            "0\n",
            "30\n",
            "7.5\n",
            "[[ 0  4  8 12]\n",
            " [ 1  5  9 13]\n",
            " [ 2  6 10 14]\n",
            " [ 3  7 11 15]]\n"
          ],
          "name": "stdout"
        }
      ]
    },
    {
      "cell_type": "code",
      "metadata": {
        "id": "wBlWlRCv0d6l",
        "colab_type": "code",
        "colab": {
          "base_uri": "https://localhost:8080/",
          "height": 34
        },
        "outputId": "8a80d0a1-61f2-4735-de97-4f96d7d2faf3"
      },
      "source": [
        "x1"
      ],
      "execution_count": 154,
      "outputs": [
        {
          "output_type": "execute_result",
          "data": {
            "text/plain": [
              "array([ 0,  5, 10, 15])"
            ]
          },
          "metadata": {
            "tags": []
          },
          "execution_count": 154
        }
      ]
    },
    {
      "cell_type": "code",
      "metadata": {
        "id": "DRmfT6IT0fA1",
        "colab_type": "code",
        "colab": {}
      },
      "source": [
        "x2=np.eye(10).reshape(25,4)"
      ],
      "execution_count": 157,
      "outputs": []
    },
    {
      "cell_type": "code",
      "metadata": {
        "id": "vIouvVUt0oeh",
        "colab_type": "code",
        "colab": {
          "base_uri": "https://localhost:8080/",
          "height": 446
        },
        "outputId": "e40755e6-95af-4abb-8590-9d0f9a97e030"
      },
      "source": [
        "x2"
      ],
      "execution_count": 158,
      "outputs": [
        {
          "output_type": "execute_result",
          "data": {
            "text/plain": [
              "array([[1., 0., 0., 0.],\n",
              "       [0., 0., 0., 0.],\n",
              "       [0., 0., 0., 1.],\n",
              "       [0., 0., 0., 0.],\n",
              "       [0., 0., 0., 0.],\n",
              "       [0., 0., 1., 0.],\n",
              "       [0., 0., 0., 0.],\n",
              "       [0., 0., 0., 0.],\n",
              "       [0., 1., 0., 0.],\n",
              "       [0., 0., 0., 0.],\n",
              "       [0., 0., 0., 0.],\n",
              "       [1., 0., 0., 0.],\n",
              "       [0., 0., 0., 0.],\n",
              "       [0., 0., 0., 1.],\n",
              "       [0., 0., 0., 0.],\n",
              "       [0., 0., 0., 0.],\n",
              "       [0., 0., 1., 0.],\n",
              "       [0., 0., 0., 0.],\n",
              "       [0., 0., 0., 0.],\n",
              "       [0., 1., 0., 0.],\n",
              "       [0., 0., 0., 0.],\n",
              "       [0., 0., 0., 0.],\n",
              "       [1., 0., 0., 0.],\n",
              "       [0., 0., 0., 0.],\n",
              "       [0., 0., 0., 1.]])"
            ]
          },
          "metadata": {
            "tags": []
          },
          "execution_count": 158
        }
      ]
    },
    {
      "cell_type": "code",
      "metadata": {
        "id": "b0fVbJRc0pLc",
        "colab_type": "code",
        "colab": {}
      },
      "source": [
        "x=np.arange(20).reshape(4,5)\n",
        "x1=np.matrix(x)"
      ],
      "execution_count": 169,
      "outputs": []
    },
    {
      "cell_type": "code",
      "metadata": {
        "id": "-tV9PHVg3WBa",
        "colab_type": "code",
        "colab": {
          "base_uri": "https://localhost:8080/",
          "height": 86
        },
        "outputId": "e3db891b-66e6-4fda-b71a-73ccda1f0bae"
      },
      "source": [
        "x1"
      ],
      "execution_count": 170,
      "outputs": [
        {
          "output_type": "execute_result",
          "data": {
            "text/plain": [
              "matrix([[ 0,  1,  2,  3,  4],\n",
              "        [ 5,  6,  7,  8,  9],\n",
              "        [10, 11, 12, 13, 14],\n",
              "        [15, 16, 17, 18, 19]])"
            ]
          },
          "metadata": {
            "tags": []
          },
          "execution_count": 170
        }
      ]
    },
    {
      "cell_type": "code",
      "metadata": {
        "id": "DFfiufE13gkL",
        "colab_type": "code",
        "colab": {}
      },
      "source": [
        "x=np.arange(20).reshape(4,5)\n",
        "x2=np.matrix(x)"
      ],
      "execution_count": 171,
      "outputs": []
    },
    {
      "cell_type": "code",
      "metadata": {
        "id": "4b8SzcKw3lqx",
        "colab_type": "code",
        "colab": {}
      },
      "source": [
        "y=x1+x2"
      ],
      "execution_count": 173,
      "outputs": []
    },
    {
      "cell_type": "code",
      "metadata": {
        "id": "Tad-Gy_t3nrg",
        "colab_type": "code",
        "colab": {
          "base_uri": "https://localhost:8080/",
          "height": 86
        },
        "outputId": "b35bf7ee-1ad2-4c12-ad0e-ea47f58cf20a"
      },
      "source": [
        "y"
      ],
      "execution_count": 174,
      "outputs": [
        {
          "output_type": "execute_result",
          "data": {
            "text/plain": [
              "matrix([[ 0,  2,  4,  6,  8],\n",
              "        [10, 12, 14, 16, 18],\n",
              "        [20, 22, 24, 26, 28],\n",
              "        [30, 32, 34, 36, 38]])"
            ]
          },
          "metadata": {
            "tags": []
          },
          "execution_count": 174
        }
      ]
    },
    {
      "cell_type": "code",
      "metadata": {
        "id": "grat-EoZ3sCJ",
        "colab_type": "code",
        "colab": {
          "base_uri": "https://localhost:8080/",
          "height": 103
        },
        "outputId": "fad466ec-5b4a-4db5-a7d7-ee5d509f5cd2"
      },
      "source": [
        "print(np.transpose(y))"
      ],
      "execution_count": 176,
      "outputs": [
        {
          "output_type": "stream",
          "text": [
            "[[ 0 10 20 30]\n",
            " [ 2 12 22 32]\n",
            " [ 4 14 24 34]\n",
            " [ 6 16 26 36]\n",
            " [ 8 18 28 38]]\n"
          ],
          "name": "stdout"
        }
      ]
    },
    {
      "cell_type": "code",
      "metadata": {
        "id": "Gsv0kSGO3_tt",
        "colab_type": "code",
        "colab": {}
      },
      "source": [
        ""
      ],
      "execution_count": null,
      "outputs": []
    }
  ]
}